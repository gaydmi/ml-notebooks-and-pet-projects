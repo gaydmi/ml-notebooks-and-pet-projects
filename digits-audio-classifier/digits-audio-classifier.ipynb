{
 "cells": [
  {
   "cell_type": "markdown",
   "metadata": {
    "id": "kxCNis4c8Ygf"
   },
   "source": [
    "# Samples' preparation\n"
   ]
  },
  {
   "cell_type": "code",
   "execution_count": 1,
   "metadata": {
    "colab": {
     "base_uri": "https://localhost:8080/"
    },
    "id": "R3VxhNU-EDph",
    "outputId": "d2aa9e5a-27bb-45e3-ff77-598082700513"
   },
   "outputs": [
    {
     "name": "stdout",
     "output_type": "stream",
     "text": [
      "['20_17.wav', '46_21.wav', '23_6.wav', '05_41.wav', '49_0.wav', '11_45.wav', '01_44.wav', '25_12.wav', '52_25.wav', '17_27.wav']\n"
     ]
    }
   ],
   "source": [
    "from os import listdir\n",
    "import librosa\n",
    "import librosa.display\n",
    "import IPython\n",
    "import os\n",
    "import pandas as pd\n",
    "import soundfile as sf\n",
    "import random\n",
    "import numpy as np\n",
    "\n",
    "path_to_data = \"/media/hdd/dataset/joined_v2/\"\n",
    "\n",
    "files = [f for f in listdir(path_to_data)]\n",
    "print(files[:10])"
   ]
  },
  {
   "cell_type": "markdown",
   "metadata": {},
   "source": [
    "Open a random file and look at its waveform."
   ]
  },
  {
   "cell_type": "code",
   "execution_count": 2,
   "metadata": {
    "colab": {
     "base_uri": "https://localhost:8080/",
     "height": 296
    },
    "id": "tUu8kaghOAOr",
    "outputId": "7cb3ab07-3b9b-4df6-e628-4db76f7d3c0c"
   },
   "outputs": [
    {
     "data": {
      "text/plain": [
       "<matplotlib.collections.PolyCollection at 0x7f49d06c45e0>"
      ]
     },
     "execution_count": 2,
     "metadata": {},
     "output_type": "execute_result"
    },
    {
     "data": {
      "image/png": "[encoded data removed]",
      "text/plain": [
       "<Figure size 432x288 with 1 Axes>"
      ]
     },
     "metadata": {
      "needs_background": "light"
     },
     "output_type": "display_data"
    }
   ],
   "source": [
    "AUDIO_FILE = path_to_data + files[123]\n",
    "y, sr = librosa.load(AUDIO_FILE, sr=None)\n",
    "librosa.display.waveplot(y, sr=sr)"
   ]
  },
  {
   "cell_type": "markdown",
   "metadata": {},
   "source": [
    "It can be seen that there is a small pause between each digit and there are 10 separate signals on the chart.\n",
    "\n",
    "We trim the pauses at the beginning and at the end of each record."
   ]
  },
  {
   "cell_type": "code",
   "execution_count": 3,
   "metadata": {
    "id": "6SS--RAcCgr-"
   },
   "outputs": [],
   "source": [
    "top_db = 80\n",
    "frame_length = 16\n",
    "hop_length = 15\n",
    "\n",
    "trimmed_ys = []\n",
    "sample_rates = []\n",
    "trim_ratios = []\n",
    "for audio_name in files:\n",
    "  AUDIO_FILE = path_to_data + audio_name\n",
    "  y, sr = librosa.load(AUDIO_FILE, sr=None)\n",
    "  yt, _ = librosa.effects.trim(y, top_db=top_db, frame_length=frame_length, hop_length=hop_length)\n",
    "  trimmed_ys.append(yt)\n",
    "  sample_rates.append(sr)\n",
    "  trim_ratios.append(librosa.get_duration(yt)/librosa.get_duration(y))"
   ]
  },
  {
   "cell_type": "code",
   "execution_count": 4,
   "metadata": {
    "colab": {
     "base_uri": "https://localhost:8080/"
    },
    "id": "88hxFNKvHxmJ",
    "outputId": "32427b48-6092-4367-b15b-8fa3364db6d2"
   },
   "outputs": [
    {
     "name": "stdout",
     "output_type": "stream",
     "text": [
      "0.905383082713169 1.0\n"
     ]
    }
   ],
   "source": [
    "print(min(trim_ratios), max(trim_ratios))"
   ]
  },
  {
   "cell_type": "markdown",
   "metadata": {},
   "source": [
    "Making sure all audio files have the same sample rate"
   ]
  },
  {
   "cell_type": "code",
   "execution_count": 5,
   "metadata": {
    "colab": {
     "base_uri": "https://localhost:8080/"
    },
    "id": "0BUdAa2ZFn33",
    "outputId": "e56f8fe4-7036-4038-e078-08b335dfcf0a"
   },
   "outputs": [
    {
     "name": "stdout",
     "output_type": "stream",
     "text": [
      "{22050}\n"
     ]
    }
   ],
   "source": [
    "print(set(sample_rates))"
   ]
  },
  {
   "cell_type": "markdown",
   "metadata": {},
   "source": [
    "Next, we will divide the audio files into 10 fragments (by the number of digits) using the librosa.effects.split function, it goes through the recording with a certain step and window size, calculates the average amplitude value in the window, and if this value is below a percentage of the maximum amplitude, then the file is divided by this frame.\n",
    "Actually, here we are trying to choose these parameters in such a way that the maximum number of files is divided into 10 parts."
   ]
  },
  {
   "cell_type": "code",
   "execution_count": 6,
   "metadata": {
    "colab": {
     "base_uri": "https://localhost:8080/"
    },
    "id": "zTelUdl1GEMu",
    "outputId": "0cc94345-1454-4266-936b-928f936bb4de"
   },
   "outputs": [
    {
     "name": "stdout",
     "output_type": "stream",
     "text": [
      "Curent best at  50 256 256\n",
      "Current best ratio  0.916271186440678\n",
      "Current other splits  {10, 11, 12, 13, 14, 15, 16, 17, 18, 19, 20, 21, 22, 23, 25, 27}\n",
      "Curent best at  50 512 256\n",
      "Current best ratio  0.9667796610169491\n",
      "Current other splits  {10, 11, 12, 13, 14, 15, 16, 17, 18, 19}\n",
      "Curent best at  50 512 512\n",
      "Current best ratio  0.976271186440678\n",
      "Current other splits  {10, 11, 12, 13, 14, 15, 16}\n",
      "Curent best at  50 1024 256\n",
      "Current best ratio  0.9861016949152542\n",
      "Current other splits  {10, 11, 12, 13, 14, 15}\n",
      "Curent best at  50 1024 512\n",
      "Current best ratio  0.9894915254237289\n",
      "Current other splits  {1, 10, 11, 12, 13, 14}\n",
      "Curent best at  50 1024 1024\n",
      "Current best ratio  0.9942372881355932\n",
      "Current other splits  {1, 9, 10, 11, 12}\n"
     ]
    }
   ],
   "source": [
    "top_dbs = list(range(10, 80, 10))\n",
    "frame_lengths = [ 2**x for x in range(1, 12) ]\n",
    "hop_lengths = [ 2**x for x in range(1, 12) ]\n",
    "\n",
    "best_ratio = 0\n",
    "best_splits_nums = None\n",
    "best_top_db = None\n",
    "best_frame_length = None\n",
    "best_hop_length = None\n",
    "for top_db in top_dbs:\n",
    "  for frame_length in frame_lengths:\n",
    "    for hop_length in hop_lengths:\n",
    "      if hop_length <= frame_length:\n",
    "        splits_nums = []\n",
    "        count = 0\n",
    "        for yt in trimmed_ys:\n",
    "          inter = librosa.effects.split(yt, top_db=top_db, frame_length=frame_length, hop_length=hop_length)\n",
    "          splits_num = len(inter)\n",
    "          splits_nums.append(splits_num)\n",
    "          if splits_num == 10:\n",
    "            count += 1\n",
    "\n",
    "        cur_ratio = count/len(files)\n",
    "        if cur_ratio > best_ratio:\n",
    "            best_ratio = cur_ratio\n",
    "            best_splits_nums = splits_nums\n",
    "            best_top_db = top_db\n",
    "            best_frame_length = frame_length\n",
    "            best_hop_length = hop_length\n",
    "            print(\"Curent best at \", best_top_db, best_frame_length, best_hop_length)\n",
    "            print(\"Current best ratio \", best_ratio)\n",
    "            print(\"Current other splits \", set(best_splits_nums))"
   ]
  },
  {
   "cell_type": "markdown",
   "metadata": {},
   "source": [
    "As a result of the search, we found that the best parameters are:"
   ]
  },
  {
   "cell_type": "code",
   "execution_count": 7,
   "metadata": {
    "id": "50PU-bRwY92B"
   },
   "outputs": [],
   "source": [
    "top_db = 50\n",
    "frame_length = 1024\n",
    "hop_length = 1024\n",
    "\n",
    "splitted_ys = []\n",
    "count = 0\n",
    "for yt in trimmed_ys:\n",
    "    inter = librosa.effects.split(yt, top_db=top_db, frame_length=frame_length, hop_length=hop_length)\n",
    "    splits_num = len(inter)\n",
    "    if splits_num == 10:\n",
    "      split = []\n",
    "      for ranges in inter:\n",
    "        split.append(yt[ranges[0]:ranges[1]])\n",
    "      splitted_ys.append(split)"
   ]
  },
  {
   "cell_type": "markdown",
   "metadata": {},
   "source": [
    "We read arbitrary numbers for an arbitrary file. We make sure that they are properly cut."
   ]
  },
  {
   "cell_type": "code",
   "execution_count": 8,
   "metadata": {
    "colab": {
     "base_uri": "https://localhost:8080/",
     "height": 79
    },
    "id": "kw2YLuGI-nHa",
    "outputId": "87b20506-f1d6-4360-fdbc-7f61938b9b20"
   },
   "outputs": [
    {
     "name": "stdout",
     "output_type": "stream",
     "text": [
      "2933\n"
     ]
    },
    {
     "data": {
      "text/html": [
       "\n",
       "                <audio  controls=\"controls\" autoplay=\"autoplay\">\n",
       "                    <source src=\"data:audio/wav;base64,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\" type=\"audio/wav\" />\n",
       "                    Your browser does not support the audio element.\n",
       "                </audio>\n",
       "              "
      ],
      "text/plain": [
       "<IPython.lib.display.Audio object>"
      ]
     },
     "execution_count": 8,
     "metadata": {},
     "output_type": "execute_result"
    }
   ],
   "source": [
    "sample = splitted_ys[2080][3]\n",
    "print(len(splitted_ys))\n",
    "sr=22050\n",
    "IPython.display.Audio(sample, rate=sr, autoplay=True)"
   ]
  },
  {
   "cell_type": "markdown",
   "metadata": {},
   "source": [
    "Save the sliced files and create a csv file with metadata."
   ]
  },
  {
   "cell_type": "code",
   "execution_count": 11,
   "metadata": {
    "id": "htAMrJ_RfUcp"
   },
   "outputs": [],
   "source": [
    "directory = \"clean_joined_v2/\"\n",
    "parent_dir = \"/media/hdd/dataset/\"\n",
    "clean_dir_path = os.path.join(parent_dir, directory)\n",
    "\n",
    "os.mkdir(clean_dir_path)"
   ]
  },
  {
   "cell_type": "code",
   "execution_count": 9,
   "metadata": {
    "id": "KP2bqjoIawV9"
   },
   "outputs": [],
   "source": [
    "df = pd.DataFrame(columns=[\"relative_path\", \"classID\"])\n",
    "sr = 22050\n",
    "\n",
    "for idx, speaker in enumerate(splitted_ys):\n",
    "  for digit in range(0, 10):\n",
    "    file_name = str(idx) + \"_\" + str(digit) + \".wav\"\n",
    "    path = os.path.join(clean_dir_path, file_name)\n",
    "    y = speaker[digit]\n",
    "\n",
    "    sf.write(path, y, sr)\n",
    "    new_row = {\"relative_path\":file_name, \"classID\": digit}\n",
    "    df = df.append(new_row, ignore_index=True)"
   ]
  },
  {
   "cell_type": "markdown",
   "metadata": {},
   "source": [
    "We generate records that do not belong to any of the classes.\n",
    "Initially, it was noise, but as it turned out, the classifier works quite poorly with this. So I take a random sample, flip it around so it looks like human speech but not the sample itself, and then randomly stretch it over time and randomly rotate different harmonics."
   ]
  },
  {
   "cell_type": "code",
   "execution_count": 13,
   "metadata": {
    "id": "tQjZl8GVthn9"
   },
   "outputs": [
    {
     "data": {
      "text/html": [
       "\n",
       "                <audio  controls=\"controls\" autoplay=\"autoplay\">\n",
       "                    <source src=\"data:audio/wav;base64,UklGRhBPAABXQVZFZm10IBAAAAABAAEAIlYAAESsAAACABAAZGF0YexOAAAjACQAJgAlACcAKQApACoAMAAyADQAOAA5ADYAOAA4ADoAOwA1ADoAOQA5AD0APAA8ADwAOgA4ADkAOgA5ADgANgA2ADUALgAqACkAKwAsACoAKgArACkAKwAqACgAKgArACsAKwAuADAALwAuADAANAA3ADcAOwA/AEIAQgBFAEsAUQBUAFMAVgBXAFgAWABaAF0AYABhAF8AYABeAF0AYABhAGIAYgBiAGIAXwBgAGQAYgBhAF0AXgBiAFsAXABeAFoAWQBVAFAATgBPAFIATQBMAEoASgBHAEAAQAA/AEAAQABCAEUASgBKAEQASABQAE4ATgBTAFcAWgBaAFwAWwBiAGUAYwBfAGEAaQBrAGsAbQBzAHIAawBuAHUAbwBvAHAAbABqAGYAZwBeAGAAZwBfAFkAWgBaAFcAVABPAEwASQBCAD4ARQBDADkAOgA0ADMANQAzADEAMAAtADMAMAAsADQALgAlACUALQA2ADkAPQBEAE0AVwBZAF8AXgBkAGsAawB5AIIAgwCCAHsAegB6AHkAdwBvAG8AbQBhAGMAXgBoAF8AOAAwACkAMQAjACoAKwAUAAsA/v/2//P/9v/0/+b/5P/e/87/1//E/87/yv+6/7H/ov+t/6z/rv+x/6n/pP+k/7H/u/+t/7X/q/+u/7j/rP+8/8b/xf+7/8b/w//F/9f/8P/y/+//6v/b/+//4P/u//P/3//B/9H/4f/S/+P/yf/H/6j/iv+G/3r/h/+C/4v/cf9U/z3/O/9C/zD/If8N/wv/Av8Q/+P+1P7z/t3+0f7R/tL+zv7j/rz+wf7g/tj+2f66/sf+8f7m/u7++f4I/wr//v4b///+9P4W/wL/A/8Z/xD//f7V/un+Bv/6/tP+0P7F/s7+5f7R/ur+z/6p/qH+pf6q/qn+if6Q/qv+lv5z/mr+av46/kT+OP4p/hr+Cf4c/vP96f3u/en90f20/cH9rf2o/bf9x/29/bv9wP3C/a39i/2p/Zn9tv3B/cj96/3T/dH9wv3L/eL9wv29/eX96/3h/ef93v3p/e391v3D/dH9s/2j/cP9r/29/a79if2T/YT92vyI/Mr88vwV/e38Af0A/df8+fwC/dz8p/yM/HP8X/xg/Ez8Evz5+7v7kPue+7r73vut+6X7lPuo+/j73fu2+5T7w/s7/CH8F/yb/I38PPx+/JD83/xj/ZT9qP3a/ff96f0g/jz+fv7a/g7/d/+//53/4f8lAE4AyAANAQ8BPQE/AfcACwFRAWQBbgFxAREB+QBAAR0B0gDDAI4ASwAWANL/3v8XAK//Ev+6/pr+qf6+/rT+1v7W/sT+p/5+/qn+t/4E/4H/H//o/mn/ff/e/2MAmgDJAAIB1QBEAdABGQJ2AosC4QLvAuYCHwNIAxIDVgNmA0kDngOrAw4EXAR2BKkEkARvBHwEsgTPBCQFIAVMBXUFJAX2BL4E9wSlBFwENATyA88D3wMEBOoDEQTuA9cDkgNXA8YDAwTzAykEEAS/A6QDlAO0A+oD9QMPBBcEMQScBLIEwwSxBPEESQXkBAUFrAXmBQIG5AXwBXUGigbqBiMHlQdMCAQIFQg0CA8IeghuCFIIgAi2CAsJ8AgyCekInAg/CNsH9wfMB9sH/gfGByoH0QZJBs8FvQWYBagFdgUYBScFDwUFBbgE2AQ6BckEpwSnBKYEuQTkBCYFagWpBa4F7QUYBlAGeAbdBjMHNAeLB2cHUgezByMIJQhWCGIIXggdCNIHVgiBCNMI1QjFCM0IyAjbCMMIqQiNCF8IOwj6B8IH7AelB2cHWAcTB/YGyQbKBvoGwgbiBugGrwa9BpsGoQZoBjUGXwY+Bj8GNAYYBjkGUQYjBiEGTAZ8Bo0GdwZRBg8GJAZqBs4GBAc7Bz4H8QYJBxwHUAfLB/kHDgjnB6AHvwfmBwQILgg4CAUIwQfKB6IHkwefB1cHTAc5B9UGjQZOBr4FLwXmBGQEMgRDBOkDRgPZAtECZwI7AkYCJgLwARICWgIBAjACagJgAisCBQJIAncCkQLPAjoDfAOlA1ADcgPNA+YD9AMLBPQD2wNHBE8ETgSiBJ0EWQSDBJsEtATbBLEEywTzBP8E/ATABMEEdwQtBA4E4gPMA6wDfwMkA6sCSQLUAYUBjAFQASkB2ACiAIwAUADI/2D/e/9T/yf/F/8i/0j//P6Z/qD+rP4B/9P+k/6w/rf++P7v/gj/R/9N/y//JP8U/5r/VwB/AH4ArAADAfwAwwC/AEQBIwHgACoBPgFvAY4BcgFXAUMBCgHQAIkAtwCWAB4A6v+g/xr/f/5a/vT9sf0o/cX8jvwO/MT7s/tt+6f6j/qE+lD6DPod+g76Cvrh+a/5ufnF+er5BfoO+tL59vnX+Q76I/o9+oP6nvpu+sj6Avuu+r/6CPtx+4j7jPt/++v75fv5+y/8GfxT/I/8TPwh/F78Zvwz/Av8Jfww/Pj7jvtZ+y37LvvE+pf6b/on+vj5rPmY+UH5SfkE+br4z/ip+Ij4dvj895r3d/c29xX3+fbQ9sX2yfYs9g32NPZo9rb2dvaM9pP2rPba9kL3mffR9/731Pc5+KD49/gY+d/4C/mE+ZP5ePm++fL58/kN+vn56Pn9+c35wPmz+TD52PiQ+Bb4PfgD+G/3FffY9r/2d/Y19hn2P/b19cj1k/Vp9WX1VPVb9QD1dfWq9XP1wPUV9g329PUl9t/14/VN9lL2R/al9q72lvZm9o72Avfh9kr3uvcV+IH4pfjP+PD4G/lz+aD5qPkr+lr6ivqr+s76R/so+/L61fr6+v76Kfsn+xb7DvuQ+vD5vvl8+Tr5YPn4+Mv4r/h8+DT4Rvg1+Pj3w/d+91r3MveJ98r3qvcu9w33K/dp92T3tfdH+I34/fgV+Uj5avmn+RX6Vfqm+m77o/vN+1r8Z/y8/Az9Tv3h/Uj+gv6g/t7+Kv9x/4D/Cf8u/0D/+f7U/pX+mP5k/t39gv1S/ez8mvxq/Bj8vfub+7L7RvvZ+uH6hPpN+kH6lvoP+9/65voc+/36JPtP+zn7sPuv+8T7vfvr+1r8ZfyH/MH8fP2b/cX97v2P/mr/uv/n/3UABwEPATwBfQEUAosC3QLgAj4DpQOzAwUEKARyBDcFTQXJBBkFWgVzBS4F+gT4BNcEDQXPBH0EYAQSBKMDQAMHAxMDHwPKAgMCcwEIAcUAsQCIACQAtv9y/xD/0f5Y/zYANgABAAUAbwCmAPoAtwEDAkUCbgLTAmkDHQS7BBYFfwWfBfYFkQYaB+0HdAgDCVAJZgnZCe4JBwpDClEKBQqiCVIJVgl7CdcIowifCNQHlwdQBx8HEAd4BhcGcgUsBT8F7wSnBI4EYwQDBBgE8gPTAwgE7APHA3YDJANEAzUDLAN/A3YDUAMLA44DyQPKA/wDFQT7BCgF3QTUBY0GGwayBkMHrwdCCO8IVQlOCfgJWgrUCi4LOAvACz4MXwxcDHcM1gyxDHYMoQyCDC0M4wteCy0LCgufCkAKzQlyCe0IbgjdBwsHrgZwBuwFMwV/BIgE+wOFA3gDIgPKAtwCHwNdA5ADkQMYBGkEkATaBOkE8gS1BT4G0gZ5B34HvAcYCE4IMQnyCWwKIwtvC9wLGAz8CzcMvAylDIsMXwwTDFULvApxCjoK2QneCIsIGQhLB1YGFAZEBlcFzATPBDYEDASLA+MCXwN1A+cCpAKnAksCWAKRAjICXgJYAvUBsQHfAbMBzgHHAcABcQI4Av0BHwLAAvECbgOPA90DlASoBGkF3wUzBpcGzwbTBmIH5gdMCKMIvAioCPwIYAkXCf4IKglmCSQJ1AirCBgJrQjaB38Hpgb2Ba0F3QRZBOIDqgIYAiwBRwDs/zr/r/6W/kL+sv3D/Wb9/vxR/Wj9Xf1A/RH9J/0w/fL8Tv3F/fD9Hv6w/ib/e//4//D/bQDkAL4A+gCsAVICAQM7A+MC2ALZAkMDpwOnA5YDgwMRA5wCmwIcAvkBdgGmAPf/Uv8S/9z+mf4l/jb+mf25/CL82fsP/Pr7N/uG+n/6+/l5+Uz58vjl+E/4yPff9//3cvh/+Gr4Tvgx+EH4PPjb+Mb5wPm5+Qb6fPqp+qn6U/sz/Kj8wfxK/f79jP6j/pr+nP6z/gv/M/9r/7L/JABsAO//HABYABEAgwA5ALT/3P9n/5P+gv4t/kf9gvwq+6D6jfo2+WT4a/j193L36vXe9J71o/Ur9Vv0EPRW9N3zX/On82r0ZfQo9Aj0LvSh9Bf1sPVn9sv2HffI9yz4Bfle+uX64fpf+4b7zvul/D79oP33/Tr+Jv7f/Xn9i/2J/cb8Ofyt+2r7Hftr+sz5+/hx+Nj3JPe39qP2t/Yv9mb1UPXz9Pj0GvWQ9Lr0i/Ta873zpfOK8wf0z/OR86/zbvO582D0ePQF9Bn0LfSP9Oj0+/SB9cT16/WZ9l735/cm+T76b/qf+lX71fuZ/Av9Jv1Z/uz++f4V//v+b//5/+b/WAC7AOAALwHUAEIAIgDm/5j+kv3r/EH8Dfsg+qv5APlJ+Mv2FPax9YL1efUP9Xj0G/T686Hzk/O786jzcPNp81DzxfNm9LX1Y/Zb9s/2Vvff93T4e/nt+ZL67vos+w78z/xe/Qv+sP5H/z8AWQEhAmACDwOMA0YDpQJMArQCjwL3AeUA5P82/2j+5P23/cn9nv1N/br8cPxP/Af8rfsG+6f6+fmU+Vf57vjV+IP4Cfhr97/3C/j09zP4Y/iu+O/4I/lq+ZP5+PjG+MX45/hk+Y35dvqh+wb8yPzr/Yb+NP93ACYB2AF+ApsCjwM2BM0EOAV4BZAFJAbfBosH3gi8CV0KQQosCgMKHwoJCuEJHAmgB+cGmAXaBIAExQOiAoABUgAX/9X+2v6H/vD9R/1q/Pn7sPuW+7D7Mfvt+o36rvox+5P7bPwH/XD9RP7t/lj/eQBGAboB/wEbApoCPQMSBPMEdQXGBUIGvQZvB3MIBQmtCTEKbwliCcMJfQkXCWkI8QerB/QG9AWmBfkFhgZ5BgsGtAXPBQMGjAVPBZ4FRgX3Aw4DgQK9ApsCBwJ3AQUBJAGVAPUApAH8AUECoQHtAMwA5wDIAAUBAwHDAJMA7gAbAl0DbwRPBZYFEwZ7B2YIbwlfCocK4AohCz4LcgvuC38MAg2ODcYNzQ6ID60PChD1D4sPJg9ND1YPnw5QDZkM2gv5CmcKaQkvCagISgeaBg4GAwYcBtwEswMZAzwCrwE+AQkBbwFVAUgAyv/Z/xEA3ABKAbMB9gGYAVAB4AFbArECegMoAzIDbwRBBXkGaQjZCGwJhQrqClAMpw0DDoMObA5yDS0Nfww2DDMMLgt/CgQKZwlVCSwJRghdCA0IEAfXBp0GPgY1BpIFYwQjBPsDsgOYA6ACwAEiAkoCPgJSAkwC4wFiARABaADIAEIB8ACjABIAi/+Y/1EA5gCaAacCEAOMA00EcAWZBhgHdwcYCNQIKAmBCfQJxAolCw0LdQvtCzUMQAw/DEEMhQyNDB4MlguFCiYJGggcB2MGQAaSBX8EWgN7Ah8C7QHUAdsB3AFvAeMAjwB1AAgAv/8h/8X+nv5U/rj+aP9b/+b+MP+n/20AkwCeANIA2wAVAIn/nP8R/xX/XP+h/+P/lgAqAaEB9QHCAosDDAQTBf0E1gRaBHkDVgNuA1sDpgIiAiUCggHoAEUBfQGCAXEB6wA6AA8AhP9I/1z/gf67/ar87Ptr+8z72fve+/X7XftY+9z6VfpL+pL6O/qT+XL4qPdj92f3R/cg95D3fvdM99T3x/iJ+YT6PPv++z/8j/w+/af9Kf5e/nL+Cv8RAPgA3QEZAqICSgPEA1ME3QR9BfYE8QNWA3YDcgM+A9cCsgEjAW8Adf9e/83/df8V/tb8yPuW+1v7j/ox+ln5sveL9u/12/Ud9+X3oPe/9/n31vfH+OH50fm2+Zz5UPno+LL4XviR+EX48ff+9034gvkP+kH7Cfw3/ID8j/2y/qf+Uv5O/pT9VvwS/AX7kfo4+vn4PvgY+Pb3W/hW+PD3DPh89xj30vZy9gb2a/VB9C7zkPJq8g3zNPM589DyFvN/88Hz+vSQ9b/1MfVT9GjzNvMh8zzzzvMs9J300/S+9RX30vhO+sL75vwC/fr9Y//N/yEArgBBAKj/VP/g/xIBVwJBA6sDTQTGBKwFcQbHBq4GtQXyA3oCUQGKAFX/EP3B+6H6Pvng+KT4w/eJ9gH11vM081bzYvPM8kDx5u6O7WztNu5K7xfwze/E793vT/CO8uv0RfYm9wT3I/Yn96D43vlR+y78LfyR/KL9//9gA7cFrwbyBkwHpwfSCI0JOwlWCBMGmgNRAncB7wBiAFn+gfvB+VL5h/kK+Zf45fea9f7zQvNb8p3xWvHV8K/vCO/77o/vrfHH8gzzBfXa9W72Fvjn+Ff5W/p4+rP58fm5+Xr52PnW+Vr6b/t7/N/9cP9aAHsBLQIZAhwD3wOeA28DzgPQA2sDeAODA7UDkQTABaIGuQegCNUIJAn+CCwJoQl6CGIHHwfsBoAGYQZ4BSAFlwT6AgsDgQMOBCwDTAIzAQwAP//v/RT9LPt/+Tn4QvcY9gv2gfaR9r/2mfYj9wH4c/jq9/73RPgS+Tj6VPpU+nD7VPxh/eL/SwLKBBUHuQiHChYNpQ5jED0SrRFREPUPCg+HDmcOkA1ZDYsLVQnYCEII/Qb3BZMEmgLM/wL9fPv2+m/5PPcQ9jb04PJh8lLyyvOE9SP2fPe8+C75SvoT+0z7kfv7+qf5H/py+rz6i/yB/Zz9xv7r/3YBDARQBpgI3QmVCfEIEAl5CdsK2wvXC68LKAtCC68MLg+lEZwTihRCFc4V1RUyFuMWVxaiFOwSxRB7D88Oug1GDAYKWwg1CBkIJAikCCAICwY/BKEDdwI6AWQARv7V+5H6GflM+S77uPt0+9D7k/y4/Zv/OABfAOcAiP4X/C780/u1+977uPqy+hH8tv2QAJkDXgf4CnAOSBF/EuUTGRSeFPAVyBWCFZYVtROGEjcTExOvE1oU7BI8EWURDBASDrQMfwkQBUIAUfwH+av2+vOp8LztnezY7Ors/+7Z8O/wAPFY8ULxvPKF9DHzOvK88ZzwKfK/9XP3xPqi/RX/+QKHByYM0A/XEesRdhKfEjMTQRRsFEUTGRHkDyUPzw8RElcUMRSjE9IS1RIAFJMVxhacFEMRHA7CC7gKTwuACjAINQYAAykBGwOuBUkGTwYSBZoDNQQBBb4EbASwAmj+hPsq+Wj36vfi9u30pfMb8kfx6/Jj9OX0z/Qr84XySPRW9an2ZvhO9/L2R/fK92T7tP8sAtAEjQYKBrsHVwvpDFMPHhHhDrUO1Q55DfMOpw+ADpcPRg4sC/4N9A9JD7cOygsuCMgF6QK4ASIC2f+7/bL65PcP9qL1cfbb9j72VPPK8eHwSu8z7yTvTexo6h3oceb56B7qbeqm7Rjw6fCu86/3Ifpx+yD8YvxG/qP/6QDgAmMDeQRFBfIFKQkGC3ALXQzzC8ELAwxnC1YLdAu9CrIIagYdBZ0D4wMwBUEF0wUpBugGYgl4CvUKRAwyDH4KAQksCfYI5AfIBpsE5QFmABsB3QAt/3795vld9mD0K/Kc8A3wy+xm523i8t+j35zfH99i3+Xf1t534FDjceW76EDsVe4G8dTybPU8+bz6zftA/hcBMwQiCAwKvg25EZcTKRXhF80ZCxtoG9oYQhfTFZYTrRC9DWQKTQbyAhEBxv4X/ev8B/uU+GL3Q/Wv81rzTfCT7Gvpf+Wg4lvho99j35PgQeA24SvkH+Z16NTsK+/O8DT0wPVw9qP3Mfft9+P5b/kk+mb9VwBoAm4EkQc8C3ANGQ7XD14RhBELEf8PEBDgD/ENawxeDZQOkA9YECQQMhC/EAUS7xMMFjoU2g+yDL4IZwWcA40BUf4V+m31BfOW8r7xX/F+8Hrtvukp5uHheN+Z3bPZhNaA1EnS8NI31YDWTdsZ4AvjBOh+7arwGvST+Av6tPzc/x0AbwL3BKMEVgcPC7AMTRDzEocWoRo5G6gbGx0VHP4YiBenE7sOWwqJBToCNAHq/iv+P/84/Pj64PyT/17/Zv6m/Nv6ivgA9ST0xfKt8LvtLOya6xrtge4B8ED0a/as9sD4sPqA+ur70/qF98T2WfV49Nf2dvfc9s/3F/dl+Ef9IQJcBs4HRwdgBxQIZAi6CfMK1wmlBq0CgAIEBjAJmgwuEW8TPhZGGvUcLyGiJe8kXSLcIfoffB6aHGgXuxLzDVsI/QV5BQsF+APrAJz8bfmI9cjxcfDd62jl6uCJ2xbXataJ1Z/XMdvL2yngAeae6SHwm/aF+O/8mgCJAVgDlQS6BjIItwhgCkAOkBEOFQgYiRtbIDch3h+OIOAeAhoJF8sQywnVBLb9gffv9Djywe+q7z3vD/Gd9Gn2WPan9Rb1n/L88KLzg/Ww84Hyw/Fy8KLx0fWv+vX/WQOeA2IHwAvwC30NshBdD6oMzgvuCVkIpgcIBRoD3AJjAPX/BAF4/5L9M/wQ+pX5kvj+9yv4gfTm8IHvW++h8hb4Ivun/+oDfAWQC9ITPRoiIAwjxyNqJbQmmShOK2MrMynLJfQj+CMlJGslRCQMIUEe0Bg1FBYTsQ79COgDyfv19ZLyaO0r6+Xqvuh95ynoPuhE6qvsDOtN657uLu5k7Evsr+vp7OHtJO6h8MD0+ffw+rj/fgWwCd8LDwwaC7ML7guiCzIJ9AZFBmcD5f/n/nMASgJbA4gEvQfoCksMFQ4lEJQOfgp4B1kExgIQAoYA/v8s/gb8LvwT/s4ApgKgAVsBPwJwALkA/gK3AaD/BQAI/uL7Rf1M+3b60f3k/LX8dwFaAj0B+QGS/vH57PiC9gX0mvMy79rpxecb6LfqB+5R8oj2DPc2+tsB/QZ7DI8PSQ8FESQS+RHJFYkZ3RcXFK4TzhX4GLIe0yDpHpYb9RddFG4UMBVgEvkLYgPr/LP3g/Z690D4O/Vt8lnxa/ES9XH4Dvnj9zf3p/Ig8F7viu2L7FHsBuqB6JrsZ+8l8lX2P/qv/PL+oACaAAIBV/9i+lD2nPUb9QHzPfL48vfxJPEu8873OABvB3QJoAjRCB0MaAypCysN/A17DAUKSAibCA0LBAxSDGYNMg/+Dh0Ocw7cDTAKigc4Bj8Baf3o+gD4lfVx8tfxR/MA8iXxFPPV8jzx0vCt7abp1+dk55LlC+Ju3vfcBtvA2HvbJ+Np667vyfL1+EwBHQYxDQMUFBV5FBMR1AxpDOEPUBFVE7kSWA/GDooRYBfZHbYhiCGJHwscKBtBGbIWRhbtEDEIzgHa//sCmgMlAHAAW/8s/fL+rACxA9cEKfyK82zueuhH5m/kIeDu2lzUFNBO0h/XxN144d7gNeJx4/Djz+Wt507nV+al4vDg4eFf43/oouwg7wn0X/sQAEoEnwq/EcYU4xOjFOwU/hQLFH4RqA+OEEkP1Aq3CAQIQgdfCCoKTwu8DWELPAjaB2ADJQJmBYwA7vz1/k/7Pfv7/Vj7nfvD/lH8Hvvt+oH03vGF8XXsduj756zlU+Ku3mDcwuH+5cnmTO0V82D0HPpP/5UAYwRTB2cHJAa1AzsFcQlTCrwK5g2pED8TlxkWHoMhACX+Je4kHSQ8JcwkRyNpHkQXyBKpE9UTGRNGFkkYHhUoESoRLxDoDasKMwfHBKEAkffx7irsOehO4ozfTuBD4QXhgd8H3cjc495/3eHbGt6s2mHTuNA/0GjR2tP31CHXc96f5cjpbfGs+qEB4gUJCFIJKw57Eh0RbxEXFEcVhRRZE34TuBZXGbobGR7hHoEeKhoDGCIbFByRGeoZkRVyD2kP2wt2BrkI/Av1CEsHdAegCH8JiAfAAX/5rfRU8OzpneUo48zd69h41X7RydOr3NXiPeFL4MXjC+bW6HXumvPT9EPvculg6tntMfMU+fn87AGEBUUICRMiHtkiMygVKt4nNix/MDAwWTT+NXcxtS5qLyU0ajsyP/9Af0LQQvtBHj7XPBc8zzSBKFcdwRSdDlIHffy89iDz4u4t6YLlBeXr46zfcNkX103UntAUyRO/NbkXukC6ULjBu2jElM6o0aDUlt+A60/z6vjE+/X9HgT6BpIC+wDgBKwERAExBIwKDBAcFnYaxhqcGxweuh5XI3MlTSOrJZMk9BwjHLoevhyHILEkGyKHIIEkTCRVJfcsvCqSI6cbCwwOAqgCTfs/8rnrLeII2i/UjtS02/njgONn4bPeR9uQ3WPhF+SN45HdlNak1CfRctQI3/XkYOqQ7snwO/jdBEgNKBX/GbMXkRo/IX0mGC0aMnAwPjGhM8g2tz/eSDJVTF29WHVR3lMmVvxS0kqTPO40MCvEF8sK8wmtCG0DCfh/7XntU+wc5Y3e0dtk2xbW0sdlvRC7A7j0sKKrJLBLuqK+Ir0gwePLs9dm3yji0evR9evzHfGT8afyMvbQ92T2s/la/BL9+f00A+8L8wy5EMoXJhyAILQhEB4wHiohGCEbIU0gYSMkJqAipx5sIH8m+CxdLYAngiawII0SlA2LDJMFVf9y9mTpe98F2uzYrNsv4BXjqd371PvVstlU2JPZX9x12pbV3c2SyfbNnNPW1aXbqeJu46PlJewB8in7jAb2C0oPNhLwF+0ZNBiIIhMxHDZgOEw/TEfvUMVV5Fg7XudhqWAOXexYGFG5SXFBuzThI2Ma2hQUDHQFkv3+87nt/uXI3ULbCdvg1O3GxLjzsu+xiq7UrVWtPbHTtIKwgK+HuqzLR9RK1BzZouQf6cTmuObR7lz5m/mn9U35af6Q/i39/gDSB+wKqAu9C6IMggwgDEkO4xCYEk0VOxNsDyIVVxokGcAZihsbG6MY6Rn3HModoxi7DoAP5gwdAAj5VPZ885rtOuN63nbkwef64ZDYd9I/1jrdfNfPzzHRkM9UzRrNkMre0D3YbNQr0IPOPdZb4pbn5+3X8/PySfQY+gsAfQvuFHcY1h2KJXcszy8dOQpG6EqSUCBVjleTXhhfFFVAUsBTdk5aSeA9ujBEKfUf9hb0Eo0Oqwjl/0Xzduwm66zoRtyAzq/L5sclvgG2cLVqt2603bRht5y90Mg4ylbIV8p70dDc5eTT5ILlJey/6BXgzOOR8CH1AfAW7mbxEe/v7O/1iP3kAS4AY/k2/XkCGALMBr8MEw/VFrsXLA5CE7se9h5IG7YdpyrOLrgg0RdrGA0XKBHLCmcHHAUY/QHvheZ66jvxEvDN7snvbexV403bp9js2Dvc1tjN0brUkNjQzznFAszg1ebY49yG43fuZe7j5z7p0vF6AFoFUwP0DJMWERYqFzchVS7kNwJEikrjS1dX8WHtYAVerF8rY5hhUlV6S9tHaz8VNg4ytS01J+giGh4ME44HywntBj7zAupr6Yje28yuxKTCXr2huPOyBLXiwIzJKchBxPvLrdku3ZHapd9b7LfyS+ft22bmPPOZ68vgG+pl9jn0yfBj7mvzavtD+NL2QwI7C2UKnQoHCakQXh7AGxQR9hHgGnwdOCCFKZwtkCV3GFYSGRaxHNob9xNdDHkDD/rd8nb2jv3KBNIHq/wz99X0ZPGN8Uzxs+1O6S/n7d160EjKhM1kyxzGV8tD1xjaXNIe1W7b8eAH6h7w+vV09pj4yQHlBkYNlhkAIcMhqieqN0dGgU2OXPJro2zlZjhn/W3KZZVb1ltTWVlX7FHHSatAaTYxLmsowyHQHjsjeBm0A5v1DO4+4gnUZ9BOzg7DY7UqsD61nr7pwNXBgco+z4XRN9Uh2mTf9+RO6pXoteMt5XPszesl5hftGvF98VD4qf8k/wf1rPeaBnYMhQCr/O4HBRIbEJQE7gaoER8clxnlDUcZ5C5LLTsd/BXJG7kizRmUDGMOsBXiCHLqDuunAmUFsQJrBJgEwwQeA9b85v+UCHz/l+tI337lpulw20jMhMu9y87J8c6AzlTWIeC22XTW+d118CT4Q/BR9On84gLDDXIWdxnFIIUo0yyyNS5GDVzuZH5hCGDCYIxoBmmUXkBhQGqvZ71cKlGbSNlBpDzIN7IxpzO6L9cXpABT9IDxfeYF3OLZ+szRu3yob6TesXe7lLacsXu76MXeyGvBs8Pt2YfkodjZ1E/mePSW7rjjFOpn+sb+Vvg38yb6gwL2ARf6pvTuAKsFWPkC7w/7HwuxBGL6v/vwBmgI3QV2DsAawyEcIKoUwwh5D5AdnhsKChwAvArHBiv0ZO4M+BQGXAKn/dv7u/hf+k75lO3T5rrx9Owi2T7JUMb1zczG+8DrzmjZatJxw+7H+tYe2Vvip/Sr+NLzGu8z73r2qP/gD7oa2B3NIuoivh+kLUlGs1cmWj5THVwsYGhUL1KdXdJoHWbqWKNPMU8JS44+NDU1NYU5fzZyKNQWWwpW/T3rtdxk0vPLP8i+vxa4U7WAraGu6bK6sWC4S76TxWjMY9Ed1qbY595q4yzmZe+w++j+q/Iu7Kz05/gl+d/4K/0V/+zxYeQQ443oC+779rj7ofOJ8Uz4EvZD9Hz9hwxNEmcP7RMjG0cY8QxQD7wWRRAsBrIC0gNv/4n4svlO/zkBYwQv9yvltO4s+fL3ouxL5Hvl8No00TbPgtNH2vfaDdWuzlfQGNeH3qzh+OiH72Tvl+488Int3eWM8bkIExHfDjMUWxa7DOwOdh5TMLs8Cz00OztB7UWNQDM/EUUgUsRbBVZATa1LdFKKTHk/JUKfSEpHZzjFJjgcaAw0+ZvuSOeV1GnBbbpGwFDCm7qEtyOy6bRkwm7Fzcuh4LHmB95Q1QXXz+9v/w79evty/TL5UeUc3aPt4P3P9Xjpt+RU26nbn9gvzOfRleZp9EbzpekK8Bb7effz8oT9kBgWJ3Qj0xiqFrUZ/BJuCkgFcQi6BoQBtPyN+uf9SPRZ553e9ufT9t7vYOj/7JfzKOYW0i3Rj+F16iHi1eCN72//KvoR7YDsofIX+Jj9gwKH/1f2VOuz4Frbpufi+DL2efm/CO0G5wFUByQWoybtLkg3Lz2ZOOcx2zXUQ4pXlFlcUTFYHFkMVWlPME4uWWte9F8ETDAwRC9zLVoX/fvC85T0SOuF2gvNKMPfvYfGsMPkuAvGg9i514fQk9NL3bXh/OVw6MnnIfJ3AA76g+os9j0AXu526Evzj+vf3z/cs9Pl0ODTKNuP3U3bmehc9tn9pwhYEBQVsBUcFdMdqy77MzosvyorJaYM4foA+vX75v0x/b4AHPp08trwB+tU6eXmO+0t74rtRPleABX15N4P223rovH475L+dxVjERz+bPjP8rvzwgUNC5z5Vu8T9Lrt8trD1jzkmfVr/z0EiQC2+gz2TfL2DQMlTxvSG6Qt9C3fH9cqYEKWTTRVVFW8UMFYBV53WlZbX1+uZaBgsVC1PyUyqSccFN4DfAcHDYHysdkb3NnZeNdizbvE8c5M02bJT8gK3Nfnt+Tu2GrSHdqB4sLs7PVoBaENT/gZ3uLaDuXi6NvctMk/0BnkJd8szFjFYdcR68TpXOtcA2wn0TPXF1wHVxuBJdwhsxwJGO0VZAmb8hrlRO1w+sT1u+D86Vj9P+aKzyDdrvAj8k/uVu9t+oICpPqJ5hDTWeYaAZ/8h/rlDsYlkxvtAQv6JQV4COT+If91By4MGAB26bfR2ta58Hr+gwKs/HIKrhKMAdr0zvxbF+EXORdGIngs2zXqNJc5DjbNQ7peP13yTaFNKlmaV/FR+FFNT8dI5EDtLDAdtB4lFHkA0vou+MPu9Orp7mrxCOQu0FTFw7ZvvhLa6uWK6xnkzdXe0f7Tdtm76GD4LP7kBGn+YfLG6QrgIOiZ7BHeSdlZ4KrlbuIq4NvruPWc9zIAlA53EN8PBRWyEsQbaCTsG44XbBMEDi8Gb/kA7K7hs+QR6RLjU9z539jfFNWC0THQbNMC4TP85AxwAsr2GPGg823yafE//rkMJBkwJGceWwsn/gv/KAVv/jQAKgqLAg74l+9j6tTnmOQu80z9G/Ow77X0T/pbAuUFGQk3DqQVcCZ7LcwtHznKQ61LlE59SytROlKuSVRLiFMmU3FI1j8jPa8t+Rl2GH4bvR+RFhD3xd6Z1wzjlOqj3LHacuef5OjH0bR5xqvgRuvn36jSGN0w8x7sH9ap2CjiEuMX2/fkHvja9Ubr4dE8yObZj+F63IzVoOCV9T/w/d/P6vEHvR63EDX/2wZ/CosUuRiTHj8nYx94GzYQK/3e6FvYpdAj1l3kWOVn20nOgdCS0WfM7tIH6AAIDxucGBoJhgW4BZv6HfUzAgYYghzlFfUNWgoWCgUIewCb9n4Dcwvn/7HriuwACxEL5PWd6c/vOvvQ85zn6ulHAXQWWxK/+lD+QSErKo8lvy/+TJhjdFRORjdKUlm2ZupdpFY6WWFO2iu1CJsLgx78GmgHffFj6Nflktj5zcjUiOh176/eSckhyR/oRPdg7eXgjeCo7V7me+Cd4pTiTu1q6yzZtdAz23fiVtvt1kvYKtsy1krPl9Ud4ePjZ+HP4v/sRvygB3QL/AJYCVAg5hzdC6sLsxddGw8WABlhCRPyh+tC4w/Sn8Mr0Bzewd0G2nzRS9Gy2rrnw/AA9XkBswjCCRcY1iDiFkMN6AurCAP++/pXAP0EvBHoFkgREAmiART9hPfH/UYEWAU6EX8dlBOFAF3tLOFg8NL+TQQ3CAQO6RzsFNoGtxJ+LdhD3kopV8BlF2kMZo1hMFWAUrdmvWJtRVItUh/kDo72LPRC8ijcjdvb2GDFFr9swxzVf93S4M3pUOnN7CHu2vB4+2kBAvVg2+3f3e4L6Dvn/Oax4JzeftROxzLCdsZv1jPZddyS8AnzUOue7nDwDO9g9D/0Fwg1JnomQR4RFI8TnxQtBxn+R/nc/ikIMv859bvsrtnhzbjKk8l/yCHNptxW0UTU4POD7r/pkvPG+ODzc+3FAQEUSBXiIXom3BC4/DTquOKy65TzHPylB/ATqQ8hAkz5H+3g8vcMzB8UF2YTwSicIlAGjP9qCl4ER/5wDcwa4yC7J0UzbDZTMFgzv0QgUVteRmz0YplKVEFfU2FLzB7kDikcbhrC/Njjv+0+9HjZBblAsDbCdtQi30XmyNzL2I3ngfQD8vnytAJeBEH80uf50onY1OVn7KvswuOm1J3OlM1gx4a6/sG/06veI/Ed/iQCaflv+I75NAY3IdccGxUeJZc7VzKpI5gjghHxCKcIKQbm9Z/qqvc7713aLNCg0bXQkNOp02TGWMM+yGrYKeuV/jgSbBkWDQYGTQnoBFYKPQ9zGX4e8xCMAov1XPMH9DPraeE46kj1XPdy/Tv+sgVeD5sXWxkrEcAZhCXhLVkjCBOoGoQgJR/WHA0kBC46LlYv1TFTNy1HpFCsUMBUrVhbXFBUkE39TCM68CSkECP8+e9+5K3dydRvxb++6r4UtaOpxbY20pblq/JA9GDxpPlwBIUOegQu8rH32/lY5kzMccdx2kfgV8BXsEPFQMekvjG/uc8r7EHoF9NS3z0AqBbQFPsTsCclOBk8HSb1BRQJviQXKPAIS/5XD6gMxfh95fXfPuH43UzQhMkC2d7iTenN7wn9H/6v6Kfhety02Pbuugo6CzAB/gvrFEsM1gh1Crn84PYeCBALqwnxFLohyhkcBFD1q9wI4c4I6xZCFq0jrCOoFeYUgSPMKMYjkDP3Nu4n0yvdMT8omyR6Ngw6DDEgNY5FNk55QNo/60RIPWc2lTPsNig3SjXOHyzxBdY52LPZv8q3vNXByMrxw8uy16lAt93LodkJ4lnie+ydBLoV5hCyA1//yvnb65rlw+b6207TLdRSzYC6ga/PwGXYR90r6A74sfOe7njs0O7SBn0jdDuhSQJJBEItMjYeLQnaARAKHAax+dz71wRt+iTnVdvnyLW0Z7LqrvW3D+DY+Mb8qfxD+oX8Xfmt64ro+fGp+7T7AfGs/ogTRBYwFrgDvuyA7yT7N/jj+iASKipDKfUT3hXZF24LsRKCIdEh2h20KSQr/iaJMz0//TR3JLoyaEVEPwczyjQ/OU1FuEJbJKQjnTaAQmo2nhd5Fjch4R3DHoQomywDI8UIte3A1bjEzcyMzKrGbM7qznvBJ7VTs8insKIrrK+9MtSZ6YwHdhfpHL8XSP7G90EIHAkz/ID/HQsx94zLl7a6sEqjRaW6yaXn5+0u8/TpU+duAFMTzxgrJe9IFmirY9ZTAEgsQpIxuA0W8s7ww/ZU6AvjNO4/2GyzbKXlonWoiLXI0+vyyQH/Eg8eDhlVDAYFQgD99uzsKOne/BUNSf978SfqfeRo3UvXq9+L6vj5axZbJs4nHjQkRMFF7y9CHx0rBDc+J04Sch2yIvIQKQZYCs0VQRvbJn4uZStFNilHekWeOrw6OUA6SqtJGDNkH70awRcjDa0GJgxmEQICEe4l3XLFKL9bu2i5/MONyq/RetPT1r3S+8GQuK2zFbIYupTUrvmcDmwLMP2p7jnudO3o6mb7vQcXF0cjrQS52pPG+rqzq0mmgMGC5bHxo/tABzcK7AzbBkAK/R1jLGQqaC/ARrpNKEItLK4MS/Xp7C/Y+buJwADn0/hJ5R3agtl12DTPRL6jv0XgHAPiFVso0iLjD2/9AOSd22bUQNL510vm/QX+DC0AhwASBacJLRIGD+wC9wRHJxJE6UR1TVxMmD9fNR01Fyim/aj4iRCVE7YQthnOJDAvHTzKOMYriimaKgwn/C+HRBhGsTfiM8sstA7t9iPqy+LJ6Vfqce0N+Nf7a+g4ykHLw816xFvFuMsUzHPBxbyAr4GZpqO/xG7UEtxb+LMVOwzi7UvrS+5+5sTt9Q+6N948AS1GEs3todQrw6W5Ob9+zsPgjPKd+JXyeuj/57P3gvrP8a8C4SCjL5c8BUWpOCgrTTLbM44OTuLx1dDU8syf0Mza4t8s2mfFvbT8tTq+Osls6eoO5CUzL54sRhm+8rvkoO2n6Prewuau+aT/d/6A/FzyHfB4Cswgjhb8DQ4rxEtvSAs9dz3mTDNe816yTxA5SC1AHAH//e1s76MB3xf0IDIeWxfODMgFswXLEQsocjhER5BTilKKPH8eBgil+H3tZOtj7hHqYuni4SzMGrPxq6O+fcyvyljBbMos4bjdRc38yojTh9mr4R/vWO3Q4N3fUOx09E/3lvi4/6YJkQpKCDD/DQQMGpAqWCaMDQ3wLuQR7dfmVtipzM7L8dfA6TILLA7e/D4Jnhi1EBj/qwefIIk5q0b4MkYd8BznFH/wk9iy1CvFF6PFk4+k7LRk0bLjkeylC1Yqti+vG5YMuw0wEzcNu/1e83Lzef8F+y7t7PKj/Ub93vklBc0TCSAYK19B81lkWaBUmFOITgdF8EGtQ6Y0Ih35HyYuUxleA/gFXAH1+N4C8xUsF1YV7hiyFsYb/TEOSbFB+zF+KaEa/gr0/GPuxePb8Dr4e98UxhrDWM+nzvrWcOoy3wfS8uGx78ntF+7P7N3k5eMA7fjcssFHxivdH+8V6evbyuGK9aQBKv1eA4cSAQ70BG8F4f3hBsYgKRz+BuUASQBX6fPUqtvT6O/0vfkA9uDsiPb2C7UOABEKJbQzgix9IeEg4CJPDbfx9eXB4grhTt7z3hrUXsx40mbZ5tSdzVXpfAzcHrcn9R4sEyEJ6v/l8H3hVuYj/Tsa5SqxKKMjYCYxIX4LrAHUEVUaGRhFJTQ35jcFLpAw5jExKTQirxtHG50hnyhLMvg2tjVkONI1aSUXBcLj0NTc0m7aSOIS5uD4tg8WEoT/U/WCBkcY7RcLBkP2VAM3FeILOgD7/LX87+6TzwzENc2J3GLhv9qK4KHxUvZo6cjjZvQwDvcMLfIi6Mf2sg8OE6IHsBC2GTkUAALf7STed9Jy2dHnmOdG6T33xwG+DfgWYBbwDhUJZQm1CxMRoBHkD1wTqxTuCLf/yQBV8jLnDO+h9fPsxeaK89rzaeuR7BDvafL19+IChRsTLGgvhColFIMD3vho9QT4zvSAA58YmRegDXYCVfKI5i7q/fKA/sUW1jddSm5OEVLgRJMjqf7k7Qj0KAsVIDEjAiVvMUg2sSNxAiXjY+f/+RbwU+VV7knyiu4B+J0M0AY78ZHz+fXB6UfoM+w16YTssP0mDfEGvv6j9kbisNma3R/Xq8y30fj01yGsN7csjA96/UHp58l7tzy/A9C76F0KZRv7Hzsbyfinyua/B823xZjDiesbGvowPj9oOckPG+/m5SLaKNGo32r3mQ1uKBkrSRMrAPX3POmK3FPkZPi/DxgtmUHrPk4xLBp096/ZDc+F1q3Tosmi3KH5xwpfC0IOnRKLCqMGkAhrEdki6EIYWaVVl1J7V4VG3RwbDEQMAPOf1v/Yy/G/CY0gPzH4JtgVtxdZF8kFTQD3E4gyn0zTVX9RRUZhKysN9/yT58rTf9Sf5nfu4eOL3P/OgrtUwKba9+WD4zvtygG8EM8XhBKJAebwfvDu6qTTzcx740f5f+oe0Y/AY7mmvxzHIMHzxQDj+PcA+Nf1tf2Y/dnzTO9z7FbpDekL6RT3HhMGLSEfUvi85a3hpdbWuNqlxLZx27f2mAOR9kru9PZ78b7ruO5mAUQSjxwbN6ZDvCgzA5btduiT7Y74Q/on86P23f/e/fzsi9Bgvc/AnM+Z3rfpMvytFcYy4E46Vek21h+vKyQoGhUfEsAOvwJcDEAlhiboDnwESAFG95P1NPsvCMkcE03ybQJouWKVUxJEtToeKfUahxhuG10h0iSrKRMsXhcJ/c3t+d5RznrEJcz0464DgCR/Ptk6IyHDF8wOwvTW2EbUmuGC5PDvBv/p+P7iPdAqy17Fp7murbK0ntWc9iAIBwnQ/dnsR+Jx4FbWCMkT0/jl5t9E2r3vRf1/6ibd/uqw+o/xCdkNzA7QheO39m77Fvx/CmMcXCWgHF/8691m2P7jiuzo9zcPDSH1EB7uD+C83OLLWLfwvcXeT/+EELIVgiPhMAc6LzLgBNLTxsKTz73TCs0X4zkJeAzU9oP3iAq1DCL54wFYLgpZPm49XfM/3ypAHZkBZNRkw9znVyJNNT0lNRjVF2QMv+vd1wnkPQidLu5RqXX/f9hn90DUJJodShQZB4UEmf9W9wH1Xep51cPGe9Pu5g7kQe8SEWgiVh1/IOYqCihcHp4hDB1gDxkfBy+rIkIJmPyk8m3gS9YLyQ+/PdJs4BjfP/jPD07/FOly82n5Xt1124kAmw1kDksdlBjX+b7qhObiy1SsMKjRtGG7esYqzYnX+e6K9w7+SAhEDusX5iPJMZI1tzOQPAs3nRnc+3HjT8uHsuKmxqfEuhXZxvT2CzMQGA0QDhcRCgcx9hL75g4GGskk0i0QKXMewRNUARDs3edx4rzWAOIoAcsb6CM9Ft8OlR2jJ0sSo/Wz+oYTzhf9Gm0prBw0CikTERB0+BrxdPJE7rXzzhdSL8YgwhQIG6IglyAoHPUJy/sUAtMRHRQ7A5D3ygMvFO0ReAOx9o3xRPgjDjUj0xrCBQr9nAZSF3oUxgDd6DbjqvPQ+iTrkdJAzinkp/Pd6znd39r+7GYFQBKWGawh7iCLHOEkwiv7GY0D3PmC60Pf8+GH2EO+erbnxDHNwca9zgTiOu5z94T7QAC8AKj7XwTbIkVBikXCOGwrNxxACuP84Osy0HfJhNrX7YQCNA62D54QIg5WBAPtLOOD7oH7MRJLKi44Pzy6Q7tGuzqWLFcX0/717JTmKfPI9yjoT9t55uLyMekX3tnm7f4+Ekwz8UaxPJsuDySMIUwaBxbREiEDmPzv//P6jfMr207AF7zAzl7jitrD1GTshATQD8gIqfU27dz3SBqsKSUbVx7NLBMo2xrNDXD1R+If5mf1WPrS+LQA5QWlAJsDOgEl/E4AbPwg+TsA8wdp9ijZAN3K9S71Xu9B+gL6j/EM9vj3wOYi2gzeAdol0NzTDd1L4hjcxNnZ4o3xa/Sh8CIAGRJcE0sVAx4jD+D5RPoLBegHDgPe/h/8kf9PBtkF1/wq9PnqEPBiDkMeSR2qL0dK/0APIPITZPy62LPakvj+C6cTCx5PIy8yM0c8PGoTv/fh8yHzNPsgCLwK3RZQLjItswoG6obrGfKL81D5fP/7DlIgCy0mLHoVivtt8l7qT97D4BDul/vHABb4A/H05zTfhd0f2o/mIv4CDtsUnhNuDV78i/Gz7zrjN+T0+uIWLSEnGWcapRY/Bcf5r/LU77fyMfEL8Y/9pgOW/Or25fFx8rD/JQrNB9IGwxUQLhgjgweDARAIawxSBugC0/s/8ArsPenC3WbUatOI13ra/uO377j8uwdG/yr67wTM+g/Z/sJMwOnJl81D2Hfh7eTL8Jn/WgUm+9/sC+grA4gf8R3JDl8FOwKFBRsJXfUn3HPgOvXe/W4BgwlEEFsWeSYcNvAvByaLLcMtZyidJKcRi/4R+fQFCxT4EegSWw+/BIwEzgm2CjAINhUoJyQtjjGrM+EmahfZAAXrP/BI/rX/NfZM/n0RQgmU7irghteu2S/scfaR+asO+i7OOfUn2hBiCdID/vlU8VXmtuhq81PvG+Mt2c/c1+D+2gDXs9pX92QakR6tDvAHTBIkDSb1svM6AFkKyBdbHeMKMvma8w3qLdeKyhXRcNEGzYTj8AgMEUUBDQBaFJsfQB0RHGgb3h69I70kSRnACtwQGxibEA4AZe+47eXqeeqk7/Dx8emG1HnTGOgd9/P6kgubJKIvPS6SMYUwKBBt9z7+DgnKBD38ePpI+hf/nAhj/RHeCdFr12XinOcH3xrkXvkRBc4KcA29Ee0T9RmLJmkktAXQ5mLgKeAJ4ebfze9uBiAH3wWoCV8JhP8W8+3q7N3e4OP84gtlCLUI5BU/Ho4SOQvTB2X4nvgTDdQXqiLtLuQuCy5+Nv8wmA1v7XfiwOAR6GX53foA/s8dLyy7E64EZwm+CHAHWwq6Bb0CbQ+lFmwMxP/6+773cPSd5q7Q8tSJ7Z75aPJi9sQFNRGYEQP+he5n94oG2AOX9Ynt3vT29/HrK+Kl3zzeX9N5y6vQotnq2eHmIQUWDr8GVgqaDqEGqQZKE/0MnP+iCegWoxOmDysdCxuRCT4MSRmHFAYJDAoVDAQNKBLzEgYN5g7+DmkKHgx5FU4YThMnHAQjphJlA0YHlg6cEvQb4hg4Bj0AkwWIApfs59+R443Vh8nH0wzabtbv3l3vaPr+BXQI9gWhCPUJfvvu4RHd5eIH5pv0qQD78RDomuzg3xzZVecG75TpH+uaACAZUyRpH5IToxW3HXAd6xvpHLkV9Ql7ASgEsQc0BzgP/hmIIeoj/STgEbH3Bv7HDoELqQF+BEISJxpwGpARXgGQ84/yx/WS88vyzu1t9y4FLgLr9/vxUuZX1znaNuZb8EH55wU9EzMTnwV+/FDzEu1V6kjn6fCR/mgFOQ4XEXgCiOl+10LNGcoc2g/rVfkGBhsR2BMAC3IIxwwpDXMF4gJ0BhYQ1hvjHKETmwebACn8zPgW+gL29O1L6knl3eD93vTdO+RC9W4FlwY0BKMMtxGKEH8NkQekATwCXwW//Ev9KQAg8Fzl2eRa4UjbEOV27z3zhQJWC+UKHhH7EkoGoftX/3MKrhUlH80YnRfjGxQUpAPe8Cjtpuwe8Xj3bPLw7UrxC/NV7XPmUe3e+Ez9PQRBDc8TohVaFP0KsQaFDAwSQRWZF+oUWQvaANz3Q+vV4YvfvNkW4cDxtP5nCK0IBwIbBiwRig07+/b/4BSzF0IggSnTGGII1g6VCub2be9e9473kvZk+w/zTOIX2MPmlvSP8ZfxL/ibCscYphMGEosT4wxMC8ANRAy9DYEbKCW7G6oNDAKd9XfjLdUV4lbxUer668v/yg3zCs4GWQTW+rj52QBlAvUEYBA+GNkW1BV4EwgNCwdrA3sD8Pyk79vpbPMVBbECyvCO5/Piud7l2FTQAtEU27vkb+51+h4A1gLqDCAP8gTd+8P1c/giAwgLhg1qCDL87vQz9Yzrbt2D4GTwX/l2+DwBYg9jClUAmAQfAPnxxvM8AAwIuAiKBsUEJAXu//r2rPMj+Nn8SANxD6YRWwqXByYIggSv+zH2vfvK+A/19v7oB4wHqf5y+zv6XPupBlYM3Q4vGFkieidBJogapAWmCTcaJw1s/cQBGQKF+5QEZQv//R/7wgHEALIE+wfZAg79BAF8BFr7DPZa8GfwzP2jBLgAlfpJ/W0FUwrwDIwJBATSDCAYNBUpETwRdg7rDKQJnARsBZMHsAvIC4cGpQXuBlkEWQJ3B/UKJgrMC9oKqgonC1ID/QPPA2oAnQVHAhwDCAvHCt4C1f8kBZABL/xkAHQDIwM3AoH8ffPx7APvYPNi82/3kv4XAyQAr/1T/8f5LPmL/H/5Ff/LCVkMEQ9yFJEM8vlv9evskttb4xP1Uvbz9EECNAWoAEcDNv9l9C/4eAEH/rIEag0aD2IPARGOBZTx2fEd9PHrI+9X+x36uPMF9wr6qfgn+j35/Pe1//UE2QEeAI8CkAboChQL2QZr/fr+XgmRCTsKAhC0ET4J3wTUBRMEugWjEFcT3AdRAsIHzgleCckPUBRvEN0O4RV3ElALYAqhBQcBtAKt/hv9GP1p/osCkf7D/BT17u+3+BoB8frs+eIIRw+0DrITOhLpC1MJ8gNRA9YDjQXTC4sKnwbLCdIGHPdv8Z/zX/WG+tv+mQJsB6IM0wufCB8MghNgFZ4Qtw0TEqoSSxKtDXIJkAd6/zL51vZR+sz7RfeH8pn4OgAo+0nyvvpUAPf6RvrH+4T+9f6pAc0BA//a/Y37xvrT+w//UwFA9kDvde8/8nr4J/od92r0+fhU/Gz5hvdh+x8DSwhLBq4ICgYAA4UO3BJFBln/zADn+4L/ngXnAwYA0v/9AGT6+fU/97f1f/I+/FkDlAFlCeAK+wGTBAoG2/tw+FT6cPmG+REBMAER+K33kfp58S/mA+xN9GrzpfdUAcX/UgGZDTcNBgM1/7AA1P/SA2cDAgAGA90Ce/7k+fX5x/W69n3+sf/1+8r8zALGApYDggkmCCkGrwpiBlQClAl4C4IFiQHu/sf82Pp0/l0FQQRfAKv/fvyy+ND28Ppf/575ePjk/Vj7tPl+/5oAFPcB91cADvpz+coDNgg8AQD/1ANb/JD4WP2U/Pr2C/fk9APx+PUj/YsAlAE2AKv/NwLFASr+hwJvCX0IiASoA8UFGALC+SH44P3e933zCv7g/PH52QR4A133HPogAwMCCgGbCq4NqwZyBQMEpP59+4L2Ee8e7I31avnY9g36zPaT97z8HPXe7uT0k/WM9rQB2QCg+vj++AHY/Dr5oPgD9Hf49P4VAF/9hfit9zf6B/gf8oryN/jk/T/6if3lAd38OP9DBOD8AfcdAV8Dg/8cBj0FjP6E/h39I/dA9Nb2x/fn+tj6HfZn+Yf5lPFn9nQAAP+l/kcHyQcjA6EFjAKQ+Mz3Oftv+fr23PYN/Gn+4v0L+a3zA/LZ8jb1Ffki/2sCjwVTBJgA0wHU/v/5Kfwp/U/70/q7/gf/Yv7W/UL3RvYH+9T5+/roAb0EzgN0BNEHpQVOBUEFxQACARUEJAURBOQEXgZ0Aib+Lfpv/DYBnv4+/hD+6fkR9hT8rvwI9kP8QQAI+636fP6c/Dn5CPyx+yX4U/v1/Gv6kfyB/GX8mv2i/YP9WPtd/e8BKgXnAYMCpgZeBU4FPgYoCM0HHwRVBGYIuwdVB2YJGgdFB5UHNATaAy4CugANBGEFuQPzAukBoAF8AYwCCgJxAu8ENwSJBKsCAAEDA8cCKgAS/TD5r/jf+uj7xPp//TD/1/hN+fr8jfu4+vT7NP1d/oUBNAOwAzsEuwV4BugDNAMuAZL/LAIuAQkATgJTAu8CywPE//L8pP8AADv65fjI/2ED2/6V/oAEiwEf/Gv/gv9n/GX/qgKw/Vr5Wv7fAgkBzf3p/2H+m/eG+Gv8Hf2g+/v8QACA/3ABigODAGoArwO+BfADBQFlAmcFTQXkAqUFngi/AuT/KQNQA60B4QQkBzoDrgIABYkFAAO5BF4ITgZqA/kCGQYBBpoDHQQFBsIELwK4A3sGjQR4BXkJdgXSAiEJAwxvBl0GFwmsB+cFbgfxCZMHXwbYCCwJegakBY0F0gFEAUAG+gVRADgCeQYGA7sBXAQzAyoBaQFaAc0ClgS1AwsGlgeFBZwDewVZBv0CRAT2B4sHqQRZBvQGNQGtAQoH4wIW//cDkQQ4AbcBzQToAz8B+AJgBFwCNgEvBI4EWgJOAwAEaQGSAnkFgQN1AcEB9wL4A1EB3P+gAewCrAKmAd4BSwFkAVMA0gBjApACOwFFAdUBGgKcA9sBkP90A4gFFwLj/0UBgwOkARMBWwKqAF//PAFzAQQBlALoA0f/3vxXAfoBpf5d/wQDdQLX/q7/cwOKANL/AgJnApwBMQEyAW4CnwSkA3wFzgayA+EDtgV7BMECkwQZBXYCKAHvAIEAEf32/v0Brv5d/SgAWP+z/qUCewL7/OL9wAJNAF4A0wLKADwA9gEKAoj/qf+v/t/8n/5i/jf86f7EAbr/T/5A/lb92f33/s/8wPypAbcBNAB1ABwB1wGoAGT+av6wAlMAnv5TBCoDQv5vAHUCA/8Y/H3+Of+5/MgA7AB3/LL8Rf4e/ib7aPlv+uX8rv03/TD/EP9R/KX75f9tADz+4f88/ub+6QHRAQYB3/9U/3IAo//P/CH+TQCj/eD96gBZ/g/9kP+W//b+tP7A/4wAhP7C/38BQf8R/gH/A/6R/tv/H/7G/Un+5fww/rn+k/q7+V388PrY+Xj98/2n+vz6QfwY+2n7I/7W/EX7Wv4C/6L9q/7yAH//YP4U/zH/6wDi/6D8ovx4/mH8WPoj+yT7pfr8+0L9Jfw8+zX8h/ud+cb7Mf7s/DH8uf6G/jr9M/7V/rT8kPyZ/Lr7WPwD+yX7i/qT+on7tfsC+3v6KfuW/AD99Pui+079GP26/J7+Ev4s/I/9df8u/MT7CP5O/d/7Avyr/P766/uv/Uz8+fsy/bP8M/w0/WP9SfwF/NX8E/4W/fH83Pso+z/9qv0z+/T6gPxH+3T7Xf0j/cf8cv0y/Yz8w/0v/lj8fv0AAEH+2vx7/u7+5v2b/qz+yPxm/c/91/w5/h7/Cf3J/DP/3v2O/Y7+Kv5e/Rf/Dv9i/cn+zf4B/sr+zv3l/Yv+3v0B/kT/G/8r/tj+sv7g/bL9D/99/w3++f6W/3P/kf+R/wb+NP5s/pn+HP8E/w/+Ef5j/y7+9v1o/z3+yP2W/Tb+8f4U/0j+tf5r/9H9Uf0I/j3+kv3R/f/92f2R/Qj+6f3x/G/9Z/58/eb8bv5V/kf+tf9//zb/M//j/of/kwAM/1D+UABHANP/OQCo/zD/KADl/1n/QgFNAfX/MgCwAA8AiABtAFMA4gD/AVABpQDjASUBtQCQAeUBNAHaAT8CTAFXAhADLwHQAOgB1QH+AOIAYwG6ATABbgEdArsBNgGTAXoCdAGNAZQCfQJIAicC2gFzArkCxwLIAvECGQIcAhQDXgPDARMCLgPhAlkCVAP1ArcCGgPbAUcC0wP8AsYBNQPkAyIDDwPhAuMCUwOJAy8D+QLqA8kDrAKHA0QEFwQ5BGwDQgIyA2cE9gMUBDYEIAOtAy4EwQORBPQDdwOmA48EpwTVAwIExwPZBIcFhASbBBsFrwSaBK4E/QQkBTUF4QQzBSEFeATlBHAF2QReBDcERgUSBTEFaQUxBWgFggXDBDAF7wUFBfAEqQV1BcQErAVSBXkEAAV0Ba0EIAXVBIoF/wSABEkFlgUXBS8FvwVfBiUGOgX5BUYGuwVFBg4H6wVXBhwHIgd2BhAHCQcmBpYGHAelBtYGswb3BrMHOwcBB0IHnAdxB2UHUQdrBxwHigf+B6cHWAdlB6QHTQemB+sHsgeZB5kHkAd7B6YHZwfYB3MHRQcUCEgHnQflB2EI/AfWB8oH6Af6ByoIzgcVCB4ItwgYCCUIuwdxBw8I5weKB1UHXAc/B4MHyQZvB70HSQc2B5wHkAdvB4wH+QfIB0AHHQe5B4cHoQenB7QHkAcBB3kHFgfsBo4GKQZfBusGEgfEBskGPwejBkYHHQfuBgMHCwflBuUGAQdBB/4GFAd+B+wGvgYaB5kG5gaPBosGogbPBgwG9QbhBpwGDAZyBjMGMgapBkYGzAXTBV8GnAa7BikGDQalBTAGMwYsBiAGzwXQBT4GJQarBX0FpwVEBbQFsQVoBX0FAQVEBV4FKAXlBAcFUwVoBCsFPwUlBd0EiAQjBM0EuwRuBHAEYQRUBCcEXwQmBOcDuQOLA3kDvgObA4YDYQP/At0CowOhA8gC0gJTAz4DxAIjA08DowLfAuQCYAJ9AlgCKQJHArMCeAIWAjwCugEVAsoB5wF1ASwBdwFNAVkBWwHeAHoAhgAEAc4APwBXAGIAtgBxABUA7//G/4H/KwC+/6n/1P+j/6P/U/9n/3f/OP/i/jT/Bf9b/3z/E//u/tX+c/6a/hP/4/62/pT+jv7Y/uj+f/54/pr+jf5//tL+r/6//kH+8P2F/sL+cv4R/nT+SP4U/gT+Wf5y/lX+Hv7O/Tj+Uv4F/hL+Pv4G/tD9QP44/vH9pv0M/uz97P39/R7+Df6W/cr9Af6j/bL9w/2Y/XP9mv02/cD9d/0e/XH9VP25/UP9Hv0V/Q79Jf3u/Bn99Pzc/L780fx6/Lv8y/x//LT8k/yv/H78Y/yM/Dv85fsl/Bb8QPxm/Az8Ivzp+//7+vv8+9775fvC+7776fv9+8n7bvtN+3L7v/uU+1L7efu/+2T7QvuE+2L7lvsx+2X7mftO+0L7GfuE+2/7DftO+0P7B/tG+y/7D/sO++/6SvtG+wH7+Prz+rb6Ffvl+pT61Poa+xL7+/ra+tT6Z/va+gr78Pry+q769Prh+uD6zfrd+gb76fqm+vD6qvoW+w==\" type=\"audio/wav\" />\n",
       "                    Your browser does not support the audio element.\n",
       "                </audio>\n",
       "              "
      ],
      "text/plain": [
       "<IPython.lib.display.Audio object>"
      ]
     },
     "execution_count": 13,
     "metadata": {},
     "output_type": "execute_result"
    }
   ],
   "source": [
    "def generate_false_samples(y: np.ndarray, sample_rate: int) -> Tuple[np.ndarray, int]:\n",
    "    \"\"\"\n",
    "    Takes a randomly selected sample, inverse it, does timestretching and pitchshifting\n",
    "    \"\"\"\n",
    "    sample = y.copy()[::-1]\n",
    "    pitch_steps = random.randrange(-12, 12)\n",
    "    sample = librosa.effects.pitch_shift(sample, sample_rate, n_steps=pitch_steps)\n",
    "    sample = librosa.effects.time_stretch(sample, random.uniform(0.5, 2))\n",
    "    return (sample, sample_rate)  \n",
    "\n",
    "\n",
    "\n",
    "# Number of non-digits should be equal to number of other digits\n",
    "non_digits_num = len(splitted_ys)\n",
    "\n",
    "\n",
    "for i in range(non_digits_num):\n",
    "  speaker_num = random.randint(0, len(splitted_ys)-1)\n",
    "  digit_num = random.randint(0, 9)\n",
    "  sample = splitted_ys[speaker_num][digit_num]\n",
    "  \n",
    "  y_mod, sr = generate_false_samples(sample, sr)\n",
    "  number = 10\n",
    "  file_name = str(non_digits_num) + \"_\" + str(number) + \".wav\"\n",
    "  non_digits_num += 1\n",
    "  path = os.path.join(clean_dir_path, file_name)\n",
    "  sf.write(path, y_mod, sr)\n",
    "  new_row = {\"relative_path\":file_name, \"classID\": number}\n",
    "  df = df.append(new_row, ignore_index=True)   \n",
    "\n",
    "# Play the last audio, just to verify\n",
    "IPython.display.Audio(y_mod, rate=sr, autoplay=True)"
   ]
  },
  {
   "cell_type": "code",
   "execution_count": 14,
   "metadata": {},
   "outputs": [
    {
     "data": {
      "text/html": [
       "\n",
       "                <audio  controls=\"controls\" autoplay=\"autoplay\">\n",
       "                    <source src=\"data:audio/wav;base64,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\" type=\"audio/wav\" />\n",
       "                    Your browser does not support the audio element.\n",
       "                </audio>\n",
       "              "
      ],
      "text/plain": [
       "<IPython.lib.display.Audio object>"
      ]
     },
     "execution_count": 14,
     "metadata": {},
     "output_type": "execute_result"
    }
   ],
   "source": [
    "IPython.display.Audio(sample, rate=sr, autoplay=True)"
   ]
  },
  {
   "cell_type": "code",
   "execution_count": 15,
   "metadata": {
    "colab": {
     "base_uri": "https://localhost:8080/",
     "height": 206
    },
    "id": "rJSNirQfvruw",
    "outputId": "6204078e-a432-4763-a253-4b78d320cd2c"
   },
   "outputs": [
    {
     "data": {
      "text/html": [
       "<div>\n",
       "<style scoped>\n",
       "    .dataframe tbody tr th:only-of-type {\n",
       "        vertical-align: middle;\n",
       "    }\n",
       "\n",
       "    .dataframe tbody tr th {\n",
       "        vertical-align: top;\n",
       "    }\n",
       "\n",
       "    .dataframe thead th {\n",
       "        text-align: right;\n",
       "    }\n",
       "</style>\n",
       "<table border=\"1\" class=\"dataframe\">\n",
       "  <thead>\n",
       "    <tr style=\"text-align: right;\">\n",
       "      <th></th>\n",
       "      <th>relative_path</th>\n",
       "      <th>classID</th>\n",
       "    </tr>\n",
       "  </thead>\n",
       "  <tbody>\n",
       "    <tr>\n",
       "      <th>32260</th>\n",
       "      <td>5863_10.wav</td>\n",
       "      <td>10</td>\n",
       "    </tr>\n",
       "    <tr>\n",
       "      <th>32261</th>\n",
       "      <td>5864_10.wav</td>\n",
       "      <td>10</td>\n",
       "    </tr>\n",
       "    <tr>\n",
       "      <th>32262</th>\n",
       "      <td>5865_10.wav</td>\n",
       "      <td>10</td>\n",
       "    </tr>\n",
       "    <tr>\n",
       "      <th>32263</th>\n",
       "      <td>2_10.wav</td>\n",
       "      <td>10</td>\n",
       "    </tr>\n",
       "    <tr>\n",
       "      <th>32264</th>\n",
       "      <td>3_10.wav</td>\n",
       "      <td>10</td>\n",
       "    </tr>\n",
       "  </tbody>\n",
       "</table>\n",
       "</div>"
      ],
      "text/plain": [
       "      relative_path  classID\n",
       "32260   5863_10.wav       10\n",
       "32261   5864_10.wav       10\n",
       "32262   5865_10.wav       10\n",
       "32263      2_10.wav       10\n",
       "32264      3_10.wav       10"
      ]
     },
     "execution_count": 15,
     "metadata": {},
     "output_type": "execute_result"
    }
   ],
   "source": [
    "df.to_csv(os.path.join(clean_dir_path, \"data.csv\"), index=False)  \n",
    "df.tail()"
   ]
  },
  {
   "cell_type": "markdown",
   "metadata": {
    "id": "jpKGblcV8eGo"
   },
   "source": [
    "# Pre-processing and augmentation\n"
   ]
  },
  {
   "cell_type": "code",
   "execution_count": 107,
   "metadata": {},
   "outputs": [],
   "source": [
    "from os import listdir\n",
    "import IPython\n",
    "import os\n",
    "import math, random\n",
    "import torch\n",
    "import torchaudio\n",
    "from torchaudio import transforms\n",
    "from IPython.display import Audio\n",
    "import pandas as pd\n",
    "import matplotlib.pyplot as plt\n",
    "from typing import List, Tuple\n",
    "from tqdm.notebook import tqdm\n",
    "\n",
    "directory = \"clean_joined_v2/\"\n",
    "parent_dir = \"/media/hdd/dataset/\"\n",
    "clean_dir_path = os.path.join(parent_dir, directory)\n",
    "\n",
    "os.environ[\"CUDA_LAUNCH_BLOCKING\"] = \"1\""
   ]
  },
  {
   "cell_type": "markdown",
   "metadata": {},
   "source": [
    "We look at different versions of the spectrograms"
   ]
  },
  {
   "cell_type": "code",
   "execution_count": 108,
   "metadata": {},
   "outputs": [
    {
     "name": "stdout",
     "output_type": "stream",
     "text": [
      "2\n"
     ]
    },
    {
     "data": {
      "text/html": [
       "\n",
       "                <audio  controls=\"controls\" autoplay=\"autoplay\">\n",
       "                    <source src=\"data:audio/wav;base64,UklGRiRgAABXQVZFZm10IBAAAAABAAEAIlYAAESsAAACABAAZGF0YQBgAAAFAAUAAAALAAAABQAAAPX/AAD7//X/BQD1/wAA+//1/wAA+//1//X/+//1/wAA7//1/wUAAAAAAPv/AAD7//v/AAD7/wUACwAFAAAABQAAAAAABQAFAAsA+/8AAAsAEQALABEAEQALABcAFwARABEAEQAXABcAFwAXABEAIgAiAB0AEQARAB0ABQALABEAFwALAAUABQAFAAsABQARAAAACwAFAAAAFwALAAsAAAAFAAUACwAFAAAABQAAAAAA+/8FAAUA+/8AAAUA+/8FAAsABQAAAPv/AAAFAPv/CwALAPv/EQALAAsAEQARAAUAFwARABEAFwARABcAEQAdABEAFwALABcAFwAdACgAFwAdAB0AHQAdACgAHQAXABEAIgAdAB0AIgAXABcAHQAdABEAIgAiACIAIgAdABcALgAdABcAKAAdAB0AHQAiAB0AKAAoACIAIgAiACgAHQAXABEAEQAdABcAEQAdACIAFwAXABcAHQAdAB0AIgAiACIAEQARACgAHQAiACIAHQAdABcAEQARABcAEQAXABEAFwAdAAsAHQAXAAsAEQARABcAFwARABEACwARAAsACwARABEAEQAXABcAFwAXABcAFwAXABEAHQAdAB0AHQAiABcAIgAdABcAHQAXAB0AIgAXAAsAHQAdABcAEQAdAB0AIgAiAB0AHQAXACIAHQAXABEAHQAXABcAEQAXABcAEQAXACIAKAAoAB0AHQAiAB0AIgARACIAIgARAB0AIgAXABEAFwAXABcAIgAXABEAIgARABcAEQAiAB0AFwAdAB0AHQALAAUACwARAAsAEQALABEABQAFAAsACwALABEACwAFABEA+/8FAAUACwAAAAAABQDv/wAA+/8AAAAA+//7/wAAAAAAAAAA+/8FAPv/+/8AAPX/+//1//X/7//1/+//7//v/+n/9f/p/97/4//v/+n/7//1/+//4//j/+P/7//p/+P/4//j/97/3v/p/+n/6f/e/+P/6f/j/97/3v/e/9L/3v/p/9j/4//p/+n/4//e/+P/3v/p/97/2P/e/97/0v/S/9L/3v/Y/8z/0v/M/8z/0v/S/8z/0v/B/8b/0v/G/9L/zP/M/8z/xv/M/8z/xv/Y/97/2P/M/8z/zP/M/8z/wf/G/8z/zP+7/8b/zP/B/8b/wf+1/8b/wf+7/8H/u/+7/7X/xv/B/7v/tf+7/7v/tf/B/7X/tf+1/6//tf+v/57/pP+p/6n/r/+p/6//r/+v/6T/qf+p/6T/r/+e/57/nv+M/5j/kv+S/5L/kv+S/5L/kv+G/5L/jP+e/5j/jP+Y/4z/jP+M/5L/kv+S/4b/hv+M/4z/kv+Y/4b/hv+S/4z/mP+S/4b/jP+M/4b/jP+M/4z/gf+G/4z/hv+M/4b/e/97/4b/hv+G/4z/gf+G/4H/df97/3v/gf+B/3v/gf+B/4H/df97/4b/e/97/2//b/91/2//df9v/3v/df91/2//b/91/3X/b/97/3v/b/9v/2//e/97/3v/e/9v/3v/gf+B/3X/gf+G/3v/gf97/4b/df97/4H/gf+M/4H/hv+G/4b/gf+G/3v/gf+G/3X/gf+G/4H/hv+G/4H/hv+G/4b/e/+B/4z/jP+M/4H/jP+M/4z/hv+M/5L/hv+S/5L/hv+G/4z/kv+M/5j/kv+B/4b/kv+M/4b/jP+M/5j/kv+Y/57/kv+e/57/mP+k/6T/nv+p/6//qf+k/6n/qf+k/6//qf+v/6//qf+p/6n/tf+7/8H/xv/B/8H/xv/M/8b/wf/M/9L/zP/S/8z/3v/Y/8z/2P/Y/8z/0v/e/+P/4//e/+P/7//j/+P/4//j/+P/3v/Y/9L/2P/e/9L/4//e/97/3v/Y/+P/3v/Y/97/3v/Y/97/3v/e/97/3v/e/9j/3v/Y/+P/3v/e/+P/3v/Y/+n/6f/j/+n/4//p/9j/4//j/+n/4//Y/+P/4//e/9j/2P/Y/97/2P/Y/97/2P/Y/+P/2P/Y/9j/0v/M/97/2P/e/97/4//e/97/3v/Y/97/3v/e/9L/4//S/9L/2P/S/9j/3v/j/9j/3v/e/+P/3v/j/97/3v/e/8z/2P/Y/97/3v/e/9j/3v/e/+P/7//e/+//3v/v/+//4//p/+P/+//v/+n/6f/v/+n/7//j/+n/6f/p/+//6f/p/+P/6f/j/+n/9f/v/+n/7//j/+n/7//p/+//7//p/+P/4//p/+n/6f/p/+//9f/v//X/7//v//X/9f/1//X/+//7/+n/9f/7//X/AADv/+//7//p/+n/7//1/+//+//v//X/9f/v/+//9f/v/+n/9f/1/+//7//7//X/AAAAAPv/+/8AAAAAAAD7//v/BQD7/wUABQAAAAAABQALAAAABQALAAsABQARABEAEQAdABcAHQAiAB0AFwAXACIAHQAXAB0AIgARABcAIgAiACgAIgAdACIAKAAiABcAIgAuAC4ALgAuAC4ALgAuADoAKAAdACgAKAAoAB0AHQAoAB0ALgAiACgAKAAXACgALgAiACgAKAAXAB0AIgAiACIAHQAdAB0AIgAdACIAKAAuACgAHQAiAC4ALgA6AC4AIgA0ADQANAAuACgANAAoACgAKAAoADQALgAuAC4ALgA0AC4ALgAuACgAKAAoAC4AKAAoADQALgAuAC4AKAAuACgAKAAuAC4ANAAuACgAKAAiACgAIgAuADQAKAAoAC4ALgAuAC4ANAA6ACgALgA0ADQANAAuADQAOgA6AC4ALgA0ADoAOgAoADQALgA0ADQANAA0ADoAOgA0ADoANAA0ADQANAA0AC4ALgAuACgALgAoAC4AOgAuADQALgAuADQAKAA0ADQANAAoAC4AKAAoAC4AKAAuACgALgAoAB0AIgAoACgAKAAiACIAHQAoAB0AFwAXAB0AIgAiACgAHQAuACIAKAAdABcAFwAXABEAFwAdABEAHQALABEACwARABEABQALABEAEQARAAsACwALAAUAAAAAAAUAAAAAAPX/AAD1//v/9f/1//v/4//1/+n/6f/p/+n/6f/p/+P/4//v/+n/6f/e/9j/3v/j/97/0v/Y/9L/zP/S/9L/2P/e/9j/zP/S/9L/0v/Y/9L/zP/S/8z/xv/S/8b/xv/S/8z/zP/G/8b/xv/B/8b/wf/G/8z/wf/B/7v/xv/G/8H/wf/B/7v/wf/B/8H/u//B/8H/u//B/7v/u/+7/8H/xv+1/7v/u/+1/7X/r/+1/6//r/+v/6T/qf+p/6T/qf+k/6//qf+p/6n/qf+v/6n/qf+k/6n/nv+v/6//qf+p/6//u/+v/6//r/+7/6//r/+7/7v/u/+p/7X/xv/B/8H/wf/G/8b/u//B/8H/wf/G/8b/xv/G/9L/zP/M/9L/0v/Y/9L/2P/Y/9j/4//Y/9j/3v/j/+P/4//Y/+P/3v/j/+n/4//v/+n/6f/p/+n/7//j/+P/4//p/+n/4//p/97/7//p/+n/7//j/+P/6f/p/+//7//7//v/7//1/wAA7//p//v/6f/p//v/9f/1/+//7//v/+P/6f/v/+n/9f/7/+//AAD7/wAACwAAAAAAAAAFAAsABQD7/wUABQD7/wAAAAAAAAUAAAAFAAAACwAFAAAABQD7/wUABQAFAAAAEQARAAsAEQAFABEACwAAAAUACwALAAUAAAD7/wAACwARAAsABQAFABEAEQALABEABQAFAAsABQARABEACwARABcAFwALABEAEQAFABEAEQARAAUACwAFAAAAAAAAABEABQAAAAUABQALAAUA+/8AAAAA+/8FABEAEQAAAAAAEQALAAAABQAAAAAAAAAFAPX/+//7//X/BQAAAAUABQAFAAUAAAAFAAUACwAFAAsACwALABcAEQALABEAFwAFABEAHQAXABEAEQAXABcAFwAXABcAEQALABEAFwAdABcAEQAXABcAHQAoAB0AHQAiACIAKAAoACIAIgAiACgAKAAoAC4AKAAuAC4AKAA0AC4AKAAiAC4ANAAuAC4ANAAoACgANAAuADoANAAoAC4ALgAiADQAOgAuAC4AIgAuAC4AKAAoAC4ALgA6ADQANAA0ACgAKAAiAC4AKAAuAC4ANAAoACgANAAoAC4ANAAuACIAKAAoAC4ANAAoAC4ALgAoACIAIgAoAB0AKAAoACgAHQAiACgAHQAoACgAKAAoACIAHQAuAC4AKAAoAB0AHQAiABcAHQARABcAIgAdACIAHQAdACIAHQAdAB0AIgAoACIAIgAdACgAIgAuACgAHQAoACgAKAAiACIAIgAoABcAIgAiABEAFwAdABcAHQAdAB0AFwAdACIAHQAiAB0AHQAdAB0AHQAdAB0AFwAiAB0AIgAoACgANAAiACIAIgAiACgAIgAdABcAFwAdACIAIgAiACgAIgAXABcAFwAdABEACwAdABcAFwAXABcAFwAXABcAHQARABcACwARABEABQARAAsAEQALAAUACwARAAsACwAFAAAAEQARAAUABQAFAAAACwALAAUABQARAAsACwAAAAsACwAAAAUABQALAAUABQD7/wsACwAAAAUACwAXABcACwARABcACwALAAsAEQALAAUAEQARABcAEQARAAsABQALAAsAEQALAAsACwALABEAEQAAAAsACwAFAAsACwAFAAUABQAAAAAAAAAAAPX/BQD7//v/AAD7//X/7//1/+n/7//p/97/6f/p/97/4//j/97/4//e/+P/3v/Y/+P/3v/Y/9j/3v/Y/9j/2P/S/9j/2P/Y/9j/2P/Y/97/2P/e/9j/3v/j/97/4//p/+P/4//p/+P/4//j/+n/7//p/+//7//p/+//7//p/+//6f/p/+P/7//1//v/9f/1//X/9f8AAO//7//p/+//9f/7/97/0v/1/+P/3v/j/+P/2P/S/+n/6f8FAPX/3v/j/8z/4//j/8H/3v/7/+P/+/8AAOn/CwALANj/4//v/8z/4//G/97/EQALABcA9f/1/+//7//Y/8H/AADe/8H/3v/p/wAAAADe/8z/6f/p//v/+//Y//v/IgAXAPX/0v/v/+//wf/p//v/2P/7//X/FwARAPX/3v/M/yIA6f+S/97/6f/j/+n/4/8XAN7/3v8FAO//EQALAOn/wf8/APX/BQAFAOn/IgC7/wsA6f/v/97/HQDY/xcARQDM/wUAAADe/wUAKAAoAC4A+/9cANL/6f9FAO//xv9XACIA6f8dAN7/NABRAIsAKAAuAAUALgB6AFEAqABuALQAYgBuAVwBygLEA5MJmRkKFCEE9v1a+nkBvAhUBob/n/sZ/UsAIAZhBO0Br/+k/10NSRQaFhASJgWq/qr+mgYADnQOlQXa+sn5Gf0fCcwMwA1RECoMuQGl+lX34vIT/kcKcxELDzMBffhV+D8AYw7xFqsXcxFMDEsAWwQGD6sWYBfyFEYNsgQlCLEIOg8CCi0TlhKnEUIKbASO+30FCBhGDpEQigIw/DgEtwc4A5sE8wJtAiYFwQphAxr75vhO+x8JCxBgB7z8N/sw/WAHkAP7C4oDCQV4A4kEVw4f/WAGEv/VA2kNewz3Byv8QwZe/4IJDA2HC/ULKACEBAoCGAz9B/4EvwACCOoLpQdLAYQDJQk6AFUFmwPUB4IJiAnZ/IQEDwTFAdsSJQk7/8n5PQfyBaUHtxZ9B38BqwjDBlgLmhYDBfb9GQoMDgwOagtQAgUBrQMeDaAV5QgWAs77PwH1C1QWtgr5AQAAfwFeC80KIhHY/i4BNweyBXQQXQ49+jL5Iw4dALoNOg82/Xv+pAqKAtwBeg60AMz/Uv/OCBsFcxHPBQHwgf8sBXwK9A29BUT1Uv/DBRkKHgun9hj/TwbcAN0P5P5s97H6CwFzEX4EPPwA8SED4AYyBiX8FQR2/b35qQ5W9ZUEqAHDBe32OgDsBM39XADF9MkFPfqICLkAJwLC/GH2kv/Y/kcM0v9zASj0gvzxCAL9GgZ7/t/7bgAl+2EESQYb+Oj00AOLATgDyQUr+gL7IfbS/3b8mwW5AqgA5fsz9BkJMwIDB6jyN/m9+QsADQvj/1T5a+yUBj8BEg4S/0bx4OinAqYUdf8nApnsyfjL8lwSXwjV9uz3au3UB1sEFQSLAGIB6fBY/w8Gav09Bv4Ck/078J8JnAK+AuX7+QD/Ab8ADgmD+vD9S/SfCb0GBBKt9ijz4Abv/rgDYvQOCPv/lQOmBGj0IPozAjb8rPlSDaT9Awbz9Pv/b//54/AJIw6mBEkFeAXv7wQEjf0N/b4CGwU2CdwADwY686AFSfmL9LEGTBzKA/8BAweu4qcCAwUxBz0XpxFY75n7jvoiAYYMjf4eC1gMNgvM7z4F/fpZ/UcMMhVEBHf7PQbn9c3+5fq9B9kK3Q4sBYkFRfNb98kEh/5ADnsMoSP08+bpFQYC7RcOqA9dDRkJXv6l+1r7yPsf/Nn8jwbiEfcFnQ/r3H/jPxCQAZkJgRoj8fP0iQX77ggJLfYk/mUHqwd6Dbj3M/bH7mT9GggPBgUBovR/8632LAV/Apb0W/eA8EoEeBSx+djwafBT7CcC0wn+BHwJMvdI7MT3qPLl+4UBnu7mBHb8GO+N/UzxXfKJ9/MBmwWJBIf9Zd2y6cj6df+hAnEGn/uo9NnrIOln9336lQNp8I8Ei/QU7HrxL/Gk/if21vMJ+RYD4eWZCO7yQeAmBRPtmP8OB9b18eua6pb0SwCyBOb4iuab+DL5CfhBDG32EuGY8Of1r/GrFqX8G9na6qr80QDuAHwIOeU14Bb2TvrQAe//2e0y6HH6z/dVBD74w+hI7KXrd/vKAWX6H+z68JHy4vKL8k78x+7T3LD+fPxO/PD8ouSr2l3imA1QE2IAtPI/5AHgR+03+SD6HvAC7ecCCPwC/OHmVNzc8zbtLAVrCRfz5+bB7SDqAu2mBkoCCfoG8XQAF+Mq7pP8JumU+2z5Bg1DBU7ssN6d4bTzfwLOB9r6X+wc9Xn0MO4m+mXt3PPFAV7/kPSY70jswusK96r+H/yX8gL7du2P6Zn7ZP4j8gbyNPLO6kT2lffq/cT3Veke7s7rOfTb98XyCfpj8WnwV/KF5HHrO+8c9ZL/1gE/9X/kQutm6JPswe/QAzcGAe7E9gHvedW92tfxpQcOF334Z+d36pXokvD27Zju5exwCoEK2O7V+NXmH9yo824BygJPBgXlj+eO7IjsCAni84P5YPjG8SH4zez+9rryw+jm+fv+zwUOCKL0m+bN7brxWfy8/dL/wf718Cf19e7Y/s8EwPDL8t/6L/C2/A77jPGH/YT1av3hBFn8HvAL4/Pk9/rYCysJMwG/8wnotOPw7mEDJwS9BTD+7+8P+fTxX+ya+qb5ZP11C08GPwGQ5szhVenV+D4TDgh3By31z+lB7pnstvujDksAOANgB7vwovPo80Po4vJHC0YOnAJ/AoDxe9+s6fTyw/gPBIcKlfj+9jXwC/Pi80Hvvfla+k8FzwRD+KPwde+w7rTxSPzkCusGVfiC7GDpGPC49oQCgf0x+4oCygHC/AzxL++3+T35vwEkCozwHfNf+wn5jvtr+iH4vveQA3/1evJc9PTzBPeRAMH/seva+rv/Gf3r+i70Q+i088kFRPer+vL30PZl+tb0qPT8/BsDUAGr+1r6ifdH7875av2bA2QK3ACoAaX6kfPO+9v3FgK8CEr1bPkk/af2oQMVBsj8VAa8+xjv+vLa+OsIeQIrB/v+HPXPBA78rPi49l7wpwO6DicErQER8zTzCgN3BgkGwf/e/jD9DvrH/cQCmftZ/GEE5P3iAb4CnADT/M/4IPro80kFsxBaB9ACGP/g+eAFYQOw/IUA3v8WAwkHagv8+3D9K/vv/24PJgZw/L4EZP1k76cDoQMM/2ETvAi587kCYw0iAEoCRwr3+MoCcRawCf0FHwpa+jEHYBXNCicClffm+esHVBd/EG8O3wlN/ZwAeAVFAc8EmxK+FNcOGQrcAK0BLgFM/3wItgrbEnkR2geb9szxQvxk/zgF6A+sFLMQ4gEh90j7AfAC+xcOHwprCI4HBQBT/I39pP0w/eIBKBGoEAoDgf/E9Rr6eAX/AeQKNQ11DHIF5ft8+9b0C/QlCd4L0wgQEUoDvvZ682b5PPyf/F8J3wl/AGn/D/jl7Fjvffqf/KgBcwFoARz1AuvF9D/0SPuN/Dv/qvwC/H36efSq7p3xHAEC/Mf9dACC/E/3MvnE9x3xufOm+C4B3/xT/oUBfvZ08YfuFvb2+zMBeAS59C32jfw9+hX4Vffs98Xz5foiAaIBGP83+sL6YvXFAFEAyPtuAUsBpgQ5AWsIeQIAAKECav2LAaUIcAn9Bt8HtAARAKYFEwv3BVADGgdFAI8ESQXuAKgBcgSxCDYJkgxEA+T9bfY689YAeQL1DDsNnwhzA1EA+QEw/cH/7//9BT0Hhwu7CxEAOARyBaECcQi+A1ACUQBhBHYKvgM+A0sBx/11/gQEWwWyBM8E2f3l+03+u/5s+Y38JP99+tYCh/4n9+z3yvZz9Uj73/qh9gXzhvLX8oXzq/sc9af3EfRI6/TyovTA8mj0ovQF9cr2ufWt9qH2BPfm+GH2OPja+g/5X/wT/CIA/gPoAOYGCQZyBB8ISAiqCzQPKQ5vDa4PCxBoEdoXwhilF18ZKxcrGMEaexsqGyMdvyD/Ie0h+h1pHcEboxxcIfkfhCNyIy0j1iBSHa8dqRydHuMd/yA+I9si0CIMHYwduh/GHH8hliIKIVskMiRRH/MhFiHuHpUjBCOEIwsgyiFzInkhPiQ+I38gfiJKIQYe8yFGHvsbexsNGk0bmRpNGqEUohDnEvMSJxO+E4APMAqYDdILWQoTC2YGawfbA2ED+ATRAHX/a/wf/ZT5D/nK9ijzhfOY71fyRvCY8IjsxOWL43Tip+f45tXnTuvP6c/n0OSd4Qjdttwo5Jzk1edw7BblA+mm6kTn2umr6/btmPAy9yf3vfpO+mH26/s8/J7/MgUrBzwJcAtMDaUJBg+uEJIL0BIgFY4XExufGbcXoBUaFyAXnxg1HJkazRo1G40btB0BGhkYcRdtE34TaxcgF7IV5Rc9FZUTgxagFRAThBJ+EooR5xPmFkMW5hXPFVoWmRjHGZ4aUxq8GU0bkh1uIHgjwyTPI48k1Cb8J98ofClOKIIoxyoLLr8wczD5MDQugSuALE0r6SsYLEEq8CoHKusnZScyI1wgCx/AHPUcKhu2GM8V7RKcEAAOWAvfB+cCnALcAIH+9vxV94v0b/EB7w3uguzV6Pjmi+PC24TWKdJOy/bNutM51fnVTNKbx7vBnr95tiy6SL2wvz7HLMkmygTHjMG2vki9qcKsysHQENea217gGOBS4VHj9OEu5Ajro/HC+icCIAaaB5kI5AvwCUAOUBGEEiUXBxppHm4frh/0HWkcahrZGYAd+xoBHE0bghcNGWEUlhK0DqoKTAz8CBMKjgeDBdADvP3e/Rr6TvrU+o/41Pub99X2Zvh/9Cf1ovT59dD2Sfnf/E77vP1Z/ML8nv7M/6ECVgI3ByUIUgxiENYRlRU+FCAWWhYZGZgckhwcIGciSSUCKF8puyreKdMq5SdmJvYowicZKV4r2Sm2KZ8pVCemJRAiSx/SG6QbcBoeG28cCBkwGpUVyhH0DZ8IZgZsBNUFsgW9BmAHUAO7/zH6OPYz9GPyafCH7QjtsOy36/7nOeWS4Q3djton1s7LtMQ9u3i4x78AwoPKLMkYwMm5HbL9qnKpZazDqWmzAb86wkbSts6+xiHJfL1Gwg7MDc+t1+znmO/J+L0Fqv3l/Mj7PvaoACQLhBOoHwQkuCSeKjwpZiXgJAAfbx1WIo4m0yqHKyso/iIoINIbahmgFsoRfxDGDOQLtwaKA0z//fng+Un4A/kn92L13u/I6iHoiubV5zjpPesq7szw6PL68kbyk+7l6zvuUvA++Dv+ZwLOB5MJyAmBCtkJ5QhGDdwQ4BUuHlAh/iN3JvclMSjqKNko2CoBK+krYi+hMbIyzzQVNG0yRDOoLxcutSxlKCopPSeOJ2UoLCa9JP8gox0BGjEXyRUWE2IRXQ8vDlEO+g01DR8KyAfQA3QA2P8S/3D+9v2q/DH7pfts+QP4ivYA8UjsvenE5WfmJuih5xvnaeKm2YTGq7tqr2+xzMHdw5nNG8f8vDy9Q7obuKOzL7Lgq1e06MMPyn3as9Rlzf/UOdSS4SXr1ecg6anxQ/plB60S+RCQEuAVPBoOJkErcCkkK6snQSoDNUI4Ozo8N8oyPjQPM34yFy/sJCIgXCDiHxAjFSRYG2YV3Q6OBwkHrgDa+gn5bfUQ9k76ffgX8xLwSei55VXnoebD6ODpyOvw7sbxFvQA86nxdPGG8lv3yPu7/6EC4QQrB3YKrg9FETMTphX4FCoaDB6FH5siSSRmJaUoiy6uLpYwbTERLlYw7TAcMPIy1jHFMGEzLDT+Mmczyy87KqoptihrJpQnLCYnIzIk4SIWIj8gaRxNGRQXchXPFc8V5xIbE+ESUQ9XEIUPhgx2CrwJzgjUBlMJlAibBfIDZwQWAlEAXAKw/f73Z/aA8ALs5O2V6MDgV+JV2fXPDc6IvAmrkbPztyqvlccKxmi02M8tyIGx6LTnppCYFqjkvlfE/NxO6lzknu5E5uDopuiJ2MXk6e/uABwiOTH5L8oxvTSLLqgutSyPJTsqIDRJQ7RO21GJVAxLIkDAPLE1RDG1KlkovCfaJnkwXC8JJp0eQxbvC3IFfQXx+Zz08/WG8Fz1nPXo83TzserD6YPokePo4wXjx97M4D7nAuuj8Hn06fGd8i/xpO8/9Mzwc/Ur/G4AzQojD7MRHBJiEFEQFhGtEfIUExvcH0MljCxYLJEthyurKIcrXyncL/4xuTAyNU8zGzPgNb4yijLFMK8stC2pLU0rQSpfKaEjoCYmJdYg7SCBGr0XwxYDFYMVchVcEtYQ4w5GDW8NOwz3BhUG8wLKAmUHhATHCmoK6walCUQERQDuAFT7+Pes+Xf5B/0q/cn4kPVL8+rsyOvL49HTAc8RxH65Zrngqlekg6qrqwfPPN4K1+jT96u1kDuSn48Tj3mlNbK1wAzwav4I/KX7oMsutYq3o7Mr2w/4YgLpHck0OzpcQZAxtghJ+H35/AhBKm4+iEcKUClLVlBfRzIzBCMADrALyRWlKBs0cjNqK9wgQB08GOIQYgKq7V/rQ+lq79r4Te6q7cnobee27c3uVubr3K7T5srqznTSLNn23hzkSOs78BfyDPAh6MfdytZ32gXj4/E/AOsGug+tEQ8WfhMICYoCx/4cAfQNxxq+IxIstC2pLXwpgyb/H8IZCBcgFm4eJSkRMNUyHDENK0kleSFHG5sUZxPEEr4UmRiAHVEeRxsrGBwSRQ9pDYcLLAbKAVADCQcYDIwOkg1ZCrwIpQgPBS0CEv/O+tn9YgJ4Bd4LqQzUB0kGJwMq/g39A/oK90P5vflw/R7/ffiV9nDu4+Hk333a9dENzq3HU7/ZvG6zsKAnmemTBaY3zEHQgc5SwjmYGY8/lv+HsYzNn2mjY8G77iH2FPoV6SW9TLH8rUi8Ht9g6UL7GB1tMYRBeEQLIOv5rvNE9WoKOypON6FBZElzT7lQRENQMfwXFgPxB6sY5iWuLiQqtB3kGmobbBZfCfL3vOu/5THqO/Aq7RXnb+GH3mngZ+cQ55PeBNYCzaXLn821z0zRe9GE2EDiAuud8WrvQ+hk4Dfbn9xo43frrvJ8/fEHuRHlGEkVDAymBHMBVgMNCkUQiBizIRonHS66LSUogyTMHM4WGhfMG1sicSdqK8EptyexJlskxCGwGWUYwxV5Eo4WphSKE2YVyBYOGKUXjhaQEXUL2gfVA/4CCgNmBZ8JwQutEacReg0TCf8Agf5q/VABMgXsBVkJvAk7C40Lawm4BJj/PP1Z/Mf+FgGtAhYCmfxs97rySOyU6dbkR96O2tDWb9DVx6PChbYbqcefHJbRlEKtuMjlzSnSQb8tmZOPvYwBgPGLa52bqE/ISeo/9dD20ePNv+utoqXJuevatuwPBiggUDC1PLY55Bpk/W70CfrjDX0l/TTnQkdKM1EnUdE9Biy4FNoGewyHGQgpwC2TKVAixhy2GTkSJwP68SDrDuw18Lj4afFh5hfiwtyZ3frhF+Ne33Ha1NmP2JHTEdOBz7HKHtAl3T7mQe7u8t/tZuln5d3ineJ64jLoM/YQA5wQnhpxFqMNCQehA8oDTQp/EeAVwBwDJeQr6DCdLuAmxhxaFjwaViBCJ+UnTyPLIGEjTiZ3Jn4khxnQEuwUIRRPFFsTTQsICGoL9A/DFLgTNQ3aBVcAh/4v/zv+cPzT/Ez/9wcGDl0PXgxFAZr5rPhf+78A9wZrCBMLgA70DrQPcArnAzMBFwB4AzcHDglYC1QIzgbtA1n8W/bu8vDtFOtk7mvqW+eX4TTTCcpBwUC05qtUnMGQN5t/tKvM2tn51bq095qdks+KEIjOjd2T/J77v1zlyvUh+NDm3MX7sdKynMaz1lbkufWCCTcmeT8KQrUqXQ/EAlsFwxQ9JXQu/TacP+9MD1N6TGg+kyiNGy8cQyY0L+MtjyRkGlMZER7AHaAV6gm7/2X80/2r+6/vheMl3LHa4+GT7Iby++/y6MbhN9rj0XDOMspWx2rO2d3a6qL0Wvpz9L3qUOUA4iTg0eOg6dfxO/6SDKAV8Bj3FqgPXwrUBzwJ0gyKE9kZLh9aJXAqhi1qKtsk7h8NG8EaIx5jHtgcAB5WIdwg3CE5IZka1BVcEtwQnQ1SDB4LWgfrCGoLog//EakONQyxBlAC+QKcAaIArgA4AxoHYw+aFrIVchSMDqQLbw6jDp0P3Q2uDmYVWBs5IGggUhs3FsMVWhXPE2YUBRF1DWkO3Q6iEMsPHgysBRj+1fe583Xwz+m+53/jU93410zQbccNvyi0nKfbmNmNJ5eGsePCddHX0qSv05/wn5KR9ZCQmBiRq515xfThlfg+AwfuJtlaygDEqNWf3Jzla/szEXMwqUzjTKw1qB9tEmEUISNeKxEwGjazP9xQa1cUVc5Fxi0bJJsi6imVMsAsCiEOGDcWOh5FITwYzAw5Akj8MwFzAZ3y4uSy2B3TU90D6a/vx++P6CfmIuMf3a3X5csoxLPHy9R55Izw2/b08x7w6u2I7FnsA+ks6XDsm/bUB/MRHxhxF1wSuRK+FFoXMRifGDAZJBwbI9MoKS0SLDApkyj3JmQqwStUJ6EjxR/6HageKCDRHi8dKR7GHu4fLh6TGKcRpApfCFMJ3gs6D4UQSxBjDxcQXQ9NC4IILASnA/EI6QyAD2IQKA9iEEoSihPVE20SuRGcEWYUrBXUFxkY8RbaFlkYmRiqGfwXchRtEiIQ6Q4BDIEKTwXnA3MCHAFN/mb5evHl6i7kdd+92a/QGspdwp+9o7K4qTec15Qdowq3TMLkzu7Ez6r/pA2gqZNuluya7pVwr4HPROfO+1r55+Zy15rLbtM64QDhJesY/icUgzRjTBBB3S65IRMbciSRLWIwoTGJNDQ/B0v5ToZM7j0zMCksRS/DNP4z5SifGUoTVRVHGjwY8xDTCloGQgiZCtj/6e/j4fPVFtZT3W3lWuvC7BTrZeug6UbicdqYz5XHwsuQ1mnhgu3c8xz18/Xn9Tn0dPJS8ILtRvFl+okEbw4hFFsTuBOUFo4Y6hopHHUbEhxFHz4ilCVJJsMkYSSmJFonNSwpLRkqtybcIaMdaRyeGzYZkxnkG+8b2BxdHTAZeBM0D9kK6whkCvYKTQrfCfAJewt7DDsL0wnUBxQHsAnvDMwNWA0SDZILBg3iEOcTLBXgFTcW/RbCGVgbMBq3FxQWvhTyFUEaOh3AHeMcMBn3Fa0TShLFEMEK/QbaBRUEPwLoAfz8Z/ac8x/tz+fL5IHehdSxyx3CW7h6s9+s352smf+k0rIRxEzQc8fpsgOrXaNbmKOUkZUKlxCoMsjj4vnzSfjT7t7eudRy2F7ge+B455D1Ewr8KWdCeUGhM2QpjySSK6Y1Aje+M0k0djlnQfxH3kkPQ6Q5kzjBOtE+Yj/3NSEjyhMuEDQQYhAtEXQOzAzcELgT+wwr/L3qfdkG0fTS1NnG4JHkFelU65rqz+lX4wTYtdBIzGTOIdhS4dvnk+7j8PTyiffh9232UPZy96T9YAVNCa8MewyADQoU/Bj0HUQjLCafKPApWSjDJtskbiAiH5cfoiHBKfQvoTHiL7AqZibiIJ4bPRbREEAPEBKyFUgZmBsIGPIUFxCTCUgJyQYEBEQE1gHtA/cH0wnNCggJAwZ9BvAJNgq1C1IMHgu1DNEOnBDcETMTchVUFnEWMRjBGqQbExvwGncWyhMxFvwXmRnYG40a6xYKFPMQYhDXDUcKMgUe/nH6a/u2/Kr8N/mj8ojsfufL46TeeNjTzcvEqr8Jup20pK8GpLiYcJ6OrI+5z8iIy2y5r7GBr1am7qMAo2CcI6QIvn7Y2PD8+0/3O+5F5SfnL/HN7SruG/eiAQcctjg5Pzw4yjKYLAswZDmkO4431TNaNZ46Vz+hQgs+fjNWMCEzsTeYOpo1jyXOFroPaQyaByEDywBB/rIDZAoPBX35U+7H3yfX59Yt1uLVodYn1xraat6v4V3hPdri06nSVtVJ2pPeH9423erfheWf7WLzYfeJ+Tf7KACJBc4I3wklCX0HUwmFECsXOh3hIqwkZSdqK6Mt2CsDJqggKR1AHsoisSbxJsklWibgJkklviPuH04X7RInExAR6BDnEXwKiQX3BisIjQuADRMK9wX+AgoC0AHN/Wv8sPyq/RsDsAkHDFgNqQ2wCw0LaQ10EP8PORIsFSwWqhqdHjUbahtdHbUc7SGPJYojJyMoIQwdWB1IGYMVmxOAD8sQQxVyE/MR/w/UBigBR/0+9pjwge4C68PoG+h453/j9ty51pjPpsmcxNi/obgksKensJ/LlLSTnqCHrg2+8crFxTe8ILwotNqqbaeHoAyhhbRlzFHkT/eC/Ov5VvXW9An6Jfs+95r5nAAcEZMoeDR5MektOi8VNfM/N0YWQUg4QzVsNOw0pjQFL7EmmyQSK301mDw2OYAsNRy5EM0KlQTU+z/zwe4A8nH6r/8k/UX0W+jq3rHaydgE16LTtdHd0nPVrNll3MPY4tUb2APaZN9b5hzmC+QW5SLlp+cx7PDuzPEh92gA8Ak/EOESSxHXDR0OORCQEXgUoBYBGjQgDiZkKyktuyp3J1UjMyE5IsohFiDRHgYdAB2uHvodwRtlGM8V4BSyEycThRCNCxoHxAKXAFACfgQgBiwGcgSKA6EDRANWApEAtf8uAYoC5gSDBpoHWQoSDAAO7g/LENUUqxjTGXscDBwCGEIXaxc3F8cb0R7cH6IhZyEtI6Ei9B0HGk8U9A6iD9EPzA3jDXYK/QYyBkQDUAGk/Tj3l/PH7qDqCemL4/veTd1s2JDWCtaA0bDOLMqjwk2+4bZgrECk+ZVekDGcQ6qDumvLg8t6wq7DTb8Kt3+1KrC3qrS0hMgT3obySPyI/HH5cfnzAUIJpQdDB7wJyhGKIv8vkDC7KuUoYy58ObdEyEdQQpg7mTdDNhU0ly5aJboegB5aJssvpzIjLfQf2xNjDRoISwEy+ePwme308Tj3xPW173PmXt4f3BneNeHv4IfeX9y32hra69tI2yHXZ9by2BPfWulv8Zb0l/OR8UzxzPHW82f1OPZr+lwCjQs4E/EWzxWEE8QTGhb2GIcbBh3jHAAeriAWIpYiZyHuH5EfliADJQ4mFSOoIOQb/BdrF8kVRBLcEIsQ4hAtE60TihGjDaoJ5gUEBJUEVgO+An8C7QH+A4MFDwbDBQoEVQXfBw4JpAseCyUJ0wmqCvsM3BAzE34U1BYZGI0auxwGHcEaAhkwGqoZGByMHRMaSBlwGd8X/BlNGdoVgxW+EksQ4hCGDEgHGwRk/wH+av4N/oj8FPqs99b1ufM18FTrBOcj4tfhYuPp4UbhJN592SfXxdTNz7bMFcgBwfG6krKFpq6lDbAau33LT9iW1PvPV9MNz2vLMctdwoK8lsZF1fPmT/hH/Yf9R/6FAYwMIRIADp4MGAynEeIfVCftIgAfuh4DJa0xajpNOuY1czL/MMUv2CvKIvcVeg9uD9QVFx7FHwEblRMSDnsMWQkoALP1iOsQ5+Xqqu3I6sTmr+Eq31Hip+VE5rnlouPu4jnk/+Md4gHemtng2fvfiegG8eH1lfj9+g3+PwHcAjQAmfzw/Kn/DwZMDtsSEBMnFA8W/Bj0HXMgxh6GHZ4c0hxdH10fHR2vGwcaExrMHO8ddR0YHJ8ZWRjUF4MV/hL6DmoLZAs1DZIM9gl3B/MC+QHmBT0HpQcCCX0FLAREBLkAHv+T/DH6Kv2tAVQHaQ10DlEOUQ4vDOkMiw9YDfoO4RLWEoIX9Rs8GXwZahp2GYwdyx6GHikeXhxBHJ4cqhqIGKAW1RMnE7kS+RAoD+MNmAuTCp4KPAgEBJEAn/sP98T2bfUj8DXvNu6l6zbuZO5J6v/lqOOp4PDePN4I3ATXS9SA0urOMM82zbLIo8NmuZOv4KpbqCmztMP9yT/Vw9hBz9HUXNUPynHLc8ZlvgLNpduV6BX5Avu9+tL+bQKADTIUAA9/ED4UXxhVJd8oNCDjHH8fjiYsM3U8GDzZN7c2NzYEM5cvSSW3F4oTwxRqGr8hER7JFAAPhwovDDsMswEy+B3y9u2X8lHzSOt/5YffJdwj4dbkEOY46QToleir66bqoOnn5gzhXeFE5sjq1/EK9r733/t7/+gBFQRKBNACxATfCLALxQ8tEoUQURA/ESEStxZkGjsbrxzAHFgd6B9iH7UckxmsFY8UqxZxF+UXgxVzERYRHQ+6DdEOjAwfCfwIAweJBMoDogDf/ML6Avva+rz7Nv4q/jb+Xv+T/d/6/flg+I/5vPxH/60CeASmBqsIDgh8CoYMWAvjDpYSDxS2GOQaUxlfGaUYMBnTGrUcAB8RH2IgvyHQILof3R12GZQX1BXVFJoWVRR/EfQPNQxqCy8M0whaBokEAACq/nD+oPnt9J3x6u4k7rvw6fDH76nv/O227CDr4Ojn5svkV+L64unh2N8Y4fzcT9m415HUetMp0nfMFsYTvzO2lrUguvnEO8+h1iDZXNa42MLc99lt1rrTlMxX04zgFenv8HP0y/MD+NL+2gcAD50OixBhFEIZSiNgJZ4cZRdyFeoZ8iSpK5IrRyvMKzQvCzD1LOwjghj+EtsSZhSgFhsUewvOBn0FTgcgBosA7PiQ9Pn0N/nm+B3ya+vF5CPh3eH04h3iC+OF5aDpR+3176Tv4Oo+5+boGuvY7lfyF/Lu8nL3oPpC+x/8Jfzq/XMDkwppDr8QFhGMDpIMRg2GDVEOyxCKEcoTcRhqG4wc9RvZGKsXoBZmFRQWzxQbE/gSnBCjDnQOWAyYC+8LJAtTC00KlAcgBooD4gDFAGr+fPuI+1r7tvsH/hj/9v08/AL83/ul/AUALgGp/5EA3AGQAkQE5gVDBgMGEwmkDIYOPxLbFHIThBTDFeYVIBcUGFoXgxaOGE0a0xpHG8ca9xdfGZMZ0xi8GQ4YbBXbE5AReg/6DjUMcAs2Cd8HAglZCLEHwwanAi4Akv5l+0778vg+99X3M/UW9Yv0RvEj8pfxafCv8VLvMO7e7o7rSOwg6nnmc+WS4R/eNt6r2zjZ8thA02nQ68sjw+C7+LditSTAvcnIzDnWKNQM0vfb1diL04TYKs6qzs7aK9yK5ZPtiOo18P71vPs9Bo4HsQg0DucStRycIa8bvRU5EbITqhqWIBUjZyKKIQInzSgfKTwoVx5lF2AX7BVlF/cXEg3UBtUDnAEPBP4C2fsm+jH63/uY/oj6xfK87GHo4eY+6CfnreY55rjmOOmT7HbtE+7C69Tqau1v8P/zJ/VF9D/0IvUE98P5K/rq/MH/8wLfB+QKhg3XDwsPqQ70DQwN3Q4oECgRFhPhE4MVqxbgFSYWoBUgFcMVvRV4FCEU0BIFEcsOpAz7CjwJzgh3CMgHJgcUB+AFiQTzAlYBdf+S/pL+Df5T/rz9av1T/WX8X/1q/ln9pP9RAGn/4QLKAwoEtwZsBn0H0wlqCh4NzA26DrMRsxGhEkkUuBOaFcIX3xgkGgcanhr8GfAYahmZGCsY8BgZGCUYdxfgFVUV/xFFEP8Qug6RDuMOwQoZCY4IGwVhBJsDVgGiAD8AmP9w/k39mfsP+af3Vfdh9hb24fUt9W7ztPJR86nxtPFG8jXvx+6k7y/vB+/k7Ujs4Ohz5grnhuKe4CnhPdtm2iDZxtINz4THJMCrvWq+7MjfzSnRLNi00ufVKt/h14PZptpS0UPZRuBu4lTrceos6eTtI/CI+zMDfgTwCh0OIRSuHhEeMBpsFrkRNxYpHOMeBSG6H5wf2yLVIywmSiPYHDsb2RkqGi4eHxkFEeoL/QUmBTgFvwB8/dT6CfqH/XD8pvkb9ljwAu0l7ULscOyx673p1ejg6c7rQuwg6wPqMerC7IbyXPU49mH3+PbE9rf51Pkx+hn8E/0/ANUEGgj7Cg0LHwpHC28MhQ/tEXMSOBMEFOwUQxbPFFsTeRKcEWETDxUPFSAV1RMcErkRXBDdDnUNXgt2Ch8KnwnrCGwGCgTWApwBvwHzAfv/h/4e/sH9O/67/qr9MPzO+xn8gf0H/6//IgDj/wAAfwGcAhsE2gUmBjcI/An2CkYNjA0jDS4PLhBzERATMxNsFOAUphblGNQXHxgIGcMWFBhfGY4X1BerFlUUJxRtE/MSfhKLEKgPRg7MDAcMsAnCBwkHWwXEBGEEHALFABEAB/62/PH7WvqD+UP57Phm+H73BPfQ9b/07fRc9EX0YvRX8wX0XPSo89HzhvLY8K/w6fBS8Ifu0+38633pIOrh5z/kC+PY37bcCNwn2FHSzsynxwXEBMjwzdPOHNQi1e/Rt9lw3XHah9/O2+bYr+B049vnguz96THrvO018Q76wf2/AMkFDQqWEcgYRxoCGeYWYBblGAEcIx11HLsb6Ru7HO8dhh1eGlQXNxeCFysZQRu9FjMRHQ4qCtoHSQaoAGX8VPrD+bf6Zvmb9qLzjO927ozvGO8S8PvvcO3Z7d7uTe5Z7p/sa+oa6xnuo/DL8pD0YvXW9YP4vfna+kL9Df4AAK0ChAQ9B7YICAgCCXAJmQrpDFEOXQ/zEKESFRTyFOwUrBSmFCwURBREFDgTsxLQEb8QeRCRD8YOug3eC6oLAQt2CpMJ6weUBuYEWwSbBOECogG0AFP+9v1e/t79Qv0N/eX83/wk/hL/Xv9FAG4AogD/AVACUAPmBIQEpgXOB9kI/AnNC+oLJAwGD8UP3Q/tEdwR8xF4FDIUbBRmFc8UchRmFEkVphSsFH4UHBLKEb4SFhEFEegPUg1ADUwMdQtZCncIPQdPBqEEsgSKA7kBqAEdAGT+pP7B/ZT7yPuU+/f68fvr+7f5Gvmb+AP4svgb+Oz3W/eh9lX4ffg+96z4vvdh9ub47Phh9/L48vcQ9SH2+fTA8e7xb/Bl7OXrjupb5nPlXePB3pncONiA0jvPMM2wz5LR+tJc1hzU7dWC20/aat3S3w7cnt8A48XjoOl36onpzuu863vw/vbP+MH9IgJDBfQNlhIQEwMVmxRDFWUZnhsvHPsc3hsHG0cbbxvkGlMZ5RdOF7EXqhqqGhQXMhUzEQYPUQ+1C0gIuAUnAhYBnv+Z/FT6MveW9OjzxfOc8/TzUfPM8S7y3fJd8vTxdfD17oDwwPH68UXzgPKX8pz0ufWs99T5n/tw/V7//wFWAxUFsQbgBeUHHwm2CS8NpAz7DIAPkQ6/D0sR+g9zEXkSZxIsFHIULBQVFBYTMxJLEWgQBRDRDlEOdQ2kC1MLzQmZCI4IjgdxBxQHMgYPBgkFLAS+A2IC1gF5Af8AYgGFAfkAKAFuAfkAOQKzAsQCiQTVBE8FFAeaB4IInwmZCWQKsApBC8EMwQyvDcsOHQ7FD1cQ6Q7/EIUQQA/nEfMQ3BChEigRuRDREJ0P9A4dDmMNmAxYC5gLqgqZCV8JGggaB/cGpgWJBPgDOQLQAagAgf+k/zb+tv32/SX8vPuO+6z5N/om+nH5Pfpx+ZX4ePin99X3Q/gK9yH37faV9iH3svfs90r3svfQ9pD1Svb/9IXzv/Pd8LXvXu+O7HHrielE58rlReQR4ofegts+2PPU89T51ETW4Nib2Cvb5dzf3EDh9OFG4aLlHOas58js9uwN7jXwO/Bu8gX1/vdl+zD+OQIPBvYJEg6/D0sRGxNmFMgWqxhfGTYZGRllGMgXdxdsFlUVoRQhFIQUJxSnEwQThRAdDzQOHgyqCgIJfQYbBa0DqAFv//D8ZfrJ+LL38vZb9hb2Z/U/9bn1ofV/9cT1hPUz9W32BPfQ9lv3IfcE9i33ePdh9yD5lPmg+k39e/4iABACfwLEAw8FAwarB5QIZQn2CUcKXguqC9ILhgxHDOMMNA4jDlcPkQ8XD+4Peg9LD+4PEQ8XDwsP+g1pDkYNaQzvCyQK9gmICRQIJQhDB4MGFAdJBiYG9wVVBXIFFQVDBTgF4QTsBE8EVQThBKYESQVyBXgF1AYxBzcI9gjfCMgJQgq2CrULAQxeDOkM+ww7DTUNow0GDeMMaQ2kDKMNDA6kDC8NzAxqC0EMWAtkCp4KsAklCV8IvQcJB7IFSQU+BLkCigI/AXoAUQDk/h7/cP5f/R7+2fx8/Ef9lPuC+6v7Gvql+tT5z/ha+RX4IfhJ+A/3m/dP95X2svet9r72hPeE9hv3G/dQ9q32G/Z59dD0f/Mu82nxNfC1703t0+zC6z3pCenb5hzkbuMS4LDdR9523DHcWd5e3p7eAOKG4i7i3OWz5rjm9+rr6/zrNfBj8Prw//NF9Jz1YPiU+Uj8nv9WAiYFfQcwCoEMnQ7LECESlRMsFSwWmhaDFjcWbBVVFOETJxMcEhYSihGoEGIQIhDuDhIO3gxNC5MKqgnrB4kG7AQQA7MB4/8N/pn8SPsg+lT5uPgh+I/3ofd492z3z/c4+Cz4ffiy+Ob4WvmU+U/5g/kD+iv6CPux+1P8PP02/iT/aACWAb4C4QMsBYkGfQerCKUJMArTCmQL5AteDJIM+wxjDTsN4w0GDsANdA6dDkAOIw9FD+MObg/jDnoOUQ66DVgN7wxSDCoMRwveCmQKSAlICbEI2gcUCKUHQwfOB0gHJgdgBw4H9wb9BskG1AYOB/0GDgdgB2UHlAcaCPEHcQgTCQIJpQkHCtkJRwp2CjAKagpHCg0KXwpkChkKQgokCqUJsAklCQgJGQlrCGsIMQhgB7EH1AbVBQMGfgTVA8QDcwIcAoUBYgCiAJ7/Af8k/wf+wf2Z/dP8zfxO/F/7Avsr+sP59/hP+AP4Z/cK9772fvZ+9uf1p/XE9Tn1ivWn9Wf1/vWz9W313PUc9Zb0hfQ/893yrvJA8QDx6fCB7xjvpO4w7bbsn+sD6vjom+dz5kTmbeUQ5VbliuWE5tvnA+lJ6hnsWe2e7ozwDPIR87n0bfVz9kn4A/lD+tn7k/yB/rkARAJPBMkFVAd2CU0L6QxRDoAPeRAoEdYR+RH5EaIRaBBXEAUQIw9RD/oNrwypDE0LmQqHCqsIJQjaB6wGjwabBT4EZwP5AdYALgD1/iT+PP1I/M77fPvf+lr6JvoO+iD6zvpa+2X7CPxw/JP8Qv2k/Xb9GP4w/l7+Xv+S/xEAogCcAJYBbQL5AlUExASJBc4GDgdCCPwI2QiZCZ8J0wlZCkcKpAqHCnYK+wqeCuQKQQu8CiQLewuSC7ULgQu7Cx4L9gpBC0IKQgoHCuUIGQm2CNoH9wcDB9oG4AYaBn0GIAagBQkGiQWsBUkGfQW9BSYGVQXPBQMGJgWbBYMF5gSDBU8FDwV4Bc8EIQVmBX4EYAUsBVsEWwX4BIkEDwVyBCcE+AOQA1sDigKKAtABtABWAUsAzP+uAGn/0v96ADX/2P/G/4H+Af82/o39pP1O/DD8n/uD+r364PkD+Rr5IfgJ+DL4rPf49373hPc++ET38vdD+L72j/dP9+H1FfdW9hD1CvbQ9Cj0v/TL8yjz0fId8mnx2PB78OruHu5w7QjrcerP6SHo5ugh6DLnrOjb55vopuog6rzrh+187eTvb/G08fnz1vT/9Nv22/em+FT6d/tT/GT+PwBzAUoDDwUgBuUHKgo2C68MOg5vDrQPqBALEOgQyxCRD1EQkQ96DigPjA17DMYMagv2CpkKawnZCEgIiAfJBgMGGwWVAycDcwLFANEAgf/q/TD+qvzl+1P8Gvsa+3H7H/vx+/z7AvzC/IL8Gf28/bb9Tf42/of+GP8k/+n/BQALAP8AEQGoAeECxAKyA2wEZwTDBUMGbAaaB70HDggICSUJcAmfCbAJ6gnfCUIKQgrZCV8KDQrTCWoKEwoCCk0KGQokCjwK5Qm2CVkJHwmxCEIIMQiIBwkH8QZsBhoGJga9BUkFiQU4BaYEYAUDBSEE+AR+BP4DDwUyBPgDzwStAwQEOAQ4A9sDWwMEA+0DBAMtA5UDMwLcArMC6AHWAugBXAHiAf8AHAEuAUsAUQDS/7v/pP8S/1L/sP5N/ur+5P0H/iT+n/zT/IL8pfsZ/Hz7sfrU+j36/fnx+Zr5Q/kD+RX5j/iD+I/4z/fy95v3Pvey9yf3T/dn96f2VfcE95X2bPdt9or2Mvfn9XP2FvbK9Gf1VvSi89bzkfId8pHxGPCk74fuze2C7bbs8OzC7LDsNu3l7J/tau6N7tjvO/DM8EDyhvKF88X0nPS59cr2CveP+JT5PfrC+/b80/1e/6gAhQHnAiwEIQWDBrEHSAgfCZkJ/AlkCqQK+wqeCrYK8Ar2CRMKJArOCBMJjghDB9QH8QbyBX0GFQWmBMQEMwM+A9wCcwF5Aa4Awf+1/7X+gf4w/nz9tv1Z/Tb9k/0f/YH9qv1f/ST+E/5k/gz/zf51//X/tf90AIUAuQCLAVwBBQKtAooCZwOyA6cDhAR+BAkFyQXyBcMG8QZUB/0H5QdZCLEITgj8CPEIiAgrCdkInwjZCFkIdwhxCDwIPAgrCFQIDgjlB9QHlAdaByAHyQbgBn0GGgZDBqYFZgVJBaYEjwR+BCEE4QPnA7gDVgOQA0oDEANWAy0DCgNEAwoD3AItA+0CuQLhAtwCZwJ/AoQCvwEQAtYBSwHKAX8BSwGLARwBaAGQARwBlgE/AfkAKAFuAGIA7/9v/5j/pP7H/vv+6v2B/nv+Wf0q/rz9wvxq/Z/8JfyI/Ov7yPvZ+477SPs3+zH7wvq9+r36Pfog+k76mvls+Vr54PgD+ez4Cfns+In4z/gh+LL3sveh9j721vX/9Jb0HPRR8y7zAPK08czxhvCG8QzxY/Cp8Qbx7/Au8rTxKfJ68zrzS/QW9Ur1hPan9n73Sfgs+NT5SPqx+mv8qvyT/Qf/af86AKgB7QEQAycEcgTJBSYGyQZxB3cH6wcICN8HCAgrCIMHAggCCBoHsQcaB4kG4AZUBvIF1QWVBRsFCQV+BDIE2wNbAz4DXAIzAsUBMwE/AaIAfwCRADQACwB/AGgAbgAcAbkA6ACLATkBhQHtAe0BMwJzApwCxAIEAyEDcwN4A/4DSgQbBA8F4QQsBewF4AU3BskGpgasBj0H2gYOBysHCQdIBxQHKwfgBn0GmgYgBuYFGgabBZUFuAVgBWYFSQUsBf4ErATyBLgEWwQPBTIE+AOhBIoDoQPEAycDVgMWA/kC4QKKAhsDswJcAjMDfwKhAmcDcwLhAucCBQKQAicC0AH5AYsBqAFFAUUBYgG0AAsB3ADp/38AdADY/2IASwDe/+n/zP9H/wz/5P5H/hP+Nv5f/Y39av2Z/a//WP/7/ur+tv2w/Sr+Kv3l/KX8Nvw2/IL7a/ug+ib6cfr9+U76ffqs+T36/fnx+dr6g/qg+g77/frI+pr6Mfqx+UP5w/kV+cn4Sfks+AP4Cfgb9z737fY+9mH27fXt9W316PS/9Ev0aPR59Ojzi/R/9NHz1vR/9GL0lvVi9W31kPZE9n72cvds9xX4LPlx+WX6Mfs8+0L8cPzC/Jn9vP1k/h7/Hv8XAEsAYgBuARwBuQGWAkQCFgOEAxYD1QN+A2EDxAMbA1sDRAPEAj4D4QKcAhADbQKKArMCRAKhAn8CIgKEAjMCFgJiAvkBLQJWAhACZwJnAkQCpwJzAm0CxAKhAtYCMwNKA4oD1QMVBCcEVQSJBHIE1QT+BJUE7AThBI8EDwXbBMQEOAXhBPIEIQXmBPgExATEBMkExAT+BPIE/gQVBc8E5gTJBHgEsgRyBJsEzwSPBLgElQRhBGEE/gNVBFsEJwSmBD4EFQQ+BNUD2wP4A20DigNhA0oDWwMQA0oDMwNEA3gDOANWA1sD0AIWA9ACZwKQAkQC+QHtAagBXAFLAfQAtACXANwAywDiAOgA/wAFAbkAqABLACIA9f+B/yT/Af91/kH+MP72/RP+E/7e/Q3+MP4w/mr+sP6q/rD+9f6Y/p7+tf5N/jD+Df6B/Wr9Qv3f/A39Df0H/Tz9Qv08/V/9cP1T/Wr9fP0N/ST9E/0C/ST9Df0k/fb8yPyI/CX8DvwZ/J/7yPv2+3f7d/s3++X6Avvl+qX6iPqx+n36Dvpa+gP6sfkJ+on5JvlP+Yn4Ifgy+D73/vbE9j72W/Y+9oT24fYb93735vc++NX4Q/ma+Uj6wvr3+kL7iPtr+4j7tvu8+/b7PPxO/Gv80/zq/BP9h/3B/Sr+wf47/97/KACFAOgA+QBWAYUBfwGoAagBMwFWAS4BqADcAIsAdAC/AJcAqAAFASgBUAHFAf8BIgJiApACpwLhAv4C0ALWAuECoQKnArkCkAJ5ApYCoQKnAvkC0ALtAlYDOANtA6cDuAPKA9AD2wP4Aw8EIQQKBP4DBAS4A3MDWwMtA+EC4QLQAqECnAKQAmcCeQKzAn8CoQLWApwCxALQArMCrQJzAnkCIgLWAdABVgFcAUsBBQEFAfkAtACXAJcAbgB0AFwAVwBcAFwAaABXAGIALgD1/97/qf+p/3v/R/9e/wz/0v7e/oH+U/4q/sH9mf2k/Xb9PP1Z/Vn99vzw/N/8MPxl/FP81PtZ/AL8q/sC/LH7lPur+1r7iPvO+9T7CPzx++X7zvvZ+wj8AvwC/Pb7tvvZ+8L7n/vr+4L7zvsC/JT7MPw8/Bn80/y8/Ij8Df28/Jn8wvxI/Ov7vPtC+9/6t/px+j36IPor+jH6VPpr+mX6ffqI+nf6YPpU+kP6N/om+tr5mvkg+Xj4G/hs9wT38vZt9oT2rfZE9or28vaz9n738vcD+Pf4ffmg+T36lPqO+vf6SPtO+3f7sftC+yv7PPv9+iv7VPtl+6X7CPwT/FP8n/zq/Fn9zf1H/p7+JP9k/2//qf/G/4z/u//p/7v/6f/S/6T/wf/B/6T/2P/7/yIAXAB0ANYACwE5AaIBxQH/AUoCVgKhAq0CkALQAtwC8wI4AxADOAMzAxYDSgMnA1YDkANzA9ADDwSyAxUEOAQPBHIEcgRyBKEEmwR+BI8EcgRbBDgELAQnBPgD8gPEAycEmwSPBH4EcgTtA/4DPgTKA9UDIQQKBCcEYQT+A/gD+AOyA9AD2wN4A0QDGwP5AlYDcwM4A0QDVgMnAycDEAPEArkC1gLtAhAD7QL5AgQDGwOEA6cDSgMbA+cCfwJiAhwCbgELAQUBvwBuAGIA9f/M/+//tf+1/+P/pP/G/yIA7//7/8H/Xv8S/+T+kv5H/iT+qv1k/WT9Wf0w/ST9B/1C/Vn9av3N/eT92f0N/hP+2f0B/rD9PP1w/Vn9zfzw/Mj8K/x2/Gv8H/yl/Gv8CPyT/B/8wvvf+3z7fPuU+1/7SPsC+736Wvr3+dr5Sfn9+Oz4pvhy+CH4sveV9xv30PbK9mH2fvZh9jj2Z/Y+9i32VvZt9tX27fZP98/37Peg+OD4A/ms+Y/56/mD+mv6vfrC+n36wvqU+mX6mvpI+mv6t/qr+jf7jvuC+xP8U/yw/Db9dv3e/Wr+5P5B/4b/nv+7/8z/6f8oAFcAYgCRAH8AogC/AK4ABQFLAbMBMwJEApwCxAKhAiEDLQNWA+cDygPbA1UE8gP4AyEErQMVBCwELARsBDIEOAQ4BAQEMgQEBA8EWwQnBGwEZwQyBEoEGwQ4BGEETwRyBGEERARPBCcE8gMEBO0DxAMEBPIDsgOhA3MDLQM+Az4DFgNQA1ADZwNtA4QDkANnA4oDkAOEA74DmwNtA4oDPgNQA0QDIQMtA+0CJwMEA7MC7QKQAqEC7QKzAtwCBAPhAsoCswKcAoQCUAIzAgoC8wHoAZYBUAH5ALQAfwA0ACIA7/+e/5L/Xv/S/rv+e/4q/jv+JP7e/fb9B/6N/dP9wf1T/Z79gf1k/Yf9Wf32/Mj8qvxI/HD8yPyq/Nn80/x8/GX8cPxT/Kr8Df0q/Z79pP1k/Q39qvw8/IL8tvyN/Mj8iPwZ/Aj8cfvU+uv6yPr9+h/7Avt9+j36IPq3+f359/ms+RT6yfl3+Wz5uPhD+Cz4Sfhg+Kz4ffhP+Dj4cviJ+I/4LPka+c75lPpg+gj71Prr+s77zvuf/Nn8n/wZ/fz8B/0N/aX8wvzw/E39zf3Z/fb9Xv5B/rv+R//Y/p7/u/+v/8UAiwCoANEAogAWARwBeQFzAT8BnAFiAVABiwFWAUUB+QEnAoQCRAPhAlADlQOKA08EcgSsBEkFYAXDBeYF1QXJBdoF/QUgBmYGVAZDBiwGMgYsBvIFJgYaBkkGyQagBgMHDgexBisHPQdaB84HqwexBwgItwe3B8gHYAeDB5oHsQfIB5QHpQeIB4gHzgeIB8IH9welB/cHKwjfBwgICAj3BzwIMQgOCAII3wfOB8gHyAfCB6AHfQeIB30HZQd3B0gHQwdIByAHAwfDBqAGfQZgBmwGLAb3BcMFZgUmBQMFyQShBIkETwQyBPgDkANhAxYDCgMtAwQDCgPKAmIC7QFuARwB6ADoAOIA6AC0ADoA7/+M/4b/3v/v/0UAkQB6AHQAaAAXAAsARQBRAJEAlwAuAN7/mP9M/xL/Hv8v/y//Nf/H/l7+GP6T/bb9Af4H/nv+nv5H/nD+GP68/Qf+Af72/ST+5P2k/Y39E/3I/I38fPx8/Fn8CPzx+3H7H/sa+6v6mvq3+qv62vr3+vf66/oC+0j7N/u2+9/7wvsl/GX8X/zT/M388PxH/QL9Qv1C/Qf9Gf0Z/Rn9Tf32/OX8/Pzf/FP9pP3B/Tv+U/5H/qT+kv6N/sf+Af9Y/7X/xv+k/6n/u/+1/wsAIgALAGIAYgB6AJwArgC5AO4AaAHWAUQCYgK+Ar4C7QJbA1sDlQMKBEQErAThBLgEpgSEBKEEzwQVBTIFQwVPBSYFFQUVBfIETwV4BcMFJgYVBvIF1QX3BQ8GLAZJBj0GNwZJBjcGJgYDBhUGPQZDBpQGjwaUBrEGdwasBsMGvQbgBv0G/QYaBxoHAwf3BtoG2gYJBwMH6wbrBqYGcQZUBjcGIAYyBiwGLAb9BfcFsgWDBWwFOAU4BT4F8gTEBL4EYQRKBBUE4QO+A4oDRAMWA+0CkAJnAoQCfwKQAn8CIgIWAuIBlgF/AVABEQHuANEAfwAdAMz/af8e//v+3v7v/hL/Qf8S/8f+ZP7N/Z795P07/nv+5P77/p7+jf4k/pn9+/3e/QH+nv5k/h7+pP0k/fb8Av1Z/Xz9jf1w/er8/PyZ/DD8n/yf/Af9Nv32/NP8fPyN/Hz8jfzT/GX8a/x2/DD8Jfzx+8L7zvu2+3z7VPsx+yv7Jftl+3H7QvsU+yX7Tvt8+wj8QvyN/Mj85fwT/QL9/PwT/R/9gf28/ZP9pP1q/ST9U/0q/Tz9gf1q/Yf9h/1q/Xz9fP2w/Sr+U/6k/qr+sP4S/+/+O/+G/4z/3v/p//v/9f/G/ygA0QCuAEUAkv8Y/5j/IgAWAb8BaAEFAaIANABXAEUB3AF5AkoDRAMQA6cCHAIiAgQD4QNnBGEEsgM+A+0CCgNhA5UDIQRVBHIEZwQVBPID1QNnBA8FOAVgBTIF1QQJBWYFmwWbBZUFeAWPBb0FwwXgBfcF9wUgBg8GuAWPBYMFuAX3BSYGJgbPBb0FsgV9BYkFfQVyBYMFmwWVBXIFMgUPBRUFGwUmBQ8FzwSyBKEEjwRVBBsE5wPQA7IDigNtAwQD0AKtAlYCSgIcAvkBCgLcAa0BRQHoAKgAlwCcAGgAhQB/AFcARQD7/9L/kv91/4H/Xv9M/0f/GP/7/hL/zf6w/nX+Nv4Y/t792f2e/ZP9qv18/V/9JP0N/fz8JP1N/UL9X/1T/Uf9U/1Z/WT9mf3Z/RP+MP4Y/uT9nv2q/Z79nv3Z/Zn9pP2T/Tz9PP0w/Sr9PP18/Vn9MP0T/bb8tvy2/Jn8tvzC/ML8yPyZ/HD8Wfww/E78U/xI/Ej8E/wZ/A781PvU+8j75fsC/PH7/PvI+5n7sfuO+7H7tvur++X7wvux+8L7wvvZ+wj8QvxZ/Fn8Tvww/Db8dvyZ/M38JP1H/Xb9h/2B/aT9tv3q/U3+av6H/pj+df51/of+mP61/ur+Ev/7/hj/Ev8B/0z/e/+p/8z/AAA0AFEAegCXAOgAEQFuAb8BswH5AQUCEAJcAlwCRAJWAm0CXAKQAqcCkAKhArkC0ALWAuEC4QLcAi0DMwMtA1sDSgNtA6EDkAPEA8QD4QMnBA8EMgQbBP4DJwQVBAQEIQQVBOcDBAT4A8oD5wPKA+EDBATQA74DvgO4A9AD0APnAwQE/gPyA9ADrQOQA1sDZwNtAz4DFgPcApYCfwJQAiICLQL/AfMB0AFzAT8B+QDuAO4A6AD/AP8A+QD0ANwAxQD0ACIBHAEoAfQAqAB0ADoAKAAdAAUA3v+p/1j/Af+Y/jb+E/7w/fD9Df4H/vv92f3N/dn9x/3N/bb9fP1w/V/9Nv0Z/Q39E/0Z/fb8yPyZ/Hb8X/w2/B/86/vU+8j7pfuZ+077Zfu8+/H7SPww/Bn86/u2+xP8Qvxr/Lz89vwq/R/96vyN/I38tvy8/AL99vyf/FP8CPzx+/H7/Psl/Gv8k/xl/E78MPw2/Ij83/wk/Tz9Qv0Z/fb89vzl/AL9U/18/Xb9X/0k/d/85fwf/VP9mf28/cH90/3H/bz96v1H/p7+7/4Y//X+3v7e/vX+L/9v/6T/3v/7/+P/0v/B/7v/0v8XAEUASwBRAC4AHQA6AFEAhQDiAAsBIgE5ASgBLgE/AXkBuQH/AScCEAIKAuIB1gH5ASICUAJcAlwCSgIiAhACEAJQAooCswLWAsQCpwKEAooCnAL+AjgDWwOQA1YDRANEAz4DWwNtA6cDxAO+A5sDWwNQA0QDYQN+A5UDrQOVA5sDhANWA1sDVgNzA4oDfgNtA1YDRAMnAycDMwMbAxYDFgMEA9ACnAJ5AkoCHAIFAvMBxQGiAYUBXAEuARwBBQHoAO4A4gDcANwA1gD0AOIA7gDLAKgAnABiAGgARQBRADoAAADp/6T/ZP87/wf/+/7e/ur+u/6N/of+U/5e/lP+R/42/g3+8P3T/dP90/3B/dn93v3N/bb9h/2H/Xb9dv2H/Uf9JP3q/Lb8wvy8/NP8zfzf/Or8yPyT/Hz8Zfxr/Ij8a/yq/I38gvyl/J/82fwH/R/9X/1Z/Uf9U/02/UL9U/1q/Xb9fP12/XD9av1N/VP9ZP1q/V/9av1f/Sr9E/38/A39Gf08/Wr9dv12/Wr9gf1w/Zn9vP3e/Q3+Hv4k/iT+Kv42/k3+av6Y/pj+sP6k/o3+jf5T/l7+e/6H/pL+wf7H/sH+wf7H/tj+0v71/gz/O/9B/0H/Uv9Y/2T/gf+e/7v/0v/e/+//4//Y/9j/0v/Y/9j/2P/p/+//BQAoAC4ASwBuAJEAuQDWAP8ACwEuAS4BeQEFAe//FwALAAUAEQAFABEAAAAFAAAAAAALAAsACwAFAAAAEQAAAAUACwARAAUACwALAPX/BQAAAAsAFwALABEACwD1/wAABQALAAsABQALAAsABQALAPv/+/8FAAUACwAFAAUA+//7//X/AAAFAAUAAAAAAPv/+/8AAPv/BQAAABEAEQAFAAUABQARAAAAAAAFAAAABQAFAAsAAAD7/wAA+/8AAAUABQAFAAsABQD7/wAA+/8AAAsACwALAAsAAAAAAAAABQALAAUABQAFAAAA+/8AAAAA+/8AAAUA+//7/wAA+//1/wUAAAAFAAUA+/8FAPv/9f/7/wAA+/8AAAAAAAD1/+//+//7/wAAAAAAAAAA+//7/wUA+/8AAPv/BQAFAAAAAAAAAAAA+//7//v/AAD7/wAAAAAAAAUABQAFAPv/+/8AAPv/AAAAAAAABQAAAAAA+//7/wAA+//7//v/+/8AAAAA+/8AAPv/+/8AAAAABQAAAAAAAAD7//v/+/8AAAAAAAD1//v/AAD7/wAAAAD7/wAAAAAAAPv/AAD7//X/+/8AAPv/AAD7/wAABQAAAPv/AAD7/wAAAAAAAAAA+/8AAAUAAAD7/wAA+/8AAPv/AAAAAAAAAAD7//X/+//7//v/9f/7/wAA+//1//v/AAAAAPv/+//7//v/9f8AAAAA+/8AAPv/AAAAAPv/AAD7/wAAAAAAAAAAAAAAAPv/AAD7//v/+/8AAPv/+//7/wUA9f/7/wUA9f/7/wAAAAD7//v/+//7//v/+/8AAAAAAAAAAPv/+//7//X/AAD7//v/AAAAAAAA+//7/wAA+/8AAPv/AAD7/wAA+/8AAAAAAAAAAAAABQD7/wAAAAAAAAAA+/8AAPv/+/8AAPv/AAD7/wAA+/8AAAAA+/8AAAAA+/8AAPv/AAD7/wAA+//7//v/9f/7/wAA+//7/wAA+//7/wAA+/8AAPv/+//1//v/AAD7/wAAAAD7/wAA+/8AAPv/+//7//v/AAD7/wAAAAD7/wAA+/8AAPv/+/8FAPv/+/8AAPv/AAD7/wAA+/8AAPv/AAD7/wAAAAD7/wAA+/8AAPv/AAD7/wAA+/8AAPv/+//7/wAA+/8AAPv/AAD7/wAA+/8AAPv/AAD7/wAA+/8AAPv/AAD7//v/AAD7/wAA+/8AAPv/AAD7/wAA+/8AAPv/AAD7/wAA+/8AAAAA+/8AAPv/AAD7/wAA+/8AAPv/AAD7/wAA+/8AAAAAAAAAAAAAAAAAAAAAAAAAAAAAAAAAAAAAAAAAAAAAAAAAAAAAAAAAAAAAAAAAAAAAAAAAAAAAAAAAAAAAAAAAAAAAAAAAAAAAAAAAAAAAAAAAAAAAAAAAAAAAAAAAAAAAAAAAAAAAAAAAAAAAAAAAAAAAAAAAAAAAAAAAAAAAAAAAAAAAAAAAAAAAAAAAAAAAAAAAAAAAAAAAAAAAAAAAAAAAAAAAAAAAAAAAAAAAAAAAAAAAAAAAAAAAAAAAAAAAAAAAAAAAAAAAAAAAAAAAAAAAAAAAAAAAAAAAAAAAAAAAAAAAAAAAAAAAAAAAAAAAAAAAAAAAAAAAAAAAAAAAAAAAAAAAAAAAAAAAAAAAAAAAAAAAAAAAAAAAAAAAAAAAAAAAAAAAAAAAAAAAAAAAAAAAAAAAAAAAAAAAAAAAAAAAAAAAAAAAAAAAAAAAAAAAAAAAAAAAAAAAAAAAAAAAAAAAAAAAAAAAAAAAAAAAAAAAAAAAAAAAAAAAAAAAAAAAAAAAAAAAAAAAAAAAAAAAAAAAAAAAAAAAAAAAAAAAAAAAAAAAAAAAAAAAAAAAAAAAAAAAAAAAAAAAAAAAAAAAAAAAAAAAAAAAAAAAAAAAAAAAAAAAAAAAAAAAAAAAAAAAAAAAAAAAAAAAAAAAAAAAAAAAAAAAAAAAAAAAAAAAAAAAAAAAAAAAAAAAAAAAAAAAAAAAAAAAAAAAAAAAAAAAAAAAAAAAAAAAAAAAAAAAAAAAAAAAAAAAAAAAAAAAAAAAAAAAAAAAAAAAAAAAAAAAAAAAAAAAAAAAAAAAAAAAAAAAAAAAAAAAAAAAAAAAAAAAAAAAAAAAAAAAAAAAAAAAAAAAAAAAAAAAAAAAAAAAAAAAAAAAAAAAAAAAAAAAAAAAAAAAAAAAAAAAAAAAAAAAAAAAAAAAAAAAAAAAAAAAAAAAAAAAAAAAAAAAAAAAAAAAAAAAAAAAAAAAAAAAAAAAAAAAAAAAAAAAAAAAAAAAAAAAAAAAAAAAAAAAAAAAAAAAAAAAAAAAAAAAAAAAAAAAAAAAAAAAAAAAAAAAAAAAAAAAAAAAAAAAAAAAAAAAAAAAAAAAAAAAAAAAAAAAAAAAAAAAAAAAAAAAAAAAAAAAAAAAAAAAAAAAAAAAAAAAAAAAAAAAAAAAAAAAAAAAAAAAAAAAAAAAAAAAAAAAAAAAAAAAAAAAAAAAAAAAAAAAAAAAAAAAAAAAAAAAAAAAAAAAAAAAAAAAAAAAAAAAAAAAAAAAAAAAAAAAAAAAAAAAAAAAAAAAAAAAAAAAAAAAAAAAAAAAAAAAAAAAAAAAAAAAAAAAAAAAAAAAAAAAAAAAAAAAAAAAAAAAAAAAAAAAAAAAAAAAAAAAAAAAAAAAAAAAAAAAAAAAAAAAAAAAAAAAAAAAAAAAAAAAAAAAAAAAAAAAAAAAAAAAAAAAAAAAAAAAAAAAAAAAAAAAAAAAAAAAAAAAAAAAAAAAAAAAAAAAAAAAAAAAAAAAAAAAAAAAAAAAAAAAAAAAAAAAAAAAAAAAAAAAAAAAAAAAAAAAAAAAAAAAAAAAAAA=\" type=\"audio/wav\" />\n",
       "                    Your browser does not support the audio element.\n",
       "                </audio>\n",
       "              "
      ],
      "text/plain": [
       "<IPython.lib.display.Audio object>"
      ]
     },
     "execution_count": 108,
     "metadata": {},
     "output_type": "execute_result"
    }
   ],
   "source": [
    "df = pd.read_csv(os.path.join(clean_dir_path, \"data.csv\"))\n",
    "\n",
    "idx = 132\n",
    "sample, sr = torchaudio.load(os.path.join(clean_dir_path, df.loc[idx, \"relative_path\"]))\n",
    "label = df.loc[idx, \"classID\"]\n",
    "print(label)\n",
    "\n",
    "sample = sample\n",
    "IPython.display.Audio(sample, rate=sr, autoplay=True)"
   ]
  },
  {
   "cell_type": "code",
   "execution_count": 109,
   "metadata": {},
   "outputs": [
    {
     "data": {
      "text/plain": [
       "<matplotlib.image.AxesImage at 0x7f52afa1b730>"
      ]
     },
     "execution_count": 109,
     "metadata": {},
     "output_type": "execute_result"
    },
    {
     "data": {
      "image/png": "[encoded data removed]",
      "text/plain": [
       "<Figure size 1296x360 with 1 Axes>"
      ]
     },
     "metadata": {
      "needs_background": "light"
     },
     "output_type": "display_data"
    }
   ],
   "source": [
    "n_fft=512\n",
    "\n",
    "spec = transforms.Spectrogram(n_fft=n_fft)(sample[0])\n",
    "plt.figure(figsize=(18,5))\n",
    "plt.imshow(spec)"
   ]
  },
  {
   "cell_type": "code",
   "execution_count": 110,
   "metadata": {},
   "outputs": [
    {
     "data": {
      "text/plain": [
       "<matplotlib.image.AxesImage at 0x7f52af587220>"
      ]
     },
     "execution_count": 110,
     "metadata": {},
     "output_type": "execute_result"
    },
    {
     "data": {
      "image/png": "[encoded data removed]",
      "text/plain": [
       "<Figure size 1296x360 with 1 Axes>"
      ]
     },
     "metadata": {
      "needs_background": "light"
     },
     "output_type": "display_data"
    }
   ],
   "source": [
    "n_fft=512\n",
    "n_mels=64\n",
    "top_db=80\n",
    "\n",
    "\n",
    "spec = transforms.MelSpectrogram(sr, n_fft=n_fft, n_mels=n_mels)(sample)[0]\n",
    "plt.figure(figsize=(18,5))\n",
    "plt.imshow(spec)"
   ]
  },
  {
   "cell_type": "code",
   "execution_count": 111,
   "metadata": {},
   "outputs": [
    {
     "data": {
      "text/plain": [
       "<matplotlib.image.AxesImage at 0x7f52af54a1f0>"
      ]
     },
     "execution_count": 111,
     "metadata": {},
     "output_type": "execute_result"
    },
    {
     "data": {
      "image/png": "[encoded data removed]",
      "text/plain": [
       "<Figure size 1296x360 with 1 Axes>"
      ]
     },
     "metadata": {
      "needs_background": "light"
     },
     "output_type": "display_data"
    }
   ],
   "source": [
    "n_fft=512\n",
    "n_mels=64\n",
    "top_db=80\n",
    "\n",
    "\n",
    "spec = transforms.MelSpectrogram(sr, n_fft=n_fft, n_mels=n_mels)(sample)\n",
    "spec = transforms.AmplitudeToDB(top_db=top_db)(spec)[0]\n",
    "plt.figure(figsize=(18,5))\n",
    "plt.imshow(spec)"
   ]
  },
  {
   "cell_type": "code",
   "execution_count": 112,
   "metadata": {},
   "outputs": [
    {
     "data": {
      "text/plain": [
       "<matplotlib.image.AxesImage at 0x7f52af50c220>"
      ]
     },
     "execution_count": 112,
     "metadata": {},
     "output_type": "execute_result"
    },
    {
     "data": {
      "image/png": "[encoded data removed]",
      "text/plain": [
       "<Figure size 1296x360 with 1 Axes>"
      ]
     },
     "metadata": {
      "needs_background": "light"
     },
     "output_type": "display_data"
    }
   ],
   "source": [
    "n_fft=1024\n",
    "n_mels=64\n",
    "top_db=80\n",
    "\n",
    "\n",
    "spec = transforms.MelSpectrogram(sr, n_fft=n_fft, n_mels=n_mels)(sample)\n",
    "spec = transforms.AmplitudeToDB(top_db=top_db)(spec)[0]\n",
    "plt.figure(figsize=(18,5))\n",
    "plt.imshow(spec)"
   ]
  },
  {
   "cell_type": "markdown",
   "metadata": {},
   "source": [
    "It can be seen from the processing above that Mel spectrograms with amplitudes converted to dB highlight the most features.\n",
    "\n",
    "Functions for opening and processing audio files:"
   ]
  },
  {
   "cell_type": "code",
   "execution_count": 113,
   "metadata": {
    "id": "ME1kRZ41As0g"
   },
   "outputs": [],
   "source": [
    "def load(audio_file: str) -> Tuple[Tensor, int]:\n",
    "  \"\"\"\n",
    "  Reads audio file to torch tensor and sample rate\n",
    "  \"\"\"\n",
    "  aud, sr = torchaudio.load(audio_file)\n",
    "  return (aud, sr)\n",
    "\n",
    "def rechannel(aud: Tuple[Tensor, int], new_channel: int = 1) -> Tuple[Tensor, int]:\n",
    "  \"\"\"\n",
    "  Takes the audio and changes it to mono/stereo, depending on 'new_channel' parameter\n",
    "  \"\"\"\n",
    "  sig, sr = aud\n",
    "  if (sig.shape[0] == new_channel):\n",
    "    return aud\n",
    "  if (new_channel == 1):\n",
    "    # From stereo to mono\n",
    "    resig = sig[:1, :]\n",
    "  else:\n",
    "    # From mono to stereo by duplicating the first channel\n",
    "    resig = torch.cat([sig, sig])\n",
    "\n",
    "  return ((resig, sr))\n",
    "\n",
    "def pad_trunc(aud: Tuple[Tensor, int], max_ms: int = 4000) -> Tuple[Tensor, int]:\n",
    "  \"\"\"\n",
    "  Adds zeros at the start and to the end of a signal, so it would have max_ms length\n",
    "  \"\"\"\n",
    "  sig, sr = aud\n",
    "  num_rows, sig_len = sig.shape\n",
    "  max_len = sr//1000 * max_ms\n",
    "\n",
    "  if (sig_len > max_len):\n",
    "    # Truncate the signal\n",
    "    sig = sig[:,:max_len]\n",
    "\n",
    "  elif (sig_len < max_len):\n",
    "    # Random length of padding to add at the beginning and end of the signal\n",
    "    pad_begin_len = random.randint(0, max_len - sig_len)\n",
    "    pad_end_len = max_len - sig_len - pad_begin_len\n",
    "    pad_begin = torch.zeros((num_rows, pad_begin_len))\n",
    "    pad_end = torch.zeros((num_rows, pad_end_len))\n",
    "\n",
    "    sig = torch.cat((pad_begin, sig, pad_end), 1)\n",
    "    \n",
    "  return (sig, sr)\n",
    "\n",
    "def spectrogram(aud: Tuple[Tensor, int], n_mels: int = 64, n_fft: int = 1024, \n",
    "                hop_len: int = 160, f_min: int = 0, f_max: int = 8000) -> Tensor:\n",
    "  \"\"\"\n",
    "  Transforms normal audio to MelSpectrogram\n",
    "  \"\"\"\n",
    "  sig,sr = aud\n",
    "  top_db = 80\n",
    "\n",
    "  # spec has shape [channel, n_mels, time], where channel is mono, stereo etc\n",
    "  spec = transforms.MelSpectrogram(sr, n_fft=n_fft, n_mels=n_mels)(sig)\n",
    "  # Convert amplitudes to decibels\n",
    "  spec = transforms.AmplitudeToDB(top_db=top_db)(spec)\n",
    "  return (spec)\n",
    "\n",
    "\n",
    "def spec_aug(spec: Tensor, max_mask_pct: float = 0.1, \n",
    "             n_freq_masks: int = 1, n_time_masks: int = 1) -> Tensor:\n",
    "  \"\"\"\n",
    "  SpecAugmemt augmentation. Described in arxiv.org/pdf/1904.08779.pdf \n",
    "  \"\"\"\n",
    "  _, n_mels, n_steps = spec.shape\n",
    "  mask_value = spec.mean()\n",
    "  aug_spec = spec\n",
    "\n",
    "  freq_mask_param = max_mask_pct * n_mels\n",
    "  for _ in range(n_freq_masks):\n",
    "    aug_spec = transforms.FrequencyMasking(freq_mask_param)(aug_spec, mask_value)\n",
    "\n",
    "  time_mask_param = max_mask_pct * n_steps\n",
    "  for _ in range(n_time_masks):\n",
    "    aug_spec = transforms.TimeMasking(time_mask_param)(aug_spec, mask_value)\n",
    "\n",
    "  return aug_spec"
   ]
  },
  {
   "cell_type": "markdown",
   "metadata": {},
   "source": [
    "Dataset class. This defines all the features that we use when training and validating the model."
   ]
  },
  {
   "cell_type": "code",
   "execution_count": 114,
   "metadata": {
    "id": "pNx4bKOciUfk"
   },
   "outputs": [],
   "source": [
    "from torch.utils.data import DataLoader, Dataset, random_split\n",
    "\n",
    "\n",
    "class DigitDataset(Dataset):\n",
    "  \"\"\"\n",
    "  Dataset opens and transforms signal to spectrogram. \n",
    "  Depending on 'train' parameter it also adds augmentation (for training) or not (for validation). \n",
    "  \"\"\"\n",
    "  def __init__(self, df, data_path, train):\n",
    "    self.df = df\n",
    "    self.data_path = str(data_path)\n",
    "    self.duration = 4000\n",
    "    self.sr = 22050\n",
    "    self.channel = 1\n",
    "    self.max_mask_pct = 0.1\n",
    "    self.n_freq_masks = 1\n",
    "    self.n_time_masks = 1\n",
    "    self.train = train\n",
    "            \n",
    "  def __len__(self):\n",
    "    return len(self.df)    \n",
    "    \n",
    "  def __getitem__(self, idx):\n",
    "    # Open file and get the label. 'data_path' is an absolute path to the dir\n",
    "    audio_file = self.data_path + self.df.loc[idx, \"relative_path\"]\n",
    "    class_id = self.df.loc[idx, \"classID\"]\n",
    "\n",
    "    aud = load(audio_file)\n",
    "    rechan = rechannel(aud, self.channel)\n",
    "    dur_aud = pad_trunc(rechan, self.duration)\n",
    "    sgram = spectrogram(dur_aud)\n",
    "    aug_sgram = spec_aug(sgram, max_mask_pct=self.max_mask_pct, n_freq_masks=self.n_freq_masks, n_time_masks=self.n_time_masks)\n",
    "    \n",
    "    if self.train:\n",
    "        return aug_sgram, class_id\n",
    "    else:\n",
    "        return sgram, class_id"
   ]
  },
  {
   "cell_type": "code",
   "execution_count": 115,
   "metadata": {
    "colab": {
     "base_uri": "https://localhost:8080/",
     "height": 424
    },
    "id": "Dml_v8zT8ls9",
    "outputId": "1f519e58-d65d-4f47-f331-b6e5e4db7653"
   },
   "outputs": [],
   "source": [
    "from torch.utils.data import random_split\n",
    "import pandas as pd \n",
    "from sklearn.model_selection import train_test_split\n",
    "\n",
    "\n",
    "df = pd.read_csv(os.path.join(clean_dir_path, \"data.csv\"))\n",
    "\n",
    "# Train/Validation split\n",
    "train_df, val_df = train_test_split(df, test_size=0.2, random_state=2)\n",
    "train_df.reset_index(inplace=True, drop=True)\n",
    "val_df.reset_index(inplace=True, drop=True)\n",
    "\n",
    "# The last boolean variable says if it's a train set (so, it should have augmentations) or not \n",
    "train_ds = DigitDataset(train_df, clean_dir_path, True)\n",
    "val_ds = DigitDataset(val_df, clean_dir_path, False)\n",
    "\n",
    "# Data loaders. Regulate batch_size and num_workers depending on your machine\n",
    "batch_size = 64\n",
    "num_workers = 9\n",
    "\n",
    "train_loader = torch.utils.data.DataLoader(train_ds, batch_size=batch_size, shuffle=True, pin_memory=True, num_workers=num_workers)\n",
    "valid_loader = torch.utils.data.DataLoader(val_ds, batch_size=batch_size, shuffle=False, pin_memory=True, num_workers=num_workers)"
   ]
  },
  {
   "cell_type": "markdown",
   "metadata": {
    "id": "nn90nKQU8iiZ"
   },
   "source": [
    "# Model training\n"
   ]
  },
  {
   "cell_type": "markdown",
   "metadata": {},
   "source": [
    "As a model, I use a simple convolutional network like the one used in the pytorch example for mnist: https://github.com/pytorch/examples/blob/master/mnist/main.py ,\n",
    "because it works quite well for classifying pictures and is quite compact at the same time.\n",
    "A couple more layers of convolution were added and the rest of the parameters were chosen so that the network took less than 6 MB, but at the same time gave the best result. The dropout coefficients (0.15 and 0.25) were chosen empirically."
   ]
  },
  {
   "cell_type": "code",
   "execution_count": 24,
   "metadata": {},
   "outputs": [
    {
     "data": {
      "text/plain": [
       "device(type='cuda', index=0)"
      ]
     },
     "execution_count": 24,
     "metadata": {},
     "output_type": "execute_result"
    }
   ],
   "source": [
    "import torch\n",
    "import torch.nn as nn\n",
    "import torch.nn.functional as F\n",
    "\n",
    "\n",
    "class AudioClassifier(nn.Module):\n",
    "    \"\"\"\n",
    "    Audio digits classifier based on simple mnist classifier\n",
    "    \"\"\"\n",
    "    def __init__(self, n_classes):\n",
    "        super(AudioClassifier, self).__init__()\n",
    "        self.conv1 = nn.Conv2d(1, 32, 3, 1)\n",
    "        self.conv2 = nn.Conv2d(32, 64, 3, 1)\n",
    "        self.conv3 = nn.Conv2d(64, 128, 3, 1)\n",
    "        self.conv4 = nn.Conv2d(128, 192, 3, 1)\n",
    "        self.dropout1 = nn.Dropout(0.15)\n",
    "        self.dropout2 = nn.Dropout(0.25)\n",
    "        self.pooling = nn.AdaptiveAvgPool2d((8, 8))\n",
    "        self.fc1 = nn.Linear(12288, 96)\n",
    "        self.fc2 = nn.Linear(96, n_classes)\n",
    "\n",
    "    def forward(self, x):\n",
    "        x = self.conv1(x)\n",
    "        x = F.relu(x)\n",
    "        x = self.conv2(x)\n",
    "        x = F.relu(x)\n",
    "        x = F.max_pool2d(x, 2)\n",
    "        x = self.dropout1(x)\n",
    "\n",
    "        x = self.conv3(x)\n",
    "        x = F.relu(x)\n",
    "        x = self.conv4(x)\n",
    "        x = F.relu(x)\n",
    "        x = F.max_pool2d(x, 2)\n",
    "        x = self.dropout1(x)\n",
    "        x = self.pooling(x)\n",
    "\n",
    "        x = torch.flatten(x, 1)\n",
    "        x = self.fc1(x)\n",
    "        x = F.relu(x)\n",
    "        x = self.dropout2(x)\n",
    "        x = self.fc2(x)\n",
    "        return x\n",
    "\n",
    "\n",
    "myModel = AudioClassifier(11)\n",
    "device = torch.device(\"cuda:0\" if torch.cuda.is_available() else \"cpu\")\n",
    "myModel = myModel.to(device)\n",
    "\n",
    "# Check that the model is working on Cuda\n",
    "next(myModel.parameters()).device"
   ]
  },
  {
   "cell_type": "code",
   "execution_count": 117,
   "metadata": {},
   "outputs": [],
   "source": [
    "import pytorch_lightning as pl\n",
    "import torchmetrics\n",
    "metric = torchmetrics.Accuracy().to(device)\n",
    "\n",
    "\n",
    "class MyLearner(pl.LightningModule):\n",
    "\n",
    "    def __init__(self, model, learning_rate=3e-4):\n",
    "        super().__init__()\n",
    "        self.learning_rate = learning_rate\n",
    "        self.model = model\n",
    "\n",
    "    def forward(self, x):\n",
    "        x = self.model(x)\n",
    "        x = F.log_softmax(x, dim=1)\n",
    "        return x\n",
    "\n",
    "    def training_step(self, batch, batch_idx):\n",
    "        x, y = batch\n",
    "        logits = self(x)\n",
    "        loss = F.nll_loss(logits, y)\n",
    "        return loss\n",
    "\n",
    "    def validation_step(self, batch, batch_idx, split=\"val\"):\n",
    "        x, y = batch\n",
    "        logits = self(x)\n",
    "        loss = F.nll_loss(logits, y)\n",
    "        preds = torch.argmax(logits, dim=1)\n",
    "        acc = metric(preds, y)\n",
    "        self.log(f\"{split}_loss\", loss, prog_bar=True)\n",
    "        self.log(f\"{split}_acc\", acc, prog_bar=True)\n",
    "        return loss\n",
    "\n",
    "    def test_step(self, batch, batch_idx):\n",
    "        return self.validation_step(batch, batch_idx, split=\"test\")\n",
    "\n",
    "    def configure_optimizers(self):\n",
    "        optimizer = torch.optim.Adam(self.parameters(), lr=self.learning_rate)\n",
    "        return optimizer\n",
    "\n",
    "    def train_dataloader(self):\n",
    "        return train_loader\n",
    "\n",
    "    def val_dataloader(self):\n",
    "        return valid_loader\n",
    "\n",
    "    def test_dataloader(self):\n",
    "        return test_loader"
   ]
  },
  {
   "cell_type": "code",
   "execution_count": 120,
   "metadata": {},
   "outputs": [
    {
     "name": "stderr",
     "output_type": "stream",
     "text": [
      "GPU available: True, used: True\n",
      "TPU available: False, using: 0 TPU cores\n",
      "IPU available: False, using: 0 IPUs\n",
      "LOCAL_RANK: 0 - CUDA_VISIBLE_DEVICES: [0]\n",
      "\n",
      "  | Name  | Type            | Params\n",
      "------------------------------------------\n",
      "0 | model | AudioClassifier | 1.5 M \n",
      "------------------------------------------\n",
      "1.5 M     Trainable params\n",
      "0         Non-trainable params\n",
      "1.5 M     Total params\n",
      "5.979     Total estimated model params size (MB)\n"
     ]
    },
    {
     "data": {
      "application/vnd.jupyter.widget-view+json": {
       "model_id": "",
       "version_major": 2,
       "version_minor": 0
      },
      "text/plain": [
       "Validation sanity check: 0it [00:00, ?it/s]"
      ]
     },
     "metadata": {},
     "output_type": "display_data"
    },
    {
     "data": {
      "application/vnd.jupyter.widget-view+json": {
       "model_id": "27dcfc40ef8b4405bae4227a2a14f9f6",
       "version_major": 2,
       "version_minor": 0
      },
      "text/plain": [
       "Training: -1it [00:00, ?it/s]"
      ]
     },
     "metadata": {},
     "output_type": "display_data"
    },
    {
     "data": {
      "application/vnd.jupyter.widget-view+json": {
       "model_id": "",
       "version_major": 2,
       "version_minor": 0
      },
      "text/plain": [
       "Validating: 0it [00:00, ?it/s]"
      ]
     },
     "metadata": {},
     "output_type": "display_data"
    },
    {
     "data": {
      "application/vnd.jupyter.widget-view+json": {
       "model_id": "",
       "version_major": 2,
       "version_minor": 0
      },
      "text/plain": [
       "Validating: 0it [00:00, ?it/s]"
      ]
     },
     "metadata": {},
     "output_type": "display_data"
    },
    {
     "data": {
      "application/vnd.jupyter.widget-view+json": {
       "model_id": "",
       "version_major": 2,
       "version_minor": 0
      },
      "text/plain": [
       "Validating: 0it [00:00, ?it/s]"
      ]
     },
     "metadata": {},
     "output_type": "display_data"
    },
    {
     "data": {
      "application/vnd.jupyter.widget-view+json": {
       "model_id": "",
       "version_major": 2,
       "version_minor": 0
      },
      "text/plain": [
       "Validating: 0it [00:00, ?it/s]"
      ]
     },
     "metadata": {},
     "output_type": "display_data"
    },
    {
     "data": {
      "application/vnd.jupyter.widget-view+json": {
       "model_id": "",
       "version_major": 2,
       "version_minor": 0
      },
      "text/plain": [
       "Validating: 0it [00:00, ?it/s]"
      ]
     },
     "metadata": {},
     "output_type": "display_data"
    },
    {
     "data": {
      "application/vnd.jupyter.widget-view+json": {
       "model_id": "",
       "version_major": 2,
       "version_minor": 0
      },
      "text/plain": [
       "Validating: 0it [00:00, ?it/s]"
      ]
     },
     "metadata": {},
     "output_type": "display_data"
    },
    {
     "data": {
      "application/vnd.jupyter.widget-view+json": {
       "model_id": "",
       "version_major": 2,
       "version_minor": 0
      },
      "text/plain": [
       "Validating: 0it [00:00, ?it/s]"
      ]
     },
     "metadata": {},
     "output_type": "display_data"
    },
    {
     "data": {
      "application/vnd.jupyter.widget-view+json": {
       "model_id": "",
       "version_major": 2,
       "version_minor": 0
      },
      "text/plain": [
       "Validating: 0it [00:00, ?it/s]"
      ]
     },
     "metadata": {},
     "output_type": "display_data"
    },
    {
     "data": {
      "application/vnd.jupyter.widget-view+json": {
       "model_id": "",
       "version_major": 2,
       "version_minor": 0
      },
      "text/plain": [
       "Validating: 0it [00:00, ?it/s]"
      ]
     },
     "metadata": {},
     "output_type": "display_data"
    },
    {
     "data": {
      "application/vnd.jupyter.widget-view+json": {
       "model_id": "",
       "version_major": 2,
       "version_minor": 0
      },
      "text/plain": [
       "Validating: 0it [00:00, ?it/s]"
      ]
     },
     "metadata": {},
     "output_type": "display_data"
    },
    {
     "data": {
      "application/vnd.jupyter.widget-view+json": {
       "model_id": "",
       "version_major": 2,
       "version_minor": 0
      },
      "text/plain": [
       "Validating: 0it [00:00, ?it/s]"
      ]
     },
     "metadata": {},
     "output_type": "display_data"
    },
    {
     "data": {
      "application/vnd.jupyter.widget-view+json": {
       "model_id": "",
       "version_major": 2,
       "version_minor": 0
      },
      "text/plain": [
       "Validating: 0it [00:00, ?it/s]"
      ]
     },
     "metadata": {},
     "output_type": "display_data"
    },
    {
     "data": {
      "application/vnd.jupyter.widget-view+json": {
       "model_id": "",
       "version_major": 2,
       "version_minor": 0
      },
      "text/plain": [
       "Validating: 0it [00:00, ?it/s]"
      ]
     },
     "metadata": {},
     "output_type": "display_data"
    },
    {
     "data": {
      "application/vnd.jupyter.widget-view+json": {
       "model_id": "",
       "version_major": 2,
       "version_minor": 0
      },
      "text/plain": [
       "Validating: 0it [00:00, ?it/s]"
      ]
     },
     "metadata": {},
     "output_type": "display_data"
    },
    {
     "data": {
      "application/vnd.jupyter.widget-view+json": {
       "model_id": "",
       "version_major": 2,
       "version_minor": 0
      },
      "text/plain": [
       "Validating: 0it [00:00, ?it/s]"
      ]
     },
     "metadata": {},
     "output_type": "display_data"
    },
    {
     "data": {
      "application/vnd.jupyter.widget-view+json": {
       "model_id": "",
       "version_major": 2,
       "version_minor": 0
      },
      "text/plain": [
       "Validating: 0it [00:00, ?it/s]"
      ]
     },
     "metadata": {},
     "output_type": "display_data"
    },
    {
     "data": {
      "application/vnd.jupyter.widget-view+json": {
       "model_id": "",
       "version_major": 2,
       "version_minor": 0
      },
      "text/plain": [
       "Validating: 0it [00:00, ?it/s]"
      ]
     },
     "metadata": {},
     "output_type": "display_data"
    },
    {
     "data": {
      "application/vnd.jupyter.widget-view+json": {
       "model_id": "",
       "version_major": 2,
       "version_minor": 0
      },
      "text/plain": [
       "Validating: 0it [00:00, ?it/s]"
      ]
     },
     "metadata": {},
     "output_type": "display_data"
    },
    {
     "data": {
      "application/vnd.jupyter.widget-view+json": {
       "model_id": "",
       "version_major": 2,
       "version_minor": 0
      },
      "text/plain": [
       "Validating: 0it [00:00, ?it/s]"
      ]
     },
     "metadata": {},
     "output_type": "display_data"
    },
    {
     "data": {
      "application/vnd.jupyter.widget-view+json": {
       "model_id": "",
       "version_major": 2,
       "version_minor": 0
      },
      "text/plain": [
       "Validating: 0it [00:00, ?it/s]"
      ]
     },
     "metadata": {},
     "output_type": "display_data"
    },
    {
     "data": {
      "application/vnd.jupyter.widget-view+json": {
       "model_id": "",
       "version_major": 2,
       "version_minor": 0
      },
      "text/plain": [
       "Validating: 0it [00:00, ?it/s]"
      ]
     },
     "metadata": {},
     "output_type": "display_data"
    },
    {
     "data": {
      "application/vnd.jupyter.widget-view+json": {
       "model_id": "",
       "version_major": 2,
       "version_minor": 0
      },
      "text/plain": [
       "Validating: 0it [00:00, ?it/s]"
      ]
     },
     "metadata": {},
     "output_type": "display_data"
    },
    {
     "data": {
      "application/vnd.jupyter.widget-view+json": {
       "model_id": "",
       "version_major": 2,
       "version_minor": 0
      },
      "text/plain": [
       "Validating: 0it [00:00, ?it/s]"
      ]
     },
     "metadata": {},
     "output_type": "display_data"
    },
    {
     "data": {
      "application/vnd.jupyter.widget-view+json": {
       "model_id": "",
       "version_major": 2,
       "version_minor": 0
      },
      "text/plain": [
       "Validating: 0it [00:00, ?it/s]"
      ]
     },
     "metadata": {},
     "output_type": "display_data"
    },
    {
     "data": {
      "application/vnd.jupyter.widget-view+json": {
       "model_id": "",
       "version_major": 2,
       "version_minor": 0
      },
      "text/plain": [
       "Validating: 0it [00:00, ?it/s]"
      ]
     },
     "metadata": {},
     "output_type": "display_data"
    },
    {
     "data": {
      "application/vnd.jupyter.widget-view+json": {
       "model_id": "",
       "version_major": 2,
       "version_minor": 0
      },
      "text/plain": [
       "Validating: 0it [00:00, ?it/s]"
      ]
     },
     "metadata": {},
     "output_type": "display_data"
    },
    {
     "data": {
      "application/vnd.jupyter.widget-view+json": {
       "model_id": "",
       "version_major": 2,
       "version_minor": 0
      },
      "text/plain": [
       "Validating: 0it [00:00, ?it/s]"
      ]
     },
     "metadata": {},
     "output_type": "display_data"
    },
    {
     "data": {
      "application/vnd.jupyter.widget-view+json": {
       "model_id": "",
       "version_major": 2,
       "version_minor": 0
      },
      "text/plain": [
       "Validating: 0it [00:00, ?it/s]"
      ]
     },
     "metadata": {},
     "output_type": "display_data"
    },
    {
     "data": {
      "application/vnd.jupyter.widget-view+json": {
       "model_id": "",
       "version_major": 2,
       "version_minor": 0
      },
      "text/plain": [
       "Validating: 0it [00:00, ?it/s]"
      ]
     },
     "metadata": {},
     "output_type": "display_data"
    },
    {
     "data": {
      "application/vnd.jupyter.widget-view+json": {
       "model_id": "",
       "version_major": 2,
       "version_minor": 0
      },
      "text/plain": [
       "Validating: 0it [00:00, ?it/s]"
      ]
     },
     "metadata": {},
     "output_type": "display_data"
    },
    {
     "data": {
      "application/vnd.jupyter.widget-view+json": {
       "model_id": "",
       "version_major": 2,
       "version_minor": 0
      },
      "text/plain": [
       "Validating: 0it [00:00, ?it/s]"
      ]
     },
     "metadata": {},
     "output_type": "display_data"
    },
    {
     "data": {
      "application/vnd.jupyter.widget-view+json": {
       "model_id": "",
       "version_major": 2,
       "version_minor": 0
      },
      "text/plain": [
       "Validating: 0it [00:00, ?it/s]"
      ]
     },
     "metadata": {},
     "output_type": "display_data"
    },
    {
     "data": {
      "application/vnd.jupyter.widget-view+json": {
       "model_id": "",
       "version_major": 2,
       "version_minor": 0
      },
      "text/plain": [
       "Validating: 0it [00:00, ?it/s]"
      ]
     },
     "metadata": {},
     "output_type": "display_data"
    },
    {
     "data": {
      "application/vnd.jupyter.widget-view+json": {
       "model_id": "",
       "version_major": 2,
       "version_minor": 0
      },
      "text/plain": [
       "Validating: 0it [00:00, ?it/s]"
      ]
     },
     "metadata": {},
     "output_type": "display_data"
    },
    {
     "data": {
      "application/vnd.jupyter.widget-view+json": {
       "model_id": "",
       "version_major": 2,
       "version_minor": 0
      },
      "text/plain": [
       "Validating: 0it [00:00, ?it/s]"
      ]
     },
     "metadata": {},
     "output_type": "display_data"
    },
    {
     "data": {
      "application/vnd.jupyter.widget-view+json": {
       "model_id": "5a79fbb5c0fe48cd978689acac0338eb",
       "version_major": 2,
       "version_minor": 0
      },
      "text/plain": [
       "Evaluation:   0%|          | 0/101 [00:00<?, ?it/s]"
      ]
     },
     "metadata": {},
     "output_type": "display_data"
    },
    {
     "name": "stdout",
     "output_type": "stream",
     "text": [
      "[[568   0   6   1   0   0   0   3   0   0   0]\n",
      " [  0 561   0   0   0   2   0   0   0   9   0]\n",
      " [  4   0 569   1   0   0   0   0   0   0   0]\n",
      " [  0   0   0 600   0   0   0   2   2   0   0]\n",
      " [  2   1   1   0 606   2   0   0   0   0   0]\n",
      " [  0   0   0   0   2 557   0   0   0  11   0]\n",
      " [  0   0   0   2   0   0 567   6  12   0   0]\n",
      " [  0   0   4   0   1   0   0 618   0   0   0]\n",
      " [  0   0   1   4   0   0   1   0 586   0   0]\n",
      " [  1   0   0   1   0   0   0   0   0 573   0]\n",
      " [  2   1   0   1   3   2   7   0   2  12 536]]\n",
      "Accuracy: 0.9826437315977065\n",
      "              precision    recall  f1-score   support\n",
      "\n",
      "           0       0.98      0.98      0.98       578\n",
      "           1       1.00      0.98      0.99       572\n",
      "           2       0.98      0.99      0.99       574\n",
      "           3       0.98      0.99      0.99       604\n",
      "           4       0.99      0.99      0.99       612\n",
      "           5       0.99      0.98      0.98       570\n",
      "           6       0.99      0.97      0.98       587\n",
      "           7       0.98      0.99      0.99       623\n",
      "           8       0.97      0.99      0.98       592\n",
      "           9       0.95      1.00      0.97       575\n",
      "          10       1.00      0.95      0.97       566\n",
      "\n",
      "    accuracy                           0.98      6453\n",
      "   macro avg       0.98      0.98      0.98      6453\n",
      "weighted avg       0.98      0.98      0.98      6453\n",
      "\n"
     ]
    }
   ],
   "source": [
    "from tqdm.notebook import tqdm\n",
    "import numpy as np\n",
    "from sklearn.metrics import accuracy_score, confusion_matrix, classification_report\n",
    "\n",
    "# Training\n",
    "device = torch.device(\"cuda:0\" if torch.cuda.is_available() else \"cpu\")\n",
    "learner = MyLearner(myModel).to(device)\n",
    "checkpoint = pl.callbacks.ModelCheckpoint(monitor=\"val_acc\")\n",
    "trainer = pl.Trainer(gpus=-1, max_epochs=35, callbacks=[checkpoint])\n",
    "trainer.fit(learner)\n",
    "\n",
    "# Evaluation\n",
    "\n",
    "def eval_model(model, device, dataloader):\n",
    "    model = model.to(device).eval()\n",
    "    y_true, y_pred = [], []\n",
    "    for batch, labels in tqdm(dataloader, desc=\"Evaluation\"):\n",
    "        with torch.no_grad():\n",
    "            outputs = model(batch.to(device))\n",
    "        predictions = torch.argmax(outputs, dim=1)\n",
    "        y_pred.append(predictions.to(\"cpu\").numpy())\n",
    "        y_true.append(labels.to(\"cpu\").numpy())\n",
    "    y_pred = np.concatenate(y_pred)\n",
    "    y_true = np.concatenate(y_true)\n",
    "    acc = accuracy_score(y_true, y_pred)\n",
    "    cm = confusion_matrix(y_true, y_pred)\n",
    "    clf_r = classification_report(y_true, y_pred)\n",
    "    return {\"y_pred\": y_pred, \"y_true\": y_true, \"accuracy\": acc, \"cm\": cm, \"clf_r\": clf_r}\n",
    "\n",
    "\n",
    "learner.load_state_dict(torch.load(checkpoint.best_model_path)[\"state_dict\"])\n",
    "results = eval_model(learner.model, device, valid_loader)\n",
    "#plt.matshow(results[\"cm\"])\n",
    "print(results[\"cm\"])\n",
    "print(f\"Accuracy: {results['accuracy']}\")\n",
    "print(results[\"clf_r\"])"
   ]
  },
  {
   "cell_type": "markdown",
   "metadata": {},
   "source": [
    "It can be seen that the model gives slightly worse results on the numbers that were at the edges, i.e. 0 and 9. It is quite possible that this is due to an imperfectly chosen coefficient when removing silence from the beginning and end of audio tracks. Otherwise, the model works quite well, the number of epochs for training was chosen experimentally."
   ]
  },
  {
   "cell_type": "markdown",
   "metadata": {},
   "source": [
    "A small boilerplate code in order to get the model from the checkpoints and save it in another folder"
   ]
  },
  {
   "cell_type": "code",
   "execution_count": 121,
   "metadata": {},
   "outputs": [],
   "source": [
    "state_dict_path = \"./final_model\"\n",
    "model_path = checkpoint.best_model_path\n",
    "num_classes = 11\n",
    "\n",
    "device = torch.device(\"cuda:0\" if torch.cuda.is_available() else \"cpu\")\n",
    "myModel = AudioClassifier(num_classes).to(device)\n",
    "learner = MyLearner(myModel).to(device)\n",
    "learner.load_state_dict(torch.load(model_path)['state_dict'])\n",
    "torch.save(learner.model.state_dict(), state_dict_path)"
   ]
  },
  {
   "cell_type": "markdown",
   "metadata": {},
   "source": [
    "Just some extra code to load and test the model again."
   ]
  },
  {
   "cell_type": "code",
   "execution_count": 122,
   "metadata": {},
   "outputs": [
    {
     "data": {
      "application/vnd.jupyter.widget-view+json": {
       "model_id": "cb80f5bd09ab4af5be0a72318bc19e05",
       "version_major": 2,
       "version_minor": 0
      },
      "text/plain": [
       "Evaluation:   0%|          | 0/101 [00:00<?, ?it/s]"
      ]
     },
     "metadata": {},
     "output_type": "display_data"
    },
    {
     "name": "stdout",
     "output_type": "stream",
     "text": [
      "[[572   0   2   1   0   0   0   3   0   0   0]\n",
      " [  0 560   0   0   0   1   0   0   0  11   0]\n",
      " [  2   0 571   1   0   0   0   0   0   0   0]\n",
      " [  0   0   0 604   0   0   0   0   0   0   0]\n",
      " [  1   2   1   0 605   3   0   0   0   0   0]\n",
      " [  0   2   0   1   1 554   0   0   0  12   0]\n",
      " [  0   0   0   0   0   0 576   4   7   0   0]\n",
      " [  0   0   1   0   1   0   0 621   0   0   0]\n",
      " [  0   0   0   4   0   0   2   0 586   0   0]\n",
      " [  1   0   0   1   0   0   0   0   0 573   0]\n",
      " [  2   2   0   0   1   1   8   0   1  12 539]]\n",
      "Accuracy: 0.9857430652409732\n",
      "              precision    recall  f1-score   support\n",
      "\n",
      "           0       0.99      0.99      0.99       578\n",
      "           1       0.99      0.98      0.98       572\n",
      "           2       0.99      0.99      0.99       574\n",
      "           3       0.99      1.00      0.99       604\n",
      "           4       1.00      0.99      0.99       612\n",
      "           5       0.99      0.97      0.98       570\n",
      "           6       0.98      0.98      0.98       587\n",
      "           7       0.99      1.00      0.99       623\n",
      "           8       0.99      0.99      0.99       592\n",
      "           9       0.94      1.00      0.97       575\n",
      "          10       1.00      0.95      0.98       566\n",
      "\n",
      "    accuracy                           0.99      6453\n",
      "   macro avg       0.99      0.99      0.99      6453\n",
      "weighted avg       0.99      0.99      0.99      6453\n",
      "\n"
     ]
    }
   ],
   "source": [
    "test_model = AudioClassifier(num_classes)\n",
    "test_model.load_state_dict(torch.load(state_dict_path))\n",
    "results = eval_model(test_model, device, valid_loader)\n",
    "#plt.matshow(results[\"cm\"])\n",
    "print(results[\"cm\"])\n",
    "print(f\"Accuracy: {results['accuracy']}\")\n",
    "print(results[\"clf_r\"])"
   ]
  },
  {
   "cell_type": "markdown",
   "metadata": {
    "id": "QFfy3rIo8mvn"
   },
   "source": [
    "# Testing"
   ]
  },
  {
   "cell_type": "markdown",
   "metadata": {},
   "source": [
    "Simply copied from the augmentation section, functions used for minimal file transformation"
   ]
  },
  {
   "cell_type": "code",
   "execution_count": 36,
   "metadata": {},
   "outputs": [],
   "source": [
    "from torch import Tensor\n",
    "from typing import List, Tuple\n",
    "from tqdm.notebook import tqdm\n",
    "from torchaudio import transforms\n",
    "import torchaudio\n",
    "from sklearn.metrics import accuracy_score\n",
    "\n",
    "def load(audio_file: str) -> Tuple[Tensor, int]:\n",
    "  \"\"\"\n",
    "  Reads audio file to torch tensor and sample rate\n",
    "  \"\"\"\n",
    "  aud, sr = torchaudio.load(audio_file)\n",
    "  return (aud, sr)\n",
    "\n",
    "def rechannel(aud: Tuple[Tensor, int], new_channel: int = 1) -> Tuple[Tensor, int]:\n",
    "  \"\"\"\n",
    "  Takes the audio and changes it to mono/stereo, depending on 'new_channel' parameter\n",
    "  \"\"\"\n",
    "  sig, sr = aud\n",
    "  if (sig.shape[0] == new_channel):\n",
    "    return aud\n",
    "  if (new_channel == 1):\n",
    "    # From stereo to mono\n",
    "    resig = sig[:1, :]\n",
    "  else:\n",
    "    # From mono to stereo by duplicating the first channel\n",
    "    resig = torch.cat([sig, sig])\n",
    "\n",
    "  return ((resig, sr))\n",
    "\n",
    "def pad_trunc(aud: Tuple[Tensor, int], max_ms: int = 4000) -> Tuple[Tensor, int]:\n",
    "  \"\"\"\n",
    "  Adds zeros at the start and to the end of a signal, so it would have max_ms length\n",
    "  \"\"\"\n",
    "  sig, sr = aud\n",
    "  num_rows, sig_len = sig.shape\n",
    "  max_len = sr//1000 * max_ms\n",
    "\n",
    "  if (sig_len > max_len):\n",
    "    # Truncate the signal\n",
    "    sig = sig[:,:max_len]\n",
    "\n",
    "  elif (sig_len < max_len):\n",
    "    # Random length of padding to add at the beginning and end of the signal\n",
    "    pad_begin_len = random.randint(0, max_len - sig_len)\n",
    "    pad_end_len = max_len - sig_len - pad_begin_len\n",
    "    pad_begin = torch.zeros((num_rows, pad_begin_len))\n",
    "    pad_end = torch.zeros((num_rows, pad_end_len))\n",
    "\n",
    "    sig = torch.cat((pad_begin, sig, pad_end), 1)\n",
    "    \n",
    "  return (sig, sr)\n",
    "\n",
    "def spectrogram(aud: Tuple[Tensor, int], n_mels: int = 64, n_fft: int = 1024, \n",
    "                hop_len: int = 160, f_min: int = 0, f_max: int = 8000) -> Tensor:\n",
    "  \"\"\"\n",
    "  Transforms normal audio to MelSpectrogram\n",
    "  \"\"\"\n",
    "  sig,sr = aud\n",
    "  top_db = 80\n",
    "\n",
    "  # spec has shape [channel, n_mels, time], where channel is mono, stereo etc\n",
    "  spec = transforms.MelSpectrogram(sr, n_fft=n_fft, n_mels=n_mels)(sig)\n",
    "  # Convert amplitudes to decibels\n",
    "  spec = transforms.AmplitudeToDB(top_db=top_db)(spec)\n",
    "  return (spec)"
   ]
  },
  {
   "cell_type": "code",
   "execution_count": 37,
   "metadata": {},
   "outputs": [],
   "source": [
    "def open_and_transform_wav(audio_file_path: str) -> Tensor:\n",
    "    \"\"\"\n",
    "    Opens an audio file and returns it in a form of spectrogram\n",
    "    \"\"\"\n",
    "    aud = load(audio_file_path)\n",
    "    rechan = rechannel(aud)\n",
    "    dur_aud = pad_trunc(rechan)\n",
    "    sgram = spectrogram(dur_aud)\n",
    "    return sgram"
   ]
  },
  {
   "cell_type": "code",
   "execution_count": 38,
   "metadata": {},
   "outputs": [],
   "source": [
    "def infer_test_set(file_paths: List[str], model_path: str, num_classes : int = 11) -> List[int]:\n",
    "    \"\"\"\n",
    "    arg file_paths: list of paths to wav files to be used as model inputs\n",
    "    return: list of labels for each of input files.\n",
    "    Use 0-9 as digit labels and -1 as a non-digit label\n",
    "    \"\"\"\n",
    "    model = AudioClassifier(num_classes)\n",
    "    model.load_state_dict(torch.load(model_path))\n",
    "    model = model.to(device).eval()\n",
    "    labels = []\n",
    "    for path in tqdm(file_paths, desc=\"Inference\"):\n",
    "        with torch.no_grad():\n",
    "            input_spgram = open_and_transform_wav(path) # read from path and transform\n",
    "            # as model expects a batch as an input, we added [None, ...]\n",
    "            output = model(input_spgram[None, ...].to(device))\n",
    "        prediction = torch.argmax(output, dim=1)\n",
    "        prediction = -1 if prediction == 10 else prediction\n",
    "        labels.append(prediction.to(\"cpu\").numpy())\n",
    "    return labels"
   ]
  },
  {
   "cell_type": "markdown",
   "metadata": {},
   "source": [
    "Next comes testing the previous function on local files"
   ]
  },
  {
   "cell_type": "code",
   "execution_count": 39,
   "metadata": {},
   "outputs": [
    {
     "name": "stdout",
     "output_type": "stream",
     "text": [
      "['/media/hdd/dataset/clean_joined_v2/0_0.wav', '/media/hdd/dataset/clean_joined_v2/0_1.wav', '/media/hdd/dataset/clean_joined_v2/0_2.wav', '/media/hdd/dataset/clean_joined_v2/0_3.wav', '/media/hdd/dataset/clean_joined_v2/0_4.wav']\n"
     ]
    }
   ],
   "source": [
    "directory = \"clean_joined_v2/\"\n",
    "parent_dir = \"/media/hdd/dataset/\"\n",
    "clean_dir_path = os.path.join(parent_dir, directory)\n",
    "\n",
    "df = pd.read_csv(os.path.join(clean_dir_path, \"data.csv\"))\n",
    "\n",
    "file_paths = df[\"relative_path\"].tolist()[:5]\n",
    "file_paths = [os.path.join(clean_dir_path, path) for path in file_paths]\n",
    "y_true = df[\"classID\"].tolist()[:5]\n",
    "print(file_paths)"
   ]
  },
  {
   "cell_type": "code",
   "execution_count": 40,
   "metadata": {},
   "outputs": [
    {
     "data": {
      "application/vnd.jupyter.widget-view+json": {
       "model_id": "cda3384b26ca44f7a96bfbf855e6139b",
       "version_major": 2,
       "version_minor": 0
      },
      "text/plain": [
       "Inference:   0%|          | 0/5 [00:00<?, ?it/s]"
      ]
     },
     "metadata": {},
     "output_type": "display_data"
    },
    {
     "name": "stdout",
     "output_type": "stream",
     "text": [
      "1.0\n"
     ]
    },
    {
     "name": "stderr",
     "output_type": "stream",
     "text": [
      "/home/k33p/anaconda3/lib/python3.8/site-packages/torch/nn/functional.py:718: UserWarning: Named tensors and all their associated APIs are an experimental feature and subject to change. Please do not use them for anything important until they are released as stable. (Triggered internally at  /opt/conda/conda-bld/pytorch_1623448278899/work/c10/core/TensorImpl.h:1156.)\n",
      "  return torch.max_pool2d(input, kernel_size, stride, padding, dilation, ceil_mode)\n"
     ]
    }
   ],
   "source": [
    "model_path = \"./final_model\"\n",
    "\n",
    "y_pred = infer_test_set(file_paths, model_path)\n",
    "acc = accuracy_score(y_true, y_pred)\n",
    "print(acc)"
   ]
  }
 ],
 "metadata": {
  "accelerator": "GPU",
  "colab": {
   "collapsed_sections": [],
   "name": "intone_test(1)(1).ipynb",
   "provenance": []
  },
  "kernelspec": {
   "display_name": "Python 3 (ipykernel)",
   "language": "python",
   "name": "python3"
  },
  "language_info": {
   "codemirror_mode": {
    "name": "ipython",
    "version": 3
   },
   "file_extension": ".py",
   "mimetype": "text/x-python",
   "name": "python",
   "nbconvert_exporter": "python",
   "pygments_lexer": "ipython3",
   "version": "3.8.10"
  }
 },
 "nbformat": 4,
 "nbformat_minor": 1
}
