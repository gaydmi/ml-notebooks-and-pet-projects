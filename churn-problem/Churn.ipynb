{
  "nbformat": 4,
  "nbformat_minor": 0,
  "metadata": {
    "kernelspec": {
      "display_name": "Python 3",
      "language": "python",
      "name": "python3"
    },
    "colab": {
      "name": "Churn_Gaynullin_Dmitry.ipynb",
      "provenance": []
    }
  },
  "cells": [
    {
      "cell_type": "code",
      "metadata": {
        "id": "5s_puxUHxtxL",
        "colab_type": "code",
        "colab": {}
      },
      "source": [
        "import numpy as np\n",
        "import pandas as pd\n",
        "import matplotlib.pyplot as plt"
      ],
      "execution_count": 28,
      "outputs": []
    },
    {
      "cell_type": "code",
      "metadata": {
        "id": "4iBeCNoHxtxc",
        "colab_type": "code",
        "colab": {
          "base_uri": "https://localhost:8080/",
          "height": 730
        },
        "outputId": "e1419c2a-0a04-4a10-c767-4008b99b5166"
      },
      "source": [
        "data = pd.read_csv('https://raw.githubusercontent.com/0pride/utils/master/training.csv')\n",
        "\n",
        "print (\"Rows     : \" ,data.shape[0])\n",
        "print (\"Columns  : \" ,data.shape[1])\n",
        "print (\"\\nFeatures : \\n\" ,data.columns.tolist())\n",
        "print (\"\\nMissing values :  \", data.isnull().sum().values.sum())\n",
        "print (\"\\nUnique values :  \\n\", data.nunique())\n",
        "data.head()"
      ],
      "execution_count": 29,
      "outputs": [
        {
          "output_type": "stream",
          "text": [
            "Rows     :  11981\n",
            "Columns  :  19\n",
            "\n",
            "Features : \n",
            " ['CUSTOMER_ID', 'COLLEGE', 'DATA', 'INCOME', 'OVERCHARGE', 'LEFTOVER', 'HOUSE', 'LESSTHAN600k', 'CHILD', 'JOB_CLASS', 'REVENUE', 'HANDSET_PRICE', 'OVER_15MINS_CALLS_PER_MONTH', 'TIME_CLIENT', 'AVERAGE_CALL_DURATION', 'REPORTED_SATISFACTION', 'REPORTED_USAGE_LEVEL', 'CONSIDERING_CHANGE_OF_PLAN', 'CHURNED']\n",
            "\n",
            "Missing values :   1270\n",
            "\n",
            "Unique values :  \n",
            " CUSTOMER_ID                    11981\n",
            "COLLEGE                            2\n",
            "DATA                            6639\n",
            "INCOME                         10629\n",
            "OVERCHARGE                       263\n",
            "LEFTOVER                          86\n",
            "HOUSE                          10386\n",
            "LESSTHAN600k                       2\n",
            "CHILD                              8\n",
            "JOB_CLASS                          4\n",
            "REVENUE                          307\n",
            "HANDSET_PRICE                    770\n",
            "OVER_15MINS_CALLS_PER_MONTH       25\n",
            "TIME_CLIENT                      129\n",
            "AVERAGE_CALL_DURATION             13\n",
            "REPORTED_SATISFACTION              5\n",
            "REPORTED_USAGE_LEVEL               5\n",
            "CONSIDERING_CHANGE_OF_PLAN         5\n",
            "CHURNED                            2\n",
            "dtype: int64\n"
          ],
          "name": "stdout"
        },
        {
          "output_type": "execute_result",
          "data": {
            "text/html": [
              "<div>\n",
              "<style scoped>\n",
              "    .dataframe tbody tr th:only-of-type {\n",
              "        vertical-align: middle;\n",
              "    }\n",
              "\n",
              "    .dataframe tbody tr th {\n",
              "        vertical-align: top;\n",
              "    }\n",
              "\n",
              "    .dataframe thead th {\n",
              "        text-align: right;\n",
              "    }\n",
              "</style>\n",
              "<table border=\"1\" class=\"dataframe\">\n",
              "  <thead>\n",
              "    <tr style=\"text-align: right;\">\n",
              "      <th></th>\n",
              "      <th>CUSTOMER_ID</th>\n",
              "      <th>COLLEGE</th>\n",
              "      <th>DATA</th>\n",
              "      <th>INCOME</th>\n",
              "      <th>OVERCHARGE</th>\n",
              "      <th>LEFTOVER</th>\n",
              "      <th>HOUSE</th>\n",
              "      <th>LESSTHAN600k</th>\n",
              "      <th>CHILD</th>\n",
              "      <th>JOB_CLASS</th>\n",
              "      <th>REVENUE</th>\n",
              "      <th>HANDSET_PRICE</th>\n",
              "      <th>OVER_15MINS_CALLS_PER_MONTH</th>\n",
              "      <th>TIME_CLIENT</th>\n",
              "      <th>AVERAGE_CALL_DURATION</th>\n",
              "      <th>REPORTED_SATISFACTION</th>\n",
              "      <th>REPORTED_USAGE_LEVEL</th>\n",
              "      <th>CONSIDERING_CHANGE_OF_PLAN</th>\n",
              "      <th>CHURNED</th>\n",
              "    </tr>\n",
              "  </thead>\n",
              "  <tbody>\n",
              "    <tr>\n",
              "      <th>0</th>\n",
              "      <td>C100000</td>\n",
              "      <td>zero</td>\n",
              "      <td>660.000000</td>\n",
              "      <td>19995.0</td>\n",
              "      <td>0</td>\n",
              "      <td>0</td>\n",
              "      <td>897338.0</td>\n",
              "      <td>False</td>\n",
              "      <td>4</td>\n",
              "      <td>3</td>\n",
              "      <td>160.0</td>\n",
              "      <td>155</td>\n",
              "      <td>1</td>\n",
              "      <td>1.2</td>\n",
              "      <td>15</td>\n",
              "      <td>very_unsat</td>\n",
              "      <td>little</td>\n",
              "      <td>considering</td>\n",
              "      <td>STAY</td>\n",
              "    </tr>\n",
              "    <tr>\n",
              "      <th>1</th>\n",
              "      <td>C100001</td>\n",
              "      <td>one</td>\n",
              "      <td>317.647059</td>\n",
              "      <td>31477.0</td>\n",
              "      <td>155</td>\n",
              "      <td>15</td>\n",
              "      <td>393396.0</td>\n",
              "      <td>True</td>\n",
              "      <td>0</td>\n",
              "      <td>1</td>\n",
              "      <td>100.0</td>\n",
              "      <td>245</td>\n",
              "      <td>27</td>\n",
              "      <td>2.7</td>\n",
              "      <td>4</td>\n",
              "      <td>unsat</td>\n",
              "      <td>little</td>\n",
              "      <td>considering</td>\n",
              "      <td>LEAVE</td>\n",
              "    </tr>\n",
              "    <tr>\n",
              "      <th>2</th>\n",
              "      <td>C100006</td>\n",
              "      <td>zero</td>\n",
              "      <td>208.695652</td>\n",
              "      <td>66742.0</td>\n",
              "      <td>0</td>\n",
              "      <td>13</td>\n",
              "      <td>937197.0</td>\n",
              "      <td>False</td>\n",
              "      <td>4</td>\n",
              "      <td>2</td>\n",
              "      <td>127.0</td>\n",
              "      <td>493</td>\n",
              "      <td>20</td>\n",
              "      <td>2.6</td>\n",
              "      <td>4</td>\n",
              "      <td>avg</td>\n",
              "      <td>very_little</td>\n",
              "      <td>considering</td>\n",
              "      <td>STAY</td>\n",
              "    </tr>\n",
              "    <tr>\n",
              "      <th>3</th>\n",
              "      <td>C100008</td>\n",
              "      <td>zero</td>\n",
              "      <td>265.017668</td>\n",
              "      <td>40864.0</td>\n",
              "      <td>183</td>\n",
              "      <td>0</td>\n",
              "      <td>986430.0</td>\n",
              "      <td>False</td>\n",
              "      <td>3</td>\n",
              "      <td>3</td>\n",
              "      <td>86.0</td>\n",
              "      <td>390</td>\n",
              "      <td>13</td>\n",
              "      <td>2.5</td>\n",
              "      <td>12</td>\n",
              "      <td>unsat</td>\n",
              "      <td>very_high</td>\n",
              "      <td>considering</td>\n",
              "      <td>LEAVE</td>\n",
              "    </tr>\n",
              "    <tr>\n",
              "      <th>4</th>\n",
              "      <td>C100010</td>\n",
              "      <td>one</td>\n",
              "      <td>440.000000</td>\n",
              "      <td>43321.5</td>\n",
              "      <td>200</td>\n",
              "      <td>0</td>\n",
              "      <td>394622.0</td>\n",
              "      <td>True</td>\n",
              "      <td>2</td>\n",
              "      <td>3</td>\n",
              "      <td>77.0</td>\n",
              "      <td>175</td>\n",
              "      <td>18</td>\n",
              "      <td>2.4</td>\n",
              "      <td>10</td>\n",
              "      <td>very_unsat</td>\n",
              "      <td>little</td>\n",
              "      <td>actively_looking_into_it</td>\n",
              "      <td>LEAVE</td>\n",
              "    </tr>\n",
              "  </tbody>\n",
              "</table>\n",
              "</div>"
            ],
            "text/plain": [
              "  CUSTOMER_ID COLLEGE  ...  CONSIDERING_CHANGE_OF_PLAN  CHURNED\n",
              "0     C100000    zero  ...                 considering     STAY\n",
              "1     C100001     one  ...                 considering    LEAVE\n",
              "2     C100006    zero  ...                 considering     STAY\n",
              "3     C100008    zero  ...                 considering    LEAVE\n",
              "4     C100010     one  ...    actively_looking_into_it    LEAVE\n",
              "\n",
              "[5 rows x 19 columns]"
            ]
          },
          "metadata": {
            "tags": []
          },
          "execution_count": 29
        }
      ]
    },
    {
      "cell_type": "markdown",
      "metadata": {
        "id": "tLbC11Rrxtxt",
        "colab_type": "text"
      },
      "source": [
        "# Cleaning up the data"
      ]
    },
    {
      "cell_type": "code",
      "metadata": {
        "id": "LmcpA7tyxtxu",
        "colab_type": "code",
        "colab": {
          "base_uri": "https://localhost:8080/",
          "height": 556
        },
        "outputId": "4d50eaa8-b3bc-4495-c8c2-f6ee8c1b2338"
      },
      "source": [
        "# Data cleaning up\n",
        "\n",
        "data['CHURNED'] = data['CHURNED'].replace('LEAVE', 1)\n",
        "data['CHURNED'] = data['CHURNED'].replace('STAY', 0)\n",
        "data['COLLEGE'] = data['COLLEGE'].replace('zero', 0)\n",
        "data['COLLEGE'] = data['COLLEGE'].replace('one', 1)\n",
        "\n",
        "transform_dict = {'REPORTED_SATISFACTION':{'very_unsat': -2, 'unsat': -1, 'avg': 0, 'sat': 1, 'very_sat': 2}, \n",
        "                  'REPORTED_USAGE_LEVEL': {'very_little': -2, 'little': -1, 'avg': 0, 'high': 1, 'very_high': 2},\n",
        "                  'CONSIDERING_CHANGE_OF_PLAN' : {'never_thought': -2, 'no': -1, 'perhaps': 0, \n",
        "                                                  'considering': 1, 'actively_looking_into_it': 2}}\n",
        "data = data.fillna(method='ffill')\n",
        "\n",
        "for key in transform_dict.keys():\n",
        "    data[key] = data[key].map(transform_dict[key])\n",
        "    \n",
        "for i in data.keys():\n",
        "    print(i + ' : ' + str(type(data[i][0]))  + ' : ' +  str(data[i].nunique()))\n",
        "    \n",
        "data.head()"
      ],
      "execution_count": 30,
      "outputs": [
        {
          "output_type": "stream",
          "text": [
            "CUSTOMER_ID : <class 'str'> : 11981\n",
            "COLLEGE : <class 'numpy.int64'> : 2\n",
            "DATA : <class 'numpy.float64'> : 6639\n",
            "INCOME : <class 'numpy.float64'> : 10629\n",
            "OVERCHARGE : <class 'numpy.int64'> : 263\n",
            "LEFTOVER : <class 'numpy.int64'> : 86\n",
            "HOUSE : <class 'numpy.float64'> : 10386\n",
            "LESSTHAN600k : <class 'numpy.bool_'> : 2\n",
            "CHILD : <class 'numpy.int64'> : 8\n",
            "JOB_CLASS : <class 'numpy.int64'> : 4\n",
            "REVENUE : <class 'numpy.float64'> : 307\n",
            "HANDSET_PRICE : <class 'numpy.int64'> : 770\n",
            "OVER_15MINS_CALLS_PER_MONTH : <class 'numpy.int64'> : 25\n",
            "TIME_CLIENT : <class 'numpy.float64'> : 129\n",
            "AVERAGE_CALL_DURATION : <class 'numpy.int64'> : 13\n",
            "REPORTED_SATISFACTION : <class 'numpy.int64'> : 5\n",
            "REPORTED_USAGE_LEVEL : <class 'numpy.int64'> : 5\n",
            "CONSIDERING_CHANGE_OF_PLAN : <class 'numpy.int64'> : 5\n",
            "CHURNED : <class 'numpy.int64'> : 2\n"
          ],
          "name": "stdout"
        },
        {
          "output_type": "execute_result",
          "data": {
            "text/html": [
              "<div>\n",
              "<style scoped>\n",
              "    .dataframe tbody tr th:only-of-type {\n",
              "        vertical-align: middle;\n",
              "    }\n",
              "\n",
              "    .dataframe tbody tr th {\n",
              "        vertical-align: top;\n",
              "    }\n",
              "\n",
              "    .dataframe thead th {\n",
              "        text-align: right;\n",
              "    }\n",
              "</style>\n",
              "<table border=\"1\" class=\"dataframe\">\n",
              "  <thead>\n",
              "    <tr style=\"text-align: right;\">\n",
              "      <th></th>\n",
              "      <th>CUSTOMER_ID</th>\n",
              "      <th>COLLEGE</th>\n",
              "      <th>DATA</th>\n",
              "      <th>INCOME</th>\n",
              "      <th>OVERCHARGE</th>\n",
              "      <th>LEFTOVER</th>\n",
              "      <th>HOUSE</th>\n",
              "      <th>LESSTHAN600k</th>\n",
              "      <th>CHILD</th>\n",
              "      <th>JOB_CLASS</th>\n",
              "      <th>REVENUE</th>\n",
              "      <th>HANDSET_PRICE</th>\n",
              "      <th>OVER_15MINS_CALLS_PER_MONTH</th>\n",
              "      <th>TIME_CLIENT</th>\n",
              "      <th>AVERAGE_CALL_DURATION</th>\n",
              "      <th>REPORTED_SATISFACTION</th>\n",
              "      <th>REPORTED_USAGE_LEVEL</th>\n",
              "      <th>CONSIDERING_CHANGE_OF_PLAN</th>\n",
              "      <th>CHURNED</th>\n",
              "    </tr>\n",
              "  </thead>\n",
              "  <tbody>\n",
              "    <tr>\n",
              "      <th>0</th>\n",
              "      <td>C100000</td>\n",
              "      <td>0</td>\n",
              "      <td>660.000000</td>\n",
              "      <td>19995.0</td>\n",
              "      <td>0</td>\n",
              "      <td>0</td>\n",
              "      <td>897338.0</td>\n",
              "      <td>False</td>\n",
              "      <td>4</td>\n",
              "      <td>3</td>\n",
              "      <td>160.0</td>\n",
              "      <td>155</td>\n",
              "      <td>1</td>\n",
              "      <td>1.2</td>\n",
              "      <td>15</td>\n",
              "      <td>-2</td>\n",
              "      <td>-1</td>\n",
              "      <td>1</td>\n",
              "      <td>0</td>\n",
              "    </tr>\n",
              "    <tr>\n",
              "      <th>1</th>\n",
              "      <td>C100001</td>\n",
              "      <td>1</td>\n",
              "      <td>317.647059</td>\n",
              "      <td>31477.0</td>\n",
              "      <td>155</td>\n",
              "      <td>15</td>\n",
              "      <td>393396.0</td>\n",
              "      <td>True</td>\n",
              "      <td>0</td>\n",
              "      <td>1</td>\n",
              "      <td>100.0</td>\n",
              "      <td>245</td>\n",
              "      <td>27</td>\n",
              "      <td>2.7</td>\n",
              "      <td>4</td>\n",
              "      <td>-1</td>\n",
              "      <td>-1</td>\n",
              "      <td>1</td>\n",
              "      <td>1</td>\n",
              "    </tr>\n",
              "    <tr>\n",
              "      <th>2</th>\n",
              "      <td>C100006</td>\n",
              "      <td>0</td>\n",
              "      <td>208.695652</td>\n",
              "      <td>66742.0</td>\n",
              "      <td>0</td>\n",
              "      <td>13</td>\n",
              "      <td>937197.0</td>\n",
              "      <td>False</td>\n",
              "      <td>4</td>\n",
              "      <td>2</td>\n",
              "      <td>127.0</td>\n",
              "      <td>493</td>\n",
              "      <td>20</td>\n",
              "      <td>2.6</td>\n",
              "      <td>4</td>\n",
              "      <td>0</td>\n",
              "      <td>-2</td>\n",
              "      <td>1</td>\n",
              "      <td>0</td>\n",
              "    </tr>\n",
              "    <tr>\n",
              "      <th>3</th>\n",
              "      <td>C100008</td>\n",
              "      <td>0</td>\n",
              "      <td>265.017668</td>\n",
              "      <td>40864.0</td>\n",
              "      <td>183</td>\n",
              "      <td>0</td>\n",
              "      <td>986430.0</td>\n",
              "      <td>False</td>\n",
              "      <td>3</td>\n",
              "      <td>3</td>\n",
              "      <td>86.0</td>\n",
              "      <td>390</td>\n",
              "      <td>13</td>\n",
              "      <td>2.5</td>\n",
              "      <td>12</td>\n",
              "      <td>-1</td>\n",
              "      <td>2</td>\n",
              "      <td>1</td>\n",
              "      <td>1</td>\n",
              "    </tr>\n",
              "    <tr>\n",
              "      <th>4</th>\n",
              "      <td>C100010</td>\n",
              "      <td>1</td>\n",
              "      <td>440.000000</td>\n",
              "      <td>43321.5</td>\n",
              "      <td>200</td>\n",
              "      <td>0</td>\n",
              "      <td>394622.0</td>\n",
              "      <td>True</td>\n",
              "      <td>2</td>\n",
              "      <td>3</td>\n",
              "      <td>77.0</td>\n",
              "      <td>175</td>\n",
              "      <td>18</td>\n",
              "      <td>2.4</td>\n",
              "      <td>10</td>\n",
              "      <td>-2</td>\n",
              "      <td>-1</td>\n",
              "      <td>2</td>\n",
              "      <td>1</td>\n",
              "    </tr>\n",
              "  </tbody>\n",
              "</table>\n",
              "</div>"
            ],
            "text/plain": [
              "  CUSTOMER_ID  COLLEGE  ...  CONSIDERING_CHANGE_OF_PLAN  CHURNED\n",
              "0     C100000        0  ...                           1        0\n",
              "1     C100001        1  ...                           1        1\n",
              "2     C100006        0  ...                           1        0\n",
              "3     C100008        0  ...                           1        1\n",
              "4     C100010        1  ...                           2        1\n",
              "\n",
              "[5 rows x 19 columns]"
            ]
          },
          "metadata": {
            "tags": []
          },
          "execution_count": 30
        }
      ]
    },
    {
      "cell_type": "markdown",
      "metadata": {
        "id": "ThYgNYfQFosV",
        "colab_type": "text"
      },
      "source": [
        "#Data exploration and feature importance"
      ]
    },
    {
      "cell_type": "markdown",
      "metadata": {
        "id": "1-50ZZGjKZrD",
        "colab_type": "text"
      },
      "source": [
        "##Customer attrition in data\n",
        "\n",
        "\n"
      ]
    },
    {
      "cell_type": "code",
      "metadata": {
        "id": "DK4mzBlmFn_w",
        "colab_type": "code",
        "colab": {
          "base_uri": "https://localhost:8080/",
          "height": 265
        },
        "outputId": "885a8b65-b687-476e-c61d-f3b6fd0103c1"
      },
      "source": [
        "import warnings\n",
        "warnings.filterwarnings(\"ignore\")\n",
        "import io\n",
        "import plotly.offline as py#visualization\n",
        "py.init_notebook_mode(connected=True)#visualization\n",
        "import plotly.graph_objs as go#visualization\n",
        "import plotly.tools as tls#visualization\n",
        "import plotly.figure_factory as ff#visualization\n",
        "\n",
        "\n",
        "print(\"Customer attrition in data\")\n",
        "#labels\n",
        "labels = data['CHURNED'].value_counts().keys().tolist()\n",
        "\n",
        "#values\n",
        "values = data['CHURNED'].value_counts().values.tolist()\n",
        "explode = (0, 0)\n",
        "\n",
        "fig1, ax1 = plt.subplots()\n",
        "ax1.pie(values, explode=explode, labels=labels, autopct='%1.1f%%',\n",
        "        shadow=True, startangle=90)\n",
        "ax1.axis('equal')  # Equal aspect ratio ensures that pie is drawn as a circle.\n",
        "\n",
        "plt.show()\n"
      ],
      "execution_count": 31,
      "outputs": [
        {
          "output_type": "display_data",
          "data": {
            "text/html": [
              "        <script type=\"text/javascript\">\n",
              "        window.PlotlyConfig = {MathJaxConfig: 'local'};\n",
              "        if (window.MathJax) {MathJax.Hub.Config({SVG: {font: \"STIX-Web\"}});}\n",
              "        if (typeof require !== 'undefined') {\n",
              "        require.undef(\"plotly\");\n",
              "        requirejs.config({\n",
              "            paths: {\n",
              "                'plotly': ['https://cdn.plot.ly/plotly-latest.min']\n",
              "            }\n",
              "        });\n",
              "        require(['plotly'], function(Plotly) {\n",
              "            window._Plotly = Plotly;\n",
              "        });\n",
              "        }\n",
              "        </script>\n",
              "        "
            ]
          },
          "metadata": {
            "tags": []
          }
        },
        {
          "output_type": "stream",
          "text": [
            "Customer attrition in data\n"
          ],
          "name": "stdout"
        },
        {
          "output_type": "display_data",
          "data": {
            "image/png": "[encoded data removed]",
            "text/plain": [
              "<Figure size 432x288 with 1 Axes>"
            ]
          },
          "metadata": {
            "tags": []
          }
        }
      ]
    },
    {
      "cell_type": "code",
      "metadata": {
        "id": "bk7UlrSZKcqF",
        "colab_type": "code",
        "colab": {
          "base_uri": "https://localhost:8080/",
          "height": 1000
        },
        "outputId": "5bcfe6e0-d62e-41ba-e209-16e5bbeb399a"
      },
      "source": [
        "print(\"Home price distribution in customer attrition (less than 600k)\")\n",
        "print(\"Churned customers\")\n",
        "#labels\n",
        "labels = data[data['CHURNED'] == 1]['LESSTHAN600k'].value_counts().keys().tolist()\n",
        "\n",
        "#values\n",
        "values = data[data['CHURNED'] == 1]['LESSTHAN600k'].value_counts().values.tolist()\n",
        "explode = (0, 0)\n",
        "\n",
        "fig1, ax1 = plt.subplots()\n",
        "ax1.pie(values, explode=explode, labels=labels, autopct='%1.1f%%',\n",
        "        shadow=True, startangle=90)\n",
        "ax1.axis('equal')  # Equal aspect ratio ensures that pie is drawn as a circle.\n",
        "\n",
        "plt.show()\n",
        "\n",
        "print(\"Non churned customers\")\n",
        "#labels\n",
        "labels = data[data['CHURNED'] == 0]['LESSTHAN600k'].value_counts().keys().tolist()\n",
        "\n",
        "#values\n",
        "values = data[data['CHURNED'] == 0]['LESSTHAN600k'].value_counts().values.tolist()\n",
        "explode = (0, 0)\n",
        "\n",
        "fig1, ax1 = plt.subplots()\n",
        "ax1.pie(values, explode=explode, labels=labels, autopct='%1.1f%%',\n",
        "        shadow=True, startangle=90)\n",
        "ax1.axis('equal')  # Equal aspect ratio ensures that pie is drawn as a circle.\n",
        "\n",
        "plt.show()\n",
        "print(\"-----------------------------------------------------------------------------------\")\n",
        "print(\"College degree distribution in customer attrition\")\n",
        "print(\"Churned customers\")\n",
        "#labels\n",
        "labels = data[data['CHURNED'] == 1]['COLLEGE'].value_counts().keys().tolist()\n",
        "\n",
        "#values\n",
        "values = data[data['CHURNED'] == 1]['COLLEGE'].value_counts().values.tolist()\n",
        "explode = (0, 0)\n",
        "\n",
        "fig1, ax2 = plt.subplots()\n",
        "ax2.pie(values, explode=explode, labels=labels, autopct='%1.1f%%',\n",
        "        shadow=True, startangle=90)\n",
        "ax2.axis('equal')  # Equal aspect ratio ensures that pie is drawn as a circle.\n",
        "\n",
        "plt.show()\n",
        "\n",
        "print(\"Non churned customers\")\n",
        "#labels\n",
        "labels = data[data['CHURNED'] == 0]['COLLEGE'].value_counts().keys().tolist()\n",
        "\n",
        "#values\n",
        "values = data[data['CHURNED'] == 0]['COLLEGE'].value_counts().values.tolist()\n",
        "explode = (0, 0)\n",
        "\n",
        "fig1, ax2 = plt.subplots()\n",
        "ax2.pie(values, explode=explode, labels=labels, autopct='%1.1f%%',\n",
        "        shadow=True, startangle=90)\n",
        "ax2.axis('equal')  # Equal aspect ratio ensures that pie is drawn as a circle.\n",
        "\n",
        "plt.show()\n",
        "\n",
        "print(\"-----------------------------------------------------------------------------------\")\n",
        "print(\"Quantity of children in customer attrition\")\n",
        "print(\"Churned customers\")\n",
        "#labels\n",
        "labels = data[data['CHURNED'] == 1]['CHILD'].value_counts().keys().tolist()\n",
        "\n",
        "#values\n",
        "values = data[data['CHURNED'] == 1]['CHILD'].value_counts().values.tolist()\n",
        "explode = [0] * len(values)\n",
        "\n",
        "fig1, ax1 = plt.subplots()\n",
        "ax1.pie(values, explode=explode, labels=labels, autopct='%1.1f%%',\n",
        "        shadow=True, startangle=90)\n",
        "ax1.axis('equal')  # Equal aspect ratio ensures that pie is drawn as a circle.\n",
        "\n",
        "plt.show()\n",
        "\n",
        "print(\"Quantity of children in customer attrition\")\n",
        "print(\"Non churned customers\")\n",
        "#labels\n",
        "labels = data[data['CHURNED'] == 0]['CHILD'].value_counts().keys().tolist()\n",
        "\n",
        "#values\n",
        "values = data[data['CHURNED'] == 0]['CHILD'].value_counts().values.tolist()\n",
        "explode = [0] * len(values)\n",
        "\n",
        "fig1, ax1 = plt.subplots()\n",
        "ax1.pie(values, explode=explode, labels=labels, autopct='%1.1f%%',\n",
        "        shadow=True, startangle=90)\n",
        "ax1.axis('equal')  # Equal aspect ratio ensures that pie is drawn as a circle.\n",
        "\n",
        "plt.show()\n",
        "\n",
        "print(\"-----------------------------------------------------------------------------------\")\n",
        "print(\"Job class distribution in customer attrition\")\n",
        "print(\"Churned customers\")\n",
        "#labels\n",
        "labels = data[data['CHURNED'] == 1]['JOB_CLASS'].value_counts().keys().tolist()\n",
        "\n",
        "#values\n",
        "values = data[data['CHURNED'] == 1]['JOB_CLASS'].value_counts().values.tolist()\n",
        "explode = [0] * len(values)\n",
        "\n",
        "fig1, ax1 = plt.subplots()\n",
        "ax1.pie(values, explode=explode, labels=labels, autopct='%1.1f%%',\n",
        "        shadow=True, startangle=90)\n",
        "ax1.axis('equal')  # Equal aspect ratio ensures that pie is drawn as a circle.\n",
        "\n",
        "plt.show()\n",
        "\n",
        "print(\"Job class distribution in customer attrition\")\n",
        "print(\"Non churned customers\")\n",
        "#labels\n",
        "labels = data[data['CHURNED'] == 0]['JOB_CLASS'].value_counts().keys().tolist()\n",
        "\n",
        "#values\n",
        "values = data[data['CHURNED'] == 0]['JOB_CLASS'].value_counts().values.tolist()\n",
        "explode = [0] * len(values)\n",
        "\n",
        "fig1, ax1 = plt.subplots()\n",
        "ax1.pie(values, explode=explode, labels=labels, autopct='%1.1f%%',\n",
        "        shadow=True, startangle=90)\n",
        "ax1.axis('equal')  # Equal aspect ratio ensures that pie is drawn as a circle.\n",
        "\n",
        "plt.show()"
      ],
      "execution_count": 63,
      "outputs": [
        {
          "output_type": "stream",
          "text": [
            "Home price distribution in customer attrition (less than 600k)\n",
            "Churned customers\n"
          ],
          "name": "stdout"
        },
        {
          "output_type": "display_data",
          "data": {
            "image/png": "[encoded data removed]",
            "text/plain": [
              "<Figure size 432x288 with 1 Axes>"
            ]
          },
          "metadata": {
            "tags": []
          }
        },
        {
          "output_type": "stream",
          "text": [
            "Non churned customers\n"
          ],
          "name": "stdout"
        },
        {
          "output_type": "display_data",
          "data": {
            "image/png": "[encoded data removed]",
            "text/plain": [
              "<Figure size 432x288 with 1 Axes>"
            ]
          },
          "metadata": {
            "tags": []
          }
        },
        {
          "output_type": "stream",
          "text": [
            "-----------------------------------------------------------------------------------\n",
            "College degree distribution in customer attrition\n",
            "Churned customers\n"
          ],
          "name": "stdout"
        },
        {
          "output_type": "display_data",
          "data": {
            "image/png": "[encoded data removed]",
            "text/plain": [
              "<Figure size 432x288 with 1 Axes>"
            ]
          },
          "metadata": {
            "tags": []
          }
        },
        {
          "output_type": "stream",
          "text": [
            "Non churned customers\n"
          ],
          "name": "stdout"
        },
        {
          "output_type": "display_data",
          "data": {
            "image/png": "[encoded data removed]",
            "text/plain": [
              "<Figure size 432x288 with 1 Axes>"
            ]
          },
          "metadata": {
            "tags": []
          }
        },
        {
          "output_type": "stream",
          "text": [
            "-----------------------------------------------------------------------------------\n",
            "Quantity of children in customer attrition\n",
            "Churned customers\n"
          ],
          "name": "stdout"
        },
        {
          "output_type": "display_data",
          "data": {
            "image/png": "[encoded data removed]",
            "text/plain": [
              "<Figure size 432x288 with 1 Axes>"
            ]
          },
          "metadata": {
            "tags": []
          }
        },
        {
          "output_type": "stream",
          "text": [
            "Quantity of children in customer attrition\n",
            "Non churned customers\n"
          ],
          "name": "stdout"
        },
        {
          "output_type": "display_data",
          "data": {
            "image/png": "[encoded data removed]",
            "text/plain": [
              "<Figure size 432x288 with 1 Axes>"
            ]
          },
          "metadata": {
            "tags": []
          }
        },
        {
          "output_type": "stream",
          "text": [
            "-----------------------------------------------------------------------------------\n",
            "Job class distribution in customer attrition\n",
            "Churned customers\n"
          ],
          "name": "stdout"
        },
        {
          "output_type": "display_data",
          "data": {
            "image/png": "[encoded data removed]",
            "text/plain": [
              "<Figure size 432x288 with 1 Axes>"
            ]
          },
          "metadata": {
            "tags": []
          }
        },
        {
          "output_type": "stream",
          "text": [
            "Job class distribution in customer attrition\n",
            "Non churned customers\n"
          ],
          "name": "stdout"
        },
        {
          "output_type": "display_data",
          "data": {
            "image/png": "[encoded data removed]",
            "text/plain": [
              "<Figure size 432x288 with 1 Axes>"
            ]
          },
          "metadata": {
            "tags": []
          }
        }
      ]
    },
    {
      "cell_type": "code",
      "metadata": {
        "id": "S4_Vx8S6joa-",
        "colab_type": "code",
        "colab": {
          "base_uri": "https://localhost:8080/",
          "height": 34
        },
        "outputId": "c67af86f-e2be-494c-f68e-c5689e95d383"
      },
      "source": [
        "data.dtypes\n",
        "(data[data['CHURNED'] == 1]['REPORTED_SATISFACTION'] >= 0).value_counts().keys().tolist()"
      ],
      "execution_count": 61,
      "outputs": [
        {
          "output_type": "execute_result",
          "data": {
            "text/plain": [
              "[False, True]"
            ]
          },
          "metadata": {
            "tags": []
          },
          "execution_count": 61
        }
      ]
    },
    {
      "cell_type": "code",
      "metadata": {
        "id": "Jcg3LaLMKctd",
        "colab_type": "code",
        "colab": {
          "base_uri": "https://localhost:8080/",
          "height": 1000
        },
        "outputId": "490b71f1-2955-4c46-c639-a30d412b9007"
      },
      "source": [
        "print(\"-----------------------------------------------------------------------------------\")\n",
        "print(\"Reported satisfaction in customer attrition\")\n",
        "print(\"Churned customers\")\n",
        "#labels\n",
        "labels = (data[data['CHURNED'] == 1]['REPORTED_SATISFACTION'] >= 0).value_counts().keys().tolist()\n",
        "\n",
        "#values\n",
        "values = (data[data['CHURNED'] == 1]['REPORTED_SATISFACTION'] >= 0).value_counts().values.tolist()\n",
        "explode = [0] * len(values)\n",
        "\n",
        "fig1, ax1 = plt.subplots()\n",
        "ax1.pie(values, explode=explode, labels=labels, autopct='%1.1f%%',\n",
        "        shadow=True, startangle=90)\n",
        "ax1.axis('equal')  # Equal aspect ratio ensures that pie is drawn as a circle.\n",
        "\n",
        "plt.show()\n",
        "\n",
        "print(\"Reported satisfaction in customer attrition\")\n",
        "print(\"Non churned customers\")\n",
        "#labels\n",
        "labels = (data[data['CHURNED'] == 0]['REPORTED_SATISFACTION'] >= 0).value_counts().keys().tolist()\n",
        "\n",
        "#values\n",
        "values = (data[data['CHURNED'] == 0]['REPORTED_SATISFACTION'] >= 0).value_counts().values.tolist()\n",
        "explode = [0] * len(values)\n",
        "\n",
        "fig1, ax1 = plt.subplots()\n",
        "ax1.pie(values, explode=explode, labels=labels, autopct='%1.1f%%',\n",
        "        shadow=True, startangle=90)\n",
        "ax1.axis('equal')  # Equal aspect ratio ensures that pie is drawn as a circle.\n",
        "\n",
        "plt.show()\n",
        "\n",
        "print(\"-----------------------------------------------------------------------------------\")\n",
        "print(\"Reported usage level in customer attrition\")\n",
        "print(\"Churned customers\")\n",
        "#labels\n",
        "labels = (data[data['CHURNED'] == 1]['REPORTED_USAGE_LEVEL'] >= 0).value_counts().keys().tolist()\n",
        "\n",
        "#values\n",
        "values = (data[data['CHURNED'] == 1]['REPORTED_USAGE_LEVEL'] >= 0).value_counts().values.tolist()\n",
        "explode = [0] * len(values)\n",
        "\n",
        "fig1, ax1 = plt.subplots()\n",
        "ax1.pie(values, explode=explode, labels=labels, autopct='%1.1f%%',\n",
        "        shadow=True, startangle=90)\n",
        "ax1.axis('equal')  # Equal aspect ratio ensures that pie is drawn as a circle.\n",
        "\n",
        "plt.show()\n",
        "\n",
        "print(\"Reported usage level in customer attrition\")\n",
        "print(\"Non churned customers\")\n",
        "#labels\n",
        "labels = (data[data['CHURNED'] == 0]['REPORTED_USAGE_LEVEL'] >= 0).value_counts().keys().tolist()\n",
        "\n",
        "#values\n",
        "values = (data[data['CHURNED'] == 0]['REPORTED_USAGE_LEVEL'] >= 0).value_counts().values.tolist()\n",
        "explode = [0] * len(values)\n",
        "\n",
        "fig1, ax1 = plt.subplots()\n",
        "ax1.pie(values, explode=explode, labels=labels, autopct='%1.1f%%',\n",
        "        shadow=True, startangle=90)\n",
        "ax1.axis('equal')  # Equal aspect ratio ensures that pie is drawn as a circle.\n",
        "\n",
        "plt.show()\n",
        "\n",
        "print(\"-----------------------------------------------------------------------------------\")\n",
        "print(\"Considering change of plan in customer attrition\")\n",
        "print(\"Churned customers\")\n",
        "#labels\n",
        "labels = (data[data['CHURNED'] == 1]['CONSIDERING_CHANGE_OF_PLAN'] >= 0).value_counts().keys().tolist()\n",
        "\n",
        "#values\n",
        "values = (data[data['CHURNED'] == 1]['CONSIDERING_CHANGE_OF_PLAN'] >= 0).value_counts().values.tolist()\n",
        "explode = [0] * len(values)\n",
        "\n",
        "fig1, ax1 = plt.subplots()\n",
        "ax1.pie(values, explode=explode, labels=labels, autopct='%1.1f%%',\n",
        "        shadow=True, startangle=90)\n",
        "ax1.axis('equal')  # Equal aspect ratio ensures that pie is drawn as a circle.\n",
        "\n",
        "plt.show()\n",
        "\n",
        "print(\"Considering change of plan in customer attrition\")\n",
        "print(\"Non churned customers\")\n",
        "#labels\n",
        "labels = (data[data['CHURNED'] == 0]['CONSIDERING_CHANGE_OF_PLAN'] >= 0).value_counts().keys().tolist()\n",
        "\n",
        "#values\n",
        "values = (data[data['CHURNED'] == 0]['CONSIDERING_CHANGE_OF_PLAN'] >= 0).value_counts().values.tolist()\n",
        "explode = [0] * len(values)\n",
        "\n",
        "fig1, ax1 = plt.subplots()\n",
        "ax1.pie(values, explode=explode, labels=labels, autopct='%1.1f%%',\n",
        "        shadow=True, startangle=90)\n",
        "ax1.axis('equal')  # Equal aspect ratio ensures that pie is drawn as a circle.\n",
        "\n",
        "plt.show()"
      ],
      "execution_count": 64,
      "outputs": [
        {
          "output_type": "stream",
          "text": [
            "-----------------------------------------------------------------------------------\n",
            "Reported satisfaction in customer attrition\n",
            "Churned customers\n"
          ],
          "name": "stdout"
        },
        {
          "output_type": "display_data",
          "data": {
            "image/png": "[encoded data removed]",
            "text/plain": [
              "<Figure size 432x288 with 1 Axes>"
            ]
          },
          "metadata": {
            "tags": []
          }
        },
        {
          "output_type": "stream",
          "text": [
            "Reported satisfaction in customer attrition\n",
            "Non churned customers\n"
          ],
          "name": "stdout"
        },
        {
          "output_type": "display_data",
          "data": {
            "image/png": "[encoded data removed]",
            "text/plain": [
              "<Figure size 432x288 with 1 Axes>"
            ]
          },
          "metadata": {
            "tags": []
          }
        },
        {
          "output_type": "stream",
          "text": [
            "-----------------------------------------------------------------------------------\n",
            "Reported usage level in customer attrition\n",
            "Churned customers\n"
          ],
          "name": "stdout"
        },
        {
          "output_type": "display_data",
          "data": {
            "image/png": "[encoded data removed]",
            "text/plain": [
              "<Figure size 432x288 with 1 Axes>"
            ]
          },
          "metadata": {
            "tags": []
          }
        },
        {
          "output_type": "stream",
          "text": [
            "Reported usage level in customer attrition\n",
            "Non churned customers\n"
          ],
          "name": "stdout"
        },
        {
          "output_type": "display_data",
          "data": {
            "image/png": "[encoded data removed]",
            "text/plain": [
              "<Figure size 432x288 with 1 Axes>"
            ]
          },
          "metadata": {
            "tags": []
          }
        },
        {
          "output_type": "stream",
          "text": [
            "-----------------------------------------------------------------------------------\n",
            "Considering change of plan in customer attrition\n",
            "Churned customers\n"
          ],
          "name": "stdout"
        },
        {
          "output_type": "display_data",
          "data": {
            "image/png": "[encoded data removed]",
            "text/plain": [
              "<Figure size 432x288 with 1 Axes>"
            ]
          },
          "metadata": {
            "tags": []
          }
        },
        {
          "output_type": "stream",
          "text": [
            "Considering change of plan in customer attrition\n",
            "Non churned customers\n"
          ],
          "name": "stdout"
        },
        {
          "output_type": "display_data",
          "data": {
            "image/png": "[encoded data removed]",
            "text/plain": [
              "<Figure size 432x288 with 1 Axes>"
            ]
          },
          "metadata": {
            "tags": []
          }
        }
      ]
    },
    {
      "cell_type": "code",
      "metadata": {
        "id": "KMqHgjjeFoCr",
        "colab_type": "code",
        "colab": {
          "base_uri": "https://localhost:8080/",
          "height": 444
        },
        "outputId": "17e66c5d-5003-441b-9fe8-4f74e8ab9a2f"
      },
      "source": [
        "data"
      ],
      "execution_count": 18,
      "outputs": [
        {
          "output_type": "execute_result",
          "data": {
            "text/html": [
              "<div>\n",
              "<style scoped>\n",
              "    .dataframe tbody tr th:only-of-type {\n",
              "        vertical-align: middle;\n",
              "    }\n",
              "\n",
              "    .dataframe tbody tr th {\n",
              "        vertical-align: top;\n",
              "    }\n",
              "\n",
              "    .dataframe thead th {\n",
              "        text-align: right;\n",
              "    }\n",
              "</style>\n",
              "<table border=\"1\" class=\"dataframe\">\n",
              "  <thead>\n",
              "    <tr style=\"text-align: right;\">\n",
              "      <th></th>\n",
              "      <th>CUSTOMER_ID</th>\n",
              "      <th>COLLEGE</th>\n",
              "      <th>DATA</th>\n",
              "      <th>INCOME</th>\n",
              "      <th>OVERCHARGE</th>\n",
              "      <th>LEFTOVER</th>\n",
              "      <th>HOUSE</th>\n",
              "      <th>LESSTHAN600k</th>\n",
              "      <th>CHILD</th>\n",
              "      <th>JOB_CLASS</th>\n",
              "      <th>REVENUE</th>\n",
              "      <th>HANDSET_PRICE</th>\n",
              "      <th>OVER_15MINS_CALLS_PER_MONTH</th>\n",
              "      <th>TIME_CLIENT</th>\n",
              "      <th>AVERAGE_CALL_DURATION</th>\n",
              "      <th>REPORTED_SATISFACTION</th>\n",
              "      <th>REPORTED_USAGE_LEVEL</th>\n",
              "      <th>CONSIDERING_CHANGE_OF_PLAN</th>\n",
              "      <th>CHURNED</th>\n",
              "    </tr>\n",
              "  </thead>\n",
              "  <tbody>\n",
              "    <tr>\n",
              "      <th>0</th>\n",
              "      <td>C100000</td>\n",
              "      <td>0</td>\n",
              "      <td>660.000000</td>\n",
              "      <td>19995.0</td>\n",
              "      <td>0</td>\n",
              "      <td>0</td>\n",
              "      <td>897338.0</td>\n",
              "      <td>False</td>\n",
              "      <td>4</td>\n",
              "      <td>3</td>\n",
              "      <td>160.0</td>\n",
              "      <td>155</td>\n",
              "      <td>1</td>\n",
              "      <td>1.2</td>\n",
              "      <td>15</td>\n",
              "      <td>-2</td>\n",
              "      <td>-1</td>\n",
              "      <td>1</td>\n",
              "      <td>0</td>\n",
              "    </tr>\n",
              "    <tr>\n",
              "      <th>1</th>\n",
              "      <td>C100001</td>\n",
              "      <td>1</td>\n",
              "      <td>317.647059</td>\n",
              "      <td>31477.0</td>\n",
              "      <td>155</td>\n",
              "      <td>15</td>\n",
              "      <td>393396.0</td>\n",
              "      <td>True</td>\n",
              "      <td>0</td>\n",
              "      <td>1</td>\n",
              "      <td>100.0</td>\n",
              "      <td>245</td>\n",
              "      <td>27</td>\n",
              "      <td>2.7</td>\n",
              "      <td>4</td>\n",
              "      <td>-1</td>\n",
              "      <td>-1</td>\n",
              "      <td>1</td>\n",
              "      <td>1</td>\n",
              "    </tr>\n",
              "    <tr>\n",
              "      <th>2</th>\n",
              "      <td>C100006</td>\n",
              "      <td>0</td>\n",
              "      <td>208.695652</td>\n",
              "      <td>66742.0</td>\n",
              "      <td>0</td>\n",
              "      <td>13</td>\n",
              "      <td>937197.0</td>\n",
              "      <td>False</td>\n",
              "      <td>4</td>\n",
              "      <td>2</td>\n",
              "      <td>127.0</td>\n",
              "      <td>493</td>\n",
              "      <td>20</td>\n",
              "      <td>2.6</td>\n",
              "      <td>4</td>\n",
              "      <td>0</td>\n",
              "      <td>-2</td>\n",
              "      <td>1</td>\n",
              "      <td>0</td>\n",
              "    </tr>\n",
              "    <tr>\n",
              "      <th>3</th>\n",
              "      <td>C100008</td>\n",
              "      <td>0</td>\n",
              "      <td>265.017668</td>\n",
              "      <td>40864.0</td>\n",
              "      <td>183</td>\n",
              "      <td>0</td>\n",
              "      <td>986430.0</td>\n",
              "      <td>False</td>\n",
              "      <td>3</td>\n",
              "      <td>3</td>\n",
              "      <td>86.0</td>\n",
              "      <td>390</td>\n",
              "      <td>13</td>\n",
              "      <td>2.5</td>\n",
              "      <td>12</td>\n",
              "      <td>-1</td>\n",
              "      <td>2</td>\n",
              "      <td>1</td>\n",
              "      <td>1</td>\n",
              "    </tr>\n",
              "    <tr>\n",
              "      <th>4</th>\n",
              "      <td>C100010</td>\n",
              "      <td>1</td>\n",
              "      <td>440.000000</td>\n",
              "      <td>43321.5</td>\n",
              "      <td>200</td>\n",
              "      <td>0</td>\n",
              "      <td>394622.0</td>\n",
              "      <td>True</td>\n",
              "      <td>2</td>\n",
              "      <td>3</td>\n",
              "      <td>77.0</td>\n",
              "      <td>175</td>\n",
              "      <td>18</td>\n",
              "      <td>2.4</td>\n",
              "      <td>10</td>\n",
              "      <td>-2</td>\n",
              "      <td>-1</td>\n",
              "      <td>2</td>\n",
              "      <td>1</td>\n",
              "    </tr>\n",
              "    <tr>\n",
              "      <th>...</th>\n",
              "      <td>...</td>\n",
              "      <td>...</td>\n",
              "      <td>...</td>\n",
              "      <td>...</td>\n",
              "      <td>...</td>\n",
              "      <td>...</td>\n",
              "      <td>...</td>\n",
              "      <td>...</td>\n",
              "      <td>...</td>\n",
              "      <td>...</td>\n",
              "      <td>...</td>\n",
              "      <td>...</td>\n",
              "      <td>...</td>\n",
              "      <td>...</td>\n",
              "      <td>...</td>\n",
              "      <td>...</td>\n",
              "      <td>...</td>\n",
              "      <td>...</td>\n",
              "      <td>...</td>\n",
              "    </tr>\n",
              "    <tr>\n",
              "      <th>11976</th>\n",
              "      <td>C115967</td>\n",
              "      <td>1</td>\n",
              "      <td>829.787234</td>\n",
              "      <td>40567.0</td>\n",
              "      <td>41</td>\n",
              "      <td>7</td>\n",
              "      <td>458723.0</td>\n",
              "      <td>True</td>\n",
              "      <td>0</td>\n",
              "      <td>4</td>\n",
              "      <td>128.0</td>\n",
              "      <td>305</td>\n",
              "      <td>5</td>\n",
              "      <td>3.9</td>\n",
              "      <td>4</td>\n",
              "      <td>0</td>\n",
              "      <td>-1</td>\n",
              "      <td>2</td>\n",
              "      <td>0</td>\n",
              "    </tr>\n",
              "    <tr>\n",
              "      <th>11977</th>\n",
              "      <td>C115968</td>\n",
              "      <td>0</td>\n",
              "      <td>723.529412</td>\n",
              "      <td>75007.5</td>\n",
              "      <td>70</td>\n",
              "      <td>0</td>\n",
              "      <td>328171.0</td>\n",
              "      <td>True</td>\n",
              "      <td>3</td>\n",
              "      <td>1</td>\n",
              "      <td>199.0</td>\n",
              "      <td>610</td>\n",
              "      <td>5</td>\n",
              "      <td>4.1</td>\n",
              "      <td>13</td>\n",
              "      <td>-1</td>\n",
              "      <td>-1</td>\n",
              "      <td>2</td>\n",
              "      <td>1</td>\n",
              "    </tr>\n",
              "    <tr>\n",
              "      <th>11978</th>\n",
              "      <td>C115970</td>\n",
              "      <td>0</td>\n",
              "      <td>80.000000</td>\n",
              "      <td>77674.5</td>\n",
              "      <td>0</td>\n",
              "      <td>80</td>\n",
              "      <td>439967.0</td>\n",
              "      <td>True</td>\n",
              "      <td>3</td>\n",
              "      <td>1</td>\n",
              "      <td>94.0</td>\n",
              "      <td>750</td>\n",
              "      <td>1</td>\n",
              "      <td>1.4</td>\n",
              "      <td>1</td>\n",
              "      <td>-1</td>\n",
              "      <td>-1</td>\n",
              "      <td>2</td>\n",
              "      <td>1</td>\n",
              "    </tr>\n",
              "    <tr>\n",
              "      <th>11979</th>\n",
              "      <td>C115972</td>\n",
              "      <td>0</td>\n",
              "      <td>77.777778</td>\n",
              "      <td>37730.5</td>\n",
              "      <td>0</td>\n",
              "      <td>17</td>\n",
              "      <td>795808.0</td>\n",
              "      <td>False</td>\n",
              "      <td>3</td>\n",
              "      <td>1</td>\n",
              "      <td>142.0</td>\n",
              "      <td>284</td>\n",
              "      <td>0</td>\n",
              "      <td>1.7</td>\n",
              "      <td>8</td>\n",
              "      <td>-2</td>\n",
              "      <td>-1</td>\n",
              "      <td>1</td>\n",
              "      <td>0</td>\n",
              "    </tr>\n",
              "    <tr>\n",
              "      <th>11980</th>\n",
              "      <td>C115973</td>\n",
              "      <td>1</td>\n",
              "      <td>192.926045</td>\n",
              "      <td>34867.5</td>\n",
              "      <td>33</td>\n",
              "      <td>80</td>\n",
              "      <td>291220.0</td>\n",
              "      <td>True</td>\n",
              "      <td>2</td>\n",
              "      <td>4</td>\n",
              "      <td>139.0</td>\n",
              "      <td>255</td>\n",
              "      <td>4</td>\n",
              "      <td>5.0</td>\n",
              "      <td>15</td>\n",
              "      <td>-2</td>\n",
              "      <td>-1</td>\n",
              "      <td>0</td>\n",
              "      <td>0</td>\n",
              "    </tr>\n",
              "  </tbody>\n",
              "</table>\n",
              "<p>11981 rows × 19 columns</p>\n",
              "</div>"
            ],
            "text/plain": [
              "      CUSTOMER_ID  COLLEGE  ...  CONSIDERING_CHANGE_OF_PLAN  CHURNED\n",
              "0         C100000        0  ...                           1        0\n",
              "1         C100001        1  ...                           1        1\n",
              "2         C100006        0  ...                           1        0\n",
              "3         C100008        0  ...                           1        1\n",
              "4         C100010        1  ...                           2        1\n",
              "...           ...      ...  ...                         ...      ...\n",
              "11976     C115967        1  ...                           2        0\n",
              "11977     C115968        0  ...                           2        1\n",
              "11978     C115970        0  ...                           2        1\n",
              "11979     C115972        0  ...                           1        0\n",
              "11980     C115973        1  ...                           0        0\n",
              "\n",
              "[11981 rows x 19 columns]"
            ]
          },
          "metadata": {
            "tags": []
          },
          "execution_count": 18
        }
      ]
    },
    {
      "cell_type": "code",
      "metadata": {
        "id": "op4TjwXPFn9G",
        "colab_type": "code",
        "colab": {}
      },
      "source": [
        ""
      ],
      "execution_count": null,
      "outputs": []
    },
    {
      "cell_type": "code",
      "metadata": {
        "id": "EZPZe6sBFn6_",
        "colab_type": "code",
        "colab": {
          "base_uri": "https://localhost:8080/",
          "height": 35
        },
        "outputId": "7e60f4f8-33f9-45f6-9fe7-b36b2263022d"
      },
      "source": [
        "print(\"-----------------------------------------------------------------------------------\")\n",
        "print(\"Considering change of plan in customer attrition\")\n",
        "print(\"Churned customers\")\n",
        "#labels\n",
        "labels = (data[data['CHURNED'] == 1]['CONSIDERING_CHANGE_OF_PLAN'] >= 0).value_counts().keys().tolist()\n",
        "\n",
        "#values\n",
        "values = (data[data['CHURNED'] == 1]['CONSIDERING_CHANGE_OF_PLAN'] >= 0).value_counts().values.tolist()\n",
        "explode = [0] * len(values)\n",
        "\n",
        "fig1, ax1 = plt.subplots()\n",
        "ax1.pie(values, explode=explode, labels=labels, autopct='%1.1f%%',\n",
        "        shadow=True, startangle=90)\n",
        "ax1.axis('equal')  # Equal aspect ratio ensures that pie is drawn as a circle.\n",
        "\n",
        "plt.show()\n",
        "\n",
        "print(\"Considering change of plan in customer attrition\")\n",
        "print(\"Non churned customers\")\n",
        "#labels\n",
        "labels = (data[data['CHURNED'] == 0]['CONSIDERING_CHANGE_OF_PLAN'] >= 0).value_counts().keys().tolist()\n",
        "\n",
        "#values\n",
        "values = (data[data['CHURNED'] == 0]['CONSIDERING_CHANGE_OF_PLAN'] >= 0).value_counts().values.tolist()\n",
        "explode = [0] * len(values)\n",
        "\n",
        "fig1, ax1 = plt.subplots()\n",
        "ax1.pie(values, explode=explode, labels=labels, autopct='%1.1f%%',\n",
        "        shadow=True, startangle=90)\n",
        "ax1.axis('equal')  # Equal aspect ratio ensures that pie is drawn as a circle.\n",
        "\n",
        "plt.show()"
      ],
      "execution_count": 67,
      "outputs": [
        {
          "output_type": "execute_result",
          "data": {
            "application/vnd.google.colaboratory.intrinsic+json": {
              "type": "string"
            },
            "text/plain": [
              "'CUSTOMER_ID'"
            ]
          },
          "metadata": {
            "tags": []
          },
          "execution_count": 67
        }
      ]
    },
    {
      "cell_type": "code",
      "metadata": {
        "id": "1T79yWnqFn4G",
        "colab_type": "code",
        "colab": {
          "base_uri": "https://localhost:8080/",
          "height": 594
        },
        "outputId": "7ea9fbc6-97b4-4b62-c614-a1500c937615"
      },
      "source": [
        "\n",
        "from sklearn.datasets import make_classification\n",
        "from sklearn.ensemble import ExtraTreesClassifier\n",
        "\n",
        "# Build a classification task using 3 informative features\n",
        "X = data[['COLLEGE', 'DATA', 'INCOME', 'OVERCHARGE', 'LEFTOVER', 'HOUSE',\n",
        "       'LESSTHAN600k', 'CHILD', 'JOB_CLASS',\n",
        "       'REVENUE', 'HANDSET_PRICE', 'OVER_15MINS_CALLS_PER_MONTH', 'TIME_CLIENT',\n",
        "       'AVERAGE_CALL_DURATION', 'REPORTED_SATISFACTION', 'REPORTED_USAGE_LEVEL',\n",
        "       'CONSIDERING_CHANGE_OF_PLAN']]\n",
        "\n",
        "y = data['CHURNED']\n",
        "\n",
        "# Build a forest and compute the impurity-based feature importances\n",
        "forest = ExtraTreesClassifier(n_estimators=250,\n",
        "                              random_state=0)\n",
        "\n",
        "forest.fit(X, y)\n",
        "importances = forest.feature_importances_\n",
        "std = np.std([tree.feature_importances_ for tree in forest.estimators_],\n",
        "             axis=0)\n",
        "indices = np.argsort(importances)[::-1]\n",
        "\n",
        "# Print the feature ranking\n",
        "print(\"Feature ranking:\")\n",
        "\n",
        "for f in range(X.shape[1]):\n",
        "    print(\"%d. feature %s (%f)\" % (f + 1, data.columns[indices[f]], importances[indices[f]]))\n",
        "\n",
        "# Plot the impurity-based feature importances of the forest\n",
        "plt.figure()\n",
        "plt.title(\"Feature importances\")\n",
        "plt.bar(range(X.shape[1]), importances[indices],\n",
        "        color=\"r\", yerr=std[indices], align=\"center\")\n",
        "plt.xticks(range(X.shape[1]), indices)\n",
        "plt.xlim([-1, X.shape[1]])\n",
        "plt.show()"
      ],
      "execution_count": 68,
      "outputs": [
        {
          "output_type": "stream",
          "text": [
            "Feature ranking:\n",
            "1. feature DATA (0.082526)\n",
            "2. feature INCOME (0.081593)\n",
            "3. feature HANDSET_PRICE (0.075035)\n",
            "4. feature COLLEGE (0.073604)\n",
            "5. feature LEFTOVER (0.072610)\n",
            "6. feature REVENUE (0.068185)\n",
            "7. feature AVERAGE_CALL_DURATION (0.066849)\n",
            "8. feature OVERCHARGE (0.060965)\n",
            "9. feature TIME_CLIENT (0.058859)\n",
            "10. feature OVER_15MINS_CALLS_PER_MONTH (0.055618)\n",
            "11. feature JOB_CLASS (0.052392)\n",
            "12. feature REPORTED_SATISFACTION (0.045980)\n",
            "13. feature LESSTHAN600k (0.045816)\n",
            "14. feature REPORTED_USAGE_LEVEL (0.045486)\n",
            "15. feature HOUSE (0.045168)\n",
            "16. feature CHILD (0.042080)\n",
            "17. feature CUSTOMER_ID (0.027233)\n"
          ],
          "name": "stdout"
        },
        {
          "output_type": "display_data",
          "data": {
            "image/png": "[encoded data removed]",
            "text/plain": [
              "<Figure size 432x288 with 1 Axes>"
            ]
          },
          "metadata": {
            "tags": [],
            "needs_background": "light"
          }
        }
      ]
    },
    {
      "cell_type": "markdown",
      "metadata": {
        "id": "lykyUFQDxtx5",
        "colab_type": "text"
      },
      "source": [
        "# Data preparation"
      ]
    },
    {
      "cell_type": "code",
      "metadata": {
        "id": "MEBlAgoDxtx8",
        "colab_type": "code",
        "colab": {
          "base_uri": "https://localhost:8080/",
          "height": 141
        },
        "outputId": "dd2da668-4b8e-4980-dbe1-4088d5b4ca20"
      },
      "source": [
        "from sklearn.model_selection import train_test_split \n",
        "from imblearn.over_sampling import SMOTE\n",
        "\n",
        "\n",
        "data = data.dropna()\n",
        "X = data[['COLLEGE', 'DATA', 'INCOME', 'OVERCHARGE', 'LEFTOVER', 'HOUSE',\n",
        "       'LESSTHAN600k', 'CHILD', 'JOB_CLASS',\n",
        "       'REVENUE', 'HANDSET_PRICE', 'OVER_15MINS_CALLS_PER_MONTH', 'TIME_CLIENT',\n",
        "       'AVERAGE_CALL_DURATION', 'REPORTED_SATISFACTION', 'REPORTED_USAGE_LEVEL',\n",
        "       'CONSIDERING_CHANGE_OF_PLAN']]\n",
        "\n",
        "y = data['CHURNED']\n",
        "\n",
        "X_train, X_test, y_train, y_test = train_test_split(X, y, test_size=0.25, random_state=40, stratify=y)\n",
        "sm = SMOTE(random_state=42, ratio=1.0)\n",
        "X_train_res, y_train_res = sm.fit_sample(X_train, y_train)"
      ],
      "execution_count": 4,
      "outputs": [
        {
          "output_type": "stream",
          "text": [
            "/usr/local/lib/python3.6/dist-packages/sklearn/externals/six.py:31: FutureWarning: The module is deprecated in version 0.21 and will be removed in version 0.23 since we've dropped support for Python 2.7. Please rely on the official version of six (https://pypi.org/project/six/).\n",
            "  \"(https://pypi.org/project/six/).\", FutureWarning)\n",
            "/usr/local/lib/python3.6/dist-packages/sklearn/utils/deprecation.py:144: FutureWarning: The sklearn.neighbors.base module is  deprecated in version 0.22 and will be removed in version 0.24. The corresponding classes / functions should instead be imported from sklearn.neighbors. Anything that cannot be imported from sklearn.neighbors is now part of the private API.\n",
            "  warnings.warn(message, FutureWarning)\n",
            "/usr/local/lib/python3.6/dist-packages/sklearn/utils/deprecation.py:87: FutureWarning: Function safe_indexing is deprecated; safe_indexing is deprecated in version 0.22 and will be removed in version 0.24.\n",
            "  warnings.warn(msg, category=FutureWarning)\n"
          ],
          "name": "stderr"
        }
      ]
    },
    {
      "cell_type": "markdown",
      "metadata": {
        "id": "tPc4PphXxtyD",
        "colab_type": "text"
      },
      "source": [
        "# Quick analysis"
      ]
    },
    {
      "cell_type": "code",
      "metadata": {
        "id": "4Ephw0brxtyF",
        "colab_type": "code",
        "colab": {},
        "outputId": "a0bec8f6-bed6-4058-a96f-399c030eb50b"
      },
      "source": [
        "# Quick check of some models in order to find out which one we could tune\n",
        "from sklearn.linear_model import LogisticRegression\n",
        "from sklearn.preprocessing import StandardScaler\n",
        "from sklearn.svm import LinearSVC\n",
        "from sklearn.naive_bayes import GaussianNB\n",
        "from sklearn.svm import SVC\n",
        "from sklearn.tree import DecisionTreeClassifier\n",
        "from sklearn.ensemble import RandomForestClassifier, GradientBoostingClassifier, AdaBoostClassifier\n",
        "from sklearn.metrics import roc_auc_score, roc_curve, classification_report, confusion_matrix, precision_score, \\\n",
        "recall_score\n",
        "import warnings\n",
        "\n",
        "warnings.filterwarnings(\"ignore\")\n",
        "\n",
        "\n",
        "def quick_test(model, X, y):\n",
        "    xtrain, xtest, ytrain, ytest = train_test_split(X, y, test_size=0.3)\n",
        "    model.fit(xtrain, ytrain)\n",
        "    return model.score(xtrain, ytrain), model.score(xtest, ytest)\n",
        "\n",
        "\n",
        "def quick_test_a_few_times(model, X, y, n=10):\n",
        "    return (pd.DataFrame([quick_test(model, X, y) for j in range(n)],\n",
        "                         columns=['Train Acc', 'Test Acc'])).mean()\n",
        "\n",
        "\n",
        "def get_scores(mod, label, X_train, y_train, X_test, y_test):\n",
        "    mod = mod.fit(X_train, y_train)\n",
        "    predictions = mod.predict(X_test)\n",
        "\n",
        "    print(f'**Model: {label}**')\n",
        "    print(f'Train accuracy: {round(mod.score(X_train, y_train), 4)}')\n",
        "    print(f'Test accuracy: {round(mod.score(X_test, y_test), 4)}')\n",
        "    print(f'Precision: {round(precision_score(y_test, predictions), 4)}')\n",
        "    print(f'Recall: {round(recall_score(y_test, predictions), 4)}')\n",
        "    print()\n",
        "    #print(classification_report(y_test, predictions))\n",
        "    #print()\n",
        "\n",
        "def evaluate_models(model_types: list, X_train, y_train, X_test, y_test):\n",
        "    for model in model_types:\n",
        "        m = model['model']\n",
        "        label = model['label']\n",
        "        quick_test_a_few_times(m, X_train, y_train)\n",
        "        get_scores(m, label, X_train, y_train, X_test, y_test)\n",
        "\n",
        "\n",
        "models = [\n",
        "    {\n",
        "        'label': 'Logistic Regression',\n",
        "        'model': LogisticRegression(),\n",
        "    },\n",
        "    {\n",
        "        'label': 'Gradient Boosting',\n",
        "        'model': GradientBoostingClassifier(),\n",
        "    },\n",
        "    {\n",
        "        'label': 'Random Forest',\n",
        "        'model': RandomForestClassifier(),\n",
        "    },\n",
        "    {\n",
        "        'label': 'AdaBoost Classifier',\n",
        "        'model': AdaBoostClassifier(),\n",
        "    },\n",
        "    {\n",
        "        'label': 'Decision Tree Classifier',\n",
        "        'model': DecisionTreeClassifier(),\n",
        "    },\n",
        "    #{\n",
        "    #    'label': 'Linear Support Vector Classifier',\n",
        "    #    'model': LinearSVC(),\n",
        "    #},\n",
        "    ##{ \n",
        "    ##    'label': 'SVC with rbf kernel',\n",
        "    #    'model':  SVC(kernel='rbf'),\n",
        "    #},\n",
        "    #{\n",
        "    #    'label': 'SVC with Polynomial kernel',\n",
        "    #    'model':  SVC(kernel='poly'),\n",
        "    #},\n",
        "    {\n",
        "        'label': 'Naive Bayes Classifier',\n",
        "        'model':  GaussianNB(),\n",
        "    }\n",
        "]\n",
        "\n",
        "evaluate_models(models, X_train_res, y_train_res, X_test, y_test)\n",
        "\n",
        "# TODO add some other models"
      ],
      "execution_count": null,
      "outputs": [
        {
          "output_type": "stream",
          "text": [
            "**Model: Logistic Regression**\n",
            "Train accuracy: 0.649\n",
            "Test accuracy: 0.6539\n",
            "Precision: 0.5197\n",
            "Recall: 0.6892\n",
            "\n",
            "**Model: Gradient Boosting**\n",
            "Train accuracy: 0.8409\n",
            "Test accuracy: 0.7769\n",
            "Precision: 0.6885\n",
            "Recall: 0.7104\n",
            "\n",
            "**Model: Random Forest**\n",
            "Train accuracy: 0.9915\n",
            "Test accuracy: 0.7448\n",
            "Precision: 0.6737\n",
            "Recall: 0.584\n",
            "\n",
            "**Model: AdaBoost Classifier**\n",
            "Train accuracy: 0.7911\n",
            "Test accuracy: 0.7258\n",
            "Precision: 0.6144\n",
            "Recall: 0.6689\n",
            "\n",
            "**Model: Decision Tree Classifier**\n",
            "Train accuracy: 1.0\n",
            "Test accuracy: 0.6944\n",
            "Precision: 0.5761\n",
            "Recall: 0.6178\n",
            "\n",
            "**Model: Naive Bayes Classifier**\n",
            "Train accuracy: 0.6273\n",
            "Test accuracy: 0.6412\n",
            "Precision: 0.5075\n",
            "Recall: 0.5888\n",
            "\n"
          ],
          "name": "stdout"
        }
      ]
    },
    {
      "cell_type": "markdown",
      "metadata": {
        "id": "S07WkXdtxtyP",
        "colab_type": "text"
      },
      "source": [
        "# ROC curve "
      ]
    },
    {
      "cell_type": "code",
      "metadata": {
        "scrolled": true,
        "id": "rRMz5xZ-xtyQ",
        "colab_type": "code",
        "colab": {},
        "outputId": "39e5e3de-0311-401a-b549-9c5e831a2ff1"
      },
      "source": [
        "plt.figure(figsize=(8, 8))\n",
        "\n",
        "# Iterate through the list of models\n",
        "for m in models:\n",
        "    model = m['model']  # select the model\n",
        "    model.fit(X_train_res, y_train_res)  # train the model\n",
        "    y_pred = model.predict(X_test)  # predict the test data\n",
        "    # Compute False postive rate, and True positive rate\n",
        "    fpr, tpr, thresholds = roc_curve(y_test, model.predict_proba(X_test)[:, 1])\n",
        "    # Calculate Area under the curve to display on the plot\n",
        "    auc = roc_auc_score(y_test, model.predict(X_test))\n",
        "    # Plot the computed values\n",
        "    plt.plot(fpr, tpr, label='%s ROC (area = %0.2f)' % (m['label'], auc))\n",
        "plt.xlim([0.0, 1.0])\n",
        "plt.ylim([0.0, 1.05])\n",
        "plt.xlabel('Specificity(False Positive Rate)', fontsize=12, labelpad=10)\n",
        "plt.ylabel('Sensitivity(True Positive Rate)', fontsize=12, labelpad=10)\n",
        "plt.title('Receiver Operating Characteristic (ROC) Curve', fontsize=12)\n",
        "plt.legend(loc=\"lower right\")\n",
        "plt.show()\n",
        "plt.savefig('ROC_curve.jpg', dpi=300)"
      ],
      "execution_count": null,
      "outputs": [
        {
          "output_type": "display_data",
          "data": {
            "image/png": "[encoded data removed]",
            "text/plain": [
              "<Figure size 576x576 with 1 Axes>"
            ]
          },
          "metadata": {
            "tags": [],
            "needs_background": "light"
          }
        },
        {
          "output_type": "display_data",
          "data": {
            "text/plain": [
              "<Figure size 432x288 with 0 Axes>"
            ]
          },
          "metadata": {
            "tags": []
          }
        }
      ]
    },
    {
      "cell_type": "markdown",
      "metadata": {
        "id": "JVRDQpvPxtyX",
        "colab_type": "text"
      },
      "source": [
        "# Generating the final csv"
      ]
    },
    {
      "cell_type": "markdown",
      "metadata": {
        "id": "qoosXQbsxtyY",
        "colab_type": "text"
      },
      "source": [
        "# Tuning the models\n",
        "So we start analysing the parameters of the chosen models\n"
      ]
    },
    {
      "cell_type": "markdown",
      "metadata": {
        "id": "1r58TrCDxtyb",
        "colab_type": "text"
      },
      "source": [
        "## Tuning the logistic regression model"
      ]
    },
    {
      "cell_type": "code",
      "metadata": {
        "id": "O9TavMvTxtyc",
        "colab_type": "code",
        "colab": {},
        "outputId": "2bfc21ba-4ee1-4157-a4dd-31976b4bb47f"
      },
      "source": [
        "from sklearn.pipeline import Pipeline\n",
        "from sklearn.model_selection import train_test_split, GridSearchCV, cross_val_predict, KFold\n",
        "\n",
        "tuned_models = {}\n",
        "pipe = Pipeline([('scaler', StandardScaler()), ('clf', LogisticRegression())])\n",
        "param_grid = [{'clf__C': [0.1, 0.8, 1, 1.1, 1.2, 1.3, 1.5, 1.6, 1.7, 1.8, 1.9, 5, 10],\n",
        "               'clf__class_weight': [None, 'balanced'],\n",
        "               'clf__solver': ['liblinear', 'sag', 'saga']}]\n",
        "gs = GridSearchCV(pipe, param_grid, cv=5, scoring='recall')\n",
        "gs.fit(X_train_res, y_train_res)"
      ],
      "execution_count": null,
      "outputs": [
        {
          "output_type": "execute_result",
          "data": {
            "text/plain": [
              "GridSearchCV(cv=5, error_score='raise-deprecating',\n",
              "             estimator=Pipeline(memory=None,\n",
              "                                steps=[('scaler',\n",
              "                                        StandardScaler(copy=True,\n",
              "                                                       with_mean=True,\n",
              "                                                       with_std=True)),\n",
              "                                       ('clf',\n",
              "                                        LogisticRegression(C=1.0,\n",
              "                                                           class_weight=None,\n",
              "                                                           dual=False,\n",
              "                                                           fit_intercept=True,\n",
              "                                                           intercept_scaling=1,\n",
              "                                                           l1_ratio=None,\n",
              "                                                           max_iter=100,\n",
              "                                                           multi_class='warn',\n",
              "                                                           n_jobs=None,\n",
              "                                                           penalty='l2',\n",
              "                                                           random_state=None,\n",
              "                                                           solver='warn',\n",
              "                                                           tol=0.0001,\n",
              "                                                           verbose=0,\n",
              "                                                           warm_start=False))],\n",
              "                                verbose=False),\n",
              "             iid='warn', n_jobs=None,\n",
              "             param_grid=[{'clf__C': [0.1, 0.8, 1, 1.1, 1.2, 1.3, 1.5, 1.6, 1.7,\n",
              "                                     1.8, 1.9, 5, 10],\n",
              "                          'clf__class_weight': [None, 'balanced'],\n",
              "                          'clf__solver': ['liblinear', 'sag', 'saga']}],\n",
              "             pre_dispatch='2*n_jobs', refit=True, return_train_score=False,\n",
              "             scoring='recall', verbose=0)"
            ]
          },
          "metadata": {
            "tags": []
          },
          "execution_count": 30
        }
      ]
    },
    {
      "cell_type": "code",
      "metadata": {
        "id": "86kvGkHixtyi",
        "colab_type": "code",
        "colab": {},
        "outputId": "9baa5aaa-aca6-475e-c11e-813ad97046b2"
      },
      "source": [
        "print(gs.best_score_)\n",
        "print(np.median(gs.cv_results_['mean_test_score']))\n",
        "pred2 = gs.predict(X_train)\n",
        "print(classification_report(y_train, pred2))\n",
        "tuned_models['Logistic Regression'] = gs"
      ],
      "execution_count": null,
      "outputs": [
        {
          "output_type": "stream",
          "text": [
            "0.7242592592592593\n",
            "0.7242592592592593\n",
            "              precision    recall  f1-score   support\n",
            "\n",
            "           0       0.82      0.70      0.75      5400\n",
            "           1       0.58      0.73      0.64      3109\n",
            "\n",
            "    accuracy                           0.71      8509\n",
            "   macro avg       0.70      0.71      0.70      8509\n",
            "weighted avg       0.73      0.71      0.71      8509\n",
            "\n"
          ],
          "name": "stdout"
        }
      ]
    },
    {
      "cell_type": "markdown",
      "metadata": {
        "id": "HQRY0uYfxtyr",
        "colab_type": "text"
      },
      "source": [
        "## Gradient boosting tuning"
      ]
    },
    {
      "cell_type": "code",
      "metadata": {
        "id": "CIiAAGWpxtyt",
        "colab_type": "code",
        "colab": {},
        "outputId": "38c99552-56dc-446d-9a47-f327174584d8"
      },
      "source": [
        "pipe = Pipeline([('scaler', StandardScaler()), ('clf', GradientBoostingClassifier())])\n",
        "param_grid = [{'clf__learning_rate': [0.01, 0.1, 0.2, 0.3, 0.4, 0.5, 1], 'clf__loss': ['deviance', 'exponential'],\n",
        "               'clf__n_estimators': [50, 100, 150], 'clf__max_depth': [2, 3, 4]}]\n",
        "gs = GridSearchCV(pipe, param_grid, cv=5, n_jobs=-1, scoring='recall')\n",
        "gs.fit(X_train_res, y_train_res)"
      ],
      "execution_count": null,
      "outputs": [
        {
          "output_type": "execute_result",
          "data": {
            "text/plain": [
              "GridSearchCV(cv=5, error_score='raise-deprecating',\n",
              "             estimator=Pipeline(memory=None,\n",
              "                                steps=[('scaler',\n",
              "                                        StandardScaler(copy=True,\n",
              "                                                       with_mean=True,\n",
              "                                                       with_std=True)),\n",
              "                                       ('clf',\n",
              "                                        GradientBoostingClassifier(criterion='friedman_mse',\n",
              "                                                                   init=None,\n",
              "                                                                   learning_rate=0.1,\n",
              "                                                                   loss='deviance',\n",
              "                                                                   max_depth=3,\n",
              "                                                                   max_features=None,\n",
              "                                                                   max_leaf_nodes=None,\n",
              "                                                                   min_impurity_decrease=0.0,\n",
              "                                                                   min_impurity_spli...\n",
              "                                                                   tol=0.0001,\n",
              "                                                                   validation_fraction=0.1,\n",
              "                                                                   verbose=0,\n",
              "                                                                   warm_start=False))],\n",
              "                                verbose=False),\n",
              "             iid='warn', n_jobs=-1,\n",
              "             param_grid=[{'clf__learning_rate': [0.01, 0.1, 0.2, 0.3, 0.4, 0.5,\n",
              "                                                 1],\n",
              "                          'clf__loss': ['deviance', 'exponential'],\n",
              "                          'clf__max_depth': [2, 3, 4],\n",
              "                          'clf__n_estimators': [50, 100, 150]}],\n",
              "             pre_dispatch='2*n_jobs', refit=True, return_train_score=False,\n",
              "             scoring='recall', verbose=0)"
            ]
          },
          "metadata": {
            "tags": []
          },
          "execution_count": 32
        }
      ]
    },
    {
      "cell_type": "code",
      "metadata": {
        "id": "gV3o-A9Gxty1",
        "colab_type": "code",
        "colab": {},
        "outputId": "13640e02-9cf0-46f5-a86c-76d53ed3f050"
      },
      "source": [
        "print(gs.best_score_)\n",
        "print(np.median(gs.cv_results_['mean_test_score']))\n",
        "pred2 = gs.predict(X_train)\n",
        "print(classification_report(y_train, pred2))\n",
        "tuned_models['Gradient Boosting'] = gs"
      ],
      "execution_count": null,
      "outputs": [
        {
          "output_type": "stream",
          "text": [
            "0.7977777777777778\n",
            "0.7853703703703704\n",
            "              precision    recall  f1-score   support\n",
            "\n",
            "           0       0.92      0.93      0.93      5400\n",
            "           1       0.88      0.85      0.87      3109\n",
            "\n",
            "    accuracy                           0.90      8509\n",
            "   macro avg       0.90      0.89      0.90      8509\n",
            "weighted avg       0.90      0.90      0.90      8509\n",
            "\n"
          ],
          "name": "stdout"
        }
      ]
    },
    {
      "cell_type": "markdown",
      "metadata": {
        "id": "I1l90Hl6xty9",
        "colab_type": "text"
      },
      "source": [
        "## Random Forest Tuning\n"
      ]
    },
    {
      "cell_type": "code",
      "metadata": {
        "id": "pPAoCa7Lxty_",
        "colab_type": "code",
        "colab": {},
        "outputId": "9ac4c0f9-5c21-4343-e141-0bc74cda5876"
      },
      "source": [
        "pipe = Pipeline([('scaler', StandardScaler()), ('clf', RandomForestClassifier())])\n",
        "param_grid = [{'clf__max_depth': [4, 5, 6], 'clf__max_features': [5, 10, 15], 'clf__n_estimators': [50, 100, 150]}]\n",
        "gs = GridSearchCV(pipe, param_grid, cv=5, n_jobs=-1, scoring='recall')\n",
        "gs.fit(X_train_res, y_train_res)"
      ],
      "execution_count": null,
      "outputs": [
        {
          "output_type": "execute_result",
          "data": {
            "text/plain": [
              "GridSearchCV(cv=5, error_score='raise-deprecating',\n",
              "             estimator=Pipeline(memory=None,\n",
              "                                steps=[('scaler',\n",
              "                                        StandardScaler(copy=True,\n",
              "                                                       with_mean=True,\n",
              "                                                       with_std=True)),\n",
              "                                       ('clf',\n",
              "                                        RandomForestClassifier(bootstrap=True,\n",
              "                                                               class_weight=None,\n",
              "                                                               criterion='gini',\n",
              "                                                               max_depth=None,\n",
              "                                                               max_features='auto',\n",
              "                                                               max_leaf_nodes=None,\n",
              "                                                               min_impurity_decrease=0.0,\n",
              "                                                               min_impurity_split=None,\n",
              "                                                               min_samples...\n",
              "                                                               min_weight_fraction_leaf=0.0,\n",
              "                                                               n_estimators='warn',\n",
              "                                                               n_jobs=None,\n",
              "                                                               oob_score=False,\n",
              "                                                               random_state=None,\n",
              "                                                               verbose=0,\n",
              "                                                               warm_start=False))],\n",
              "                                verbose=False),\n",
              "             iid='warn', n_jobs=-1,\n",
              "             param_grid=[{'clf__max_depth': [4, 5, 6],\n",
              "                          'clf__max_features': [5, 10, 15],\n",
              "                          'clf__n_estimators': [50, 100, 150]}],\n",
              "             pre_dispatch='2*n_jobs', refit=True, return_train_score=False,\n",
              "             scoring='recall', verbose=0)"
            ]
          },
          "metadata": {
            "tags": []
          },
          "execution_count": 34
        }
      ]
    },
    {
      "cell_type": "code",
      "metadata": {
        "id": "fZO1NZQ_xtzL",
        "colab_type": "code",
        "colab": {},
        "outputId": "f9c4a144-a119-42bd-d1d0-bc62ace4e7a0"
      },
      "source": [
        "print(gs.best_score_)\n",
        "print(np.median(gs.cv_results_['mean_test_score']))\n",
        "pred2 = gs.predict(X_train)\n",
        "print(classification_report(y_train, pred2))\n",
        "tuned_models['Random Forest'] = gs"
      ],
      "execution_count": null,
      "outputs": [
        {
          "output_type": "stream",
          "text": [
            "0.7994444444444444\n",
            "0.7737037037037037\n",
            "              precision    recall  f1-score   support\n",
            "\n",
            "           0       0.85      0.74      0.80      5400\n",
            "           1       0.64      0.78      0.70      3109\n",
            "\n",
            "    accuracy                           0.76      8509\n",
            "   macro avg       0.75      0.76      0.75      8509\n",
            "weighted avg       0.77      0.76      0.76      8509\n",
            "\n"
          ],
          "name": "stdout"
        }
      ]
    },
    {
      "cell_type": "markdown",
      "metadata": {
        "id": "VDIaWagjxtzU",
        "colab_type": "text"
      },
      "source": [
        "## Adaboost tuning"
      ]
    },
    {
      "cell_type": "code",
      "metadata": {
        "id": "ZDanj0yvxtzV",
        "colab_type": "code",
        "colab": {},
        "outputId": "bc1d3892-acb1-43e3-d2c5-b3a6ce0e8dab"
      },
      "source": [
        "pipe = Pipeline([('scaler', StandardScaler()), ('clf', AdaBoostClassifier())])\n",
        "param_grid = [{'clf__learning_rate': [0.01, 0.1, 0.5, 1, 1.1, 1.2], 'clf__algorithm': ['SAMME'], 'clf__n_estimators': [25, 50, 100]}]\n",
        "gs = GridSearchCV(pipe, param_grid, cv=5, n_jobs=-1, scoring='recall')\n",
        "gs.fit(X_train_res, y_train_res)"
      ],
      "execution_count": null,
      "outputs": [
        {
          "output_type": "execute_result",
          "data": {
            "text/plain": [
              "GridSearchCV(cv=5, error_score='raise-deprecating',\n",
              "             estimator=Pipeline(memory=None,\n",
              "                                steps=[('scaler',\n",
              "                                        StandardScaler(copy=True,\n",
              "                                                       with_mean=True,\n",
              "                                                       with_std=True)),\n",
              "                                       ('clf',\n",
              "                                        AdaBoostClassifier(algorithm='SAMME.R',\n",
              "                                                           base_estimator=None,\n",
              "                                                           learning_rate=1.0,\n",
              "                                                           n_estimators=50,\n",
              "                                                           random_state=None))],\n",
              "                                verbose=False),\n",
              "             iid='warn', n_jobs=-1,\n",
              "             param_grid=[{'clf__algorithm': ['SAMME'],\n",
              "                          'clf__learning_rate': [0.01, 0.1, 0.5, 1, 1.1, 1.2],\n",
              "                          'clf__n_estimators': [25, 50, 100]}],\n",
              "             pre_dispatch='2*n_jobs', refit=True, return_train_score=False,\n",
              "             scoring='recall', verbose=0)"
            ]
          },
          "metadata": {
            "tags": []
          },
          "execution_count": 36
        }
      ]
    },
    {
      "cell_type": "code",
      "metadata": {
        "id": "l2Zk3UY4xtzf",
        "colab_type": "code",
        "colab": {},
        "outputId": "cea5ba2d-8927-49fb-963c-62f68118b85d"
      },
      "source": [
        "print(gs.best_score_)\n",
        "print(np.median(gs.cv_results_['mean_test_score']))\n",
        "pred4 = gs.predict(X_train)\n",
        "print(classification_report(y_train, pred4))\n",
        "tuned_models[ 'AdaBoost Classifier'] = gs"
      ],
      "execution_count": null,
      "outputs": [
        {
          "output_type": "stream",
          "text": [
            "0.9466666666666667\n",
            "0.7553703703703704\n",
            "              precision    recall  f1-score   support\n",
            "\n",
            "           0       0.84      0.25      0.39      5400\n",
            "           1       0.41      0.92      0.57      3109\n",
            "\n",
            "    accuracy                           0.50      8509\n",
            "   macro avg       0.63      0.58      0.48      8509\n",
            "weighted avg       0.68      0.50      0.45      8509\n",
            "\n"
          ],
          "name": "stdout"
        }
      ]
    },
    {
      "cell_type": "markdown",
      "metadata": {
        "id": "sCMgdaT6xtzu",
        "colab_type": "text"
      },
      "source": [
        "## Decision tree tuning"
      ]
    },
    {
      "cell_type": "code",
      "metadata": {
        "id": "wGnLLPrBxtzx",
        "colab_type": "code",
        "colab": {},
        "outputId": "7e7de668-79ef-4029-fc21-972aebfb9da3"
      },
      "source": [
        "pipe = Pipeline([('scaler', StandardScaler()), ('clf', DecisionTreeClassifier())])\n",
        "param_grid = [{'clf__max_depth': [4, 5, 6], 'clf__max_features': [5, 10, 15]}]\n",
        "gs = GridSearchCV(pipe, param_grid, cv=5, n_jobs=-1, scoring='recall')\n",
        "gs.fit(X_train_res, y_train_res)"
      ],
      "execution_count": null,
      "outputs": [
        {
          "output_type": "execute_result",
          "data": {
            "text/plain": [
              "GridSearchCV(cv=5, error_score='raise-deprecating',\n",
              "             estimator=Pipeline(memory=None,\n",
              "                                steps=[('scaler',\n",
              "                                        StandardScaler(copy=True,\n",
              "                                                       with_mean=True,\n",
              "                                                       with_std=True)),\n",
              "                                       ('clf',\n",
              "                                        DecisionTreeClassifier(class_weight=None,\n",
              "                                                               criterion='gini',\n",
              "                                                               max_depth=None,\n",
              "                                                               max_features=None,\n",
              "                                                               max_leaf_nodes=None,\n",
              "                                                               min_impurity_decrease=0.0,\n",
              "                                                               min_impurity_split=None,\n",
              "                                                               min_samples_leaf=1,\n",
              "                                                               min_samples_split=2,\n",
              "                                                               min_weight_fraction_leaf=0.0,\n",
              "                                                               presort=False,\n",
              "                                                               random_state=None,\n",
              "                                                               splitter='best'))],\n",
              "                                verbose=False),\n",
              "             iid='warn', n_jobs=-1,\n",
              "             param_grid=[{'clf__max_depth': [4, 5, 6],\n",
              "                          'clf__max_features': [5, 10, 15]}],\n",
              "             pre_dispatch='2*n_jobs', refit=True, return_train_score=False,\n",
              "             scoring='recall', verbose=0)"
            ]
          },
          "metadata": {
            "tags": []
          },
          "execution_count": 38
        }
      ]
    },
    {
      "cell_type": "code",
      "metadata": {
        "id": "mkr6rydKxtz5",
        "colab_type": "code",
        "colab": {},
        "outputId": "cd979cef-657d-4b67-8f38-e613acb440bc"
      },
      "source": [
        "print(gs.best_score_)\n",
        "print(np.median(gs.cv_results_['mean_test_score']))\n",
        "pred2 = gs.predict(X_train)\n",
        "print(classification_report(y_train, pred2))\n",
        "tuned_models['Decision Tree Classifier'] = gs"
      ],
      "execution_count": null,
      "outputs": [
        {
          "output_type": "stream",
          "text": [
            "0.7842592592592592\n",
            "0.7403703703703703\n",
            "              precision    recall  f1-score   support\n",
            "\n",
            "           0       0.84      0.69      0.76      5400\n",
            "           1       0.59      0.77      0.67      3109\n",
            "\n",
            "    accuracy                           0.72      8509\n",
            "   macro avg       0.72      0.73      0.71      8509\n",
            "weighted avg       0.75      0.72      0.73      8509\n",
            "\n"
          ],
          "name": "stdout"
        }
      ]
    },
    {
      "cell_type": "markdown",
      "metadata": {
        "id": "p32QNXdtxt0C",
        "colab_type": "text"
      },
      "source": [
        "# ROC curve for tuned models"
      ]
    },
    {
      "cell_type": "code",
      "metadata": {
        "id": "NRE8Zreoxt0E",
        "colab_type": "code",
        "colab": {},
        "outputId": "04bac994-bd21-424b-df29-9494994b7a35"
      },
      "source": [
        "plt.figure(figsize=(8, 8))\n",
        "\n",
        "# Iterate through the list of models\n",
        "for label, model in tuned_models.items():\n",
        "    #model = m['model']  # select the model\n",
        "    #model.fit(X_train_res, y_train_res)  # train the model\n",
        "    y_pred = model.predict(X_test)  # predict the test data\n",
        "    # Compute False postive rate, and True positive rate\n",
        "    fpr, tpr, thresholds = roc_curve(y_test, model.predict_proba(X_test)[:, 1])\n",
        "    # Calculate Area under the curve to display on the plot\n",
        "    auc = roc_auc_score(y_test, model.predict(X_test))\n",
        "    # Plot the computed values\n",
        "    plt.plot(fpr, tpr, label='%s ROC (area = %0.2f)' % (label, auc))\n",
        "\n",
        "plt.xlim([0.0, 1.0])\n",
        "plt.ylim([0.0, 1.05])\n",
        "plt.xlabel('Specificity(False Positive Rate)', fontsize=12, labelpad=10)\n",
        "plt.ylabel('Sensitivity(True Positive Rate)', fontsize=12, labelpad=10)\n",
        "plt.title('Receiver Operating Characteristic (ROC) Curve', fontsize=12)\n",
        "plt.legend(loc=\"lower right\")\n",
        "plt.show()\n",
        "plt.savefig('ROC_curve_tuned.jpg', dpi=300)"
      ],
      "execution_count": null,
      "outputs": [
        {
          "output_type": "display_data",
          "data": {
            "image/png": "[encoded data removed]",
            "text/plain": [
              "<Figure size 576x576 with 1 Axes>"
            ]
          },
          "metadata": {
            "tags": [],
            "needs_background": "light"
          }
        },
        {
          "output_type": "display_data",
          "data": {
            "text/plain": [
              "<Figure size 432x288 with 0 Axes>"
            ]
          },
          "metadata": {
            "tags": []
          }
        }
      ]
    },
    {
      "cell_type": "markdown",
      "metadata": {
        "id": "-VJVVXX8xt0L",
        "colab_type": "text"
      },
      "source": [
        "# Predicting the price \n",
        "We would search for each client the discount what will maximaze the expected value of revenue (including overcharge)\n",
        "So we chose the Gradient Boosting model as it predicts our data the best"
      ]
    },
    {
      "cell_type": "code",
      "metadata": {
        "id": "oxztonSvxt0L",
        "colab_type": "code",
        "colab": {},
        "outputId": "6d08557f-f96a-4a84-9379-3944a3c97d9c"
      },
      "source": [
        "df = pd.read_csv('validation.csv')\n",
        "df = df.fillna(method='ffill')\n",
        "\n",
        "\n",
        "df['COLLEGE'] = df['COLLEGE'].replace('zero', 0)\n",
        "df['COLLEGE'] = df['COLLEGE'].replace('one', 1)\n",
        "\n",
        "transform_dict = {'REPORTED_SATISFACTION':{'very_unsat': -2, 'unsat': -1, 'avg': 0, 'sat': 1, 'very_sat': 2}, \n",
        "                  'REPORTED_USAGE_LEVEL': {'very_little': -2, 'little': -1, 'avg': 0, 'high': 1, 'very_high': 2},\n",
        "                  'CONSIDERING_CHANGE_OF_PLAN' : {'never_thought': -2, 'no': -1, 'perhaps': 0, \n",
        "                                                  'considering': 1, 'actively_looking_into_it': 2}}\n",
        "\n",
        "for key in transform_dict.keys():\n",
        "    df[key] = df[key].map(transform_dict[key])\n",
        "    \n",
        "X_val =  df.drop('CUSTOMER_ID', axis=1)\n",
        "model = tuned_models['Gradient Boosting']\n",
        "y_pred = model.predict(X_val)\n",
        "df.head()"
      ],
      "execution_count": null,
      "outputs": [
        {
          "output_type": "execute_result",
          "data": {
            "text/html": [
              "<div>\n",
              "<style scoped>\n",
              "    .dataframe tbody tr th:only-of-type {\n",
              "        vertical-align: middle;\n",
              "    }\n",
              "\n",
              "    .dataframe tbody tr th {\n",
              "        vertical-align: top;\n",
              "    }\n",
              "\n",
              "    .dataframe thead th {\n",
              "        text-align: right;\n",
              "    }\n",
              "</style>\n",
              "<table border=\"1\" class=\"dataframe\">\n",
              "  <thead>\n",
              "    <tr style=\"text-align: right;\">\n",
              "      <th></th>\n",
              "      <th>CUSTOMER_ID</th>\n",
              "      <th>COLLEGE</th>\n",
              "      <th>DATA</th>\n",
              "      <th>INCOME</th>\n",
              "      <th>OVERCHARGE</th>\n",
              "      <th>LEFTOVER</th>\n",
              "      <th>HOUSE</th>\n",
              "      <th>LESSTHAN600k</th>\n",
              "      <th>CHILD</th>\n",
              "      <th>JOB_CLASS</th>\n",
              "      <th>REVENUE</th>\n",
              "      <th>HANDSET_PRICE</th>\n",
              "      <th>OVER_15MINS_CALLS_PER_MONTH</th>\n",
              "      <th>TIME_CLIENT</th>\n",
              "      <th>AVERAGE_CALL_DURATION</th>\n",
              "      <th>REPORTED_SATISFACTION</th>\n",
              "      <th>REPORTED_USAGE_LEVEL</th>\n",
              "      <th>CONSIDERING_CHANGE_OF_PLAN</th>\n",
              "    </tr>\n",
              "  </thead>\n",
              "  <tbody>\n",
              "    <tr>\n",
              "      <th>0</th>\n",
              "      <td>C100002</td>\n",
              "      <td>1</td>\n",
              "      <td>80.000000</td>\n",
              "      <td>45452.5</td>\n",
              "      <td>75</td>\n",
              "      <td>65</td>\n",
              "      <td>342741.0</td>\n",
              "      <td>True</td>\n",
              "      <td>3</td>\n",
              "      <td>1</td>\n",
              "      <td>149.0</td>\n",
              "      <td>300</td>\n",
              "      <td>3</td>\n",
              "      <td>2.2</td>\n",
              "      <td>2</td>\n",
              "      <td>-1</td>\n",
              "      <td>-1</td>\n",
              "      <td>1</td>\n",
              "    </tr>\n",
              "    <tr>\n",
              "      <th>1</th>\n",
              "      <td>C100003</td>\n",
              "      <td>0</td>\n",
              "      <td>536.842105</td>\n",
              "      <td>40703.5</td>\n",
              "      <td>90</td>\n",
              "      <td>0</td>\n",
              "      <td>215904.0</td>\n",
              "      <td>True</td>\n",
              "      <td>1</td>\n",
              "      <td>1</td>\n",
              "      <td>176.0</td>\n",
              "      <td>384</td>\n",
              "      <td>4</td>\n",
              "      <td>2.4</td>\n",
              "      <td>13</td>\n",
              "      <td>-1</td>\n",
              "      <td>2</td>\n",
              "      <td>2</td>\n",
              "    </tr>\n",
              "    <tr>\n",
              "      <th>2</th>\n",
              "      <td>C100004</td>\n",
              "      <td>0</td>\n",
              "      <td>256.578947</td>\n",
              "      <td>35563.0</td>\n",
              "      <td>52</td>\n",
              "      <td>0</td>\n",
              "      <td>341828.0</td>\n",
              "      <td>True</td>\n",
              "      <td>2</td>\n",
              "      <td>3</td>\n",
              "      <td>124.0</td>\n",
              "      <td>371</td>\n",
              "      <td>5</td>\n",
              "      <td>2.3</td>\n",
              "      <td>12</td>\n",
              "      <td>2</td>\n",
              "      <td>0</td>\n",
              "      <td>1</td>\n",
              "    </tr>\n",
              "    <tr>\n",
              "      <th>3</th>\n",
              "      <td>C100005</td>\n",
              "      <td>0</td>\n",
              "      <td>466.666667</td>\n",
              "      <td>66072.5</td>\n",
              "      <td>0</td>\n",
              "      <td>8</td>\n",
              "      <td>257222.0</td>\n",
              "      <td>True</td>\n",
              "      <td>3</td>\n",
              "      <td>1</td>\n",
              "      <td>279.0</td>\n",
              "      <td>324</td>\n",
              "      <td>1</td>\n",
              "      <td>2.8</td>\n",
              "      <td>5</td>\n",
              "      <td>2</td>\n",
              "      <td>-2</td>\n",
              "      <td>2</td>\n",
              "    </tr>\n",
              "    <tr>\n",
              "      <th>4</th>\n",
              "      <td>C100007</td>\n",
              "      <td>0</td>\n",
              "      <td>150.000000</td>\n",
              "      <td>21901.5</td>\n",
              "      <td>0</td>\n",
              "      <td>0</td>\n",
              "      <td>800811.0</td>\n",
              "      <td>False</td>\n",
              "      <td>1</td>\n",
              "      <td>3</td>\n",
              "      <td>128.0</td>\n",
              "      <td>164</td>\n",
              "      <td>1</td>\n",
              "      <td>1.5</td>\n",
              "      <td>12</td>\n",
              "      <td>0</td>\n",
              "      <td>2</td>\n",
              "      <td>0</td>\n",
              "    </tr>\n",
              "  </tbody>\n",
              "</table>\n",
              "</div>"
            ],
            "text/plain": [
              "  CUSTOMER_ID  COLLEGE        DATA   INCOME  OVERCHARGE  LEFTOVER     HOUSE  \\\n",
              "0     C100002        1   80.000000  45452.5          75        65  342741.0   \n",
              "1     C100003        0  536.842105  40703.5          90         0  215904.0   \n",
              "2     C100004        0  256.578947  35563.0          52         0  341828.0   \n",
              "3     C100005        0  466.666667  66072.5           0         8  257222.0   \n",
              "4     C100007        0  150.000000  21901.5           0         0  800811.0   \n",
              "\n",
              "   LESSTHAN600k  CHILD  JOB_CLASS  REVENUE  HANDSET_PRICE  \\\n",
              "0          True      3          1    149.0            300   \n",
              "1          True      1          1    176.0            384   \n",
              "2          True      2          3    124.0            371   \n",
              "3          True      3          1    279.0            324   \n",
              "4         False      1          3    128.0            164   \n",
              "\n",
              "   OVER_15MINS_CALLS_PER_MONTH  TIME_CLIENT  AVERAGE_CALL_DURATION  \\\n",
              "0                            3          2.2                      2   \n",
              "1                            4          2.4                     13   \n",
              "2                            5          2.3                     12   \n",
              "3                            1          2.8                      5   \n",
              "4                            1          1.5                     12   \n",
              "\n",
              "   REPORTED_SATISFACTION  REPORTED_USAGE_LEVEL  CONSIDERING_CHANGE_OF_PLAN  \n",
              "0                     -1                    -1                           1  \n",
              "1                     -1                     2                           2  \n",
              "2                      2                     0                           1  \n",
              "3                      2                    -2                           2  \n",
              "4                      0                     2                           0  "
            ]
          },
          "metadata": {
            "tags": []
          },
          "execution_count": 53
        }
      ]
    },
    {
      "cell_type": "markdown",
      "metadata": {
        "id": "yISz338Vxt0Y",
        "colab_type": "text"
      },
      "source": [
        "So, the per cent of clients that will not churn:"
      ]
    },
    {
      "cell_type": "code",
      "metadata": {
        "id": "BqnL4Ctpxt0a",
        "colab_type": "code",
        "colab": {},
        "outputId": "aa1afbf9-8fad-4fc4-a429-52d6a39cb020"
      },
      "source": [
        "1 - sum(y_pred)/len(y_pred)"
      ],
      "execution_count": null,
      "outputs": [
        {
          "output_type": "execute_result",
          "data": {
            "text/plain": [
              "0.6629100926621587"
            ]
          },
          "metadata": {
            "tags": []
          },
          "execution_count": 54
        }
      ]
    },
    {
      "cell_type": "code",
      "metadata": {
        "id": "-iSkcLF9xt0h",
        "colab_type": "code",
        "colab": {}
      },
      "source": [
        "discounts = []\n",
        "gains = []\n",
        "should_contacts = []\n",
        "    \n",
        "for index, client in df.iterrows():\n",
        "    client = client.drop('CUSTOMER_ID')\n",
        "    rev = client['REVENUE']\n",
        "    over = client['OVERCHARGE']\n",
        "\n",
        "    discount_vals = np.linspace(0, rev, 101)\n",
        "    disc_max = 0\n",
        "    max_e = 0\n",
        "    for discount in discount_vals:\n",
        "        client['REVENUE'] = rev - discount\n",
        "        client_val = client.values.reshape(1, -1)\n",
        "        client_proba = model.predict_proba(client_val)\n",
        "        gain = client_proba[0][0] * (rev + over) - discount\n",
        "        if discount != 0:\n",
        "            gain -= 10\n",
        "        if gain > max_e:\n",
        "            max_e = gain\n",
        "            disc_max = discount\n",
        "        \n",
        "    if disc_max == 0:\n",
        "        discount_vals = np.linspace(0, over, 101)\n",
        "\n",
        "        for discount in discount_vals:\n",
        "            client['REVENUE'] = 0\n",
        "            client['OVERCHARGE'] = over - discount\n",
        "            client_val = client.values.reshape(1, -1)\n",
        "            client_proba = model.predict_proba(client_val)\n",
        "            gain = client_proba[0][0] * (over) -  discount\n",
        "            if discount != 0:\n",
        "                gain -= 10\n",
        "            if gain > max_e:\n",
        "                max_e = gain\n",
        "                disc_max = discount\n",
        "\n",
        "               \n",
        "    discounts.append(disc_max)\n",
        "    gains.append(max_e)\n",
        "    "
      ],
      "execution_count": null,
      "outputs": []
    },
    {
      "cell_type": "code",
      "metadata": {
        "id": "WRvR_mNcxt0y",
        "colab_type": "code",
        "colab": {}
      },
      "source": [
        "should_contacts = [0 if disc == 0 else 1 for disc in discounts]\n",
        "df['DISCOUNT'] = discounts\n",
        "df['CLIENT_TO_CONTACT'] = should_contacts\n"
      ],
      "execution_count": null,
      "outputs": []
    },
    {
      "cell_type": "markdown",
      "metadata": {
        "id": "NUEhJDbPxt05",
        "colab_type": "text"
      },
      "source": [
        "And the per cent of clients that will not churn after discounts:"
      ]
    },
    {
      "cell_type": "code",
      "metadata": {
        "id": "utYY0TEfxt07",
        "colab_type": "code",
        "colab": {},
        "outputId": "7326d731-4043-494d-fb9e-9f39c68641d7"
      },
      "source": [
        "(len(y_pred) - sum(y_pred) + sum(should_contacts))/len(y_pred)"
      ],
      "execution_count": null,
      "outputs": [
        {
          "output_type": "execute_result",
          "data": {
            "text/plain": [
              "0.7385424492862509"
            ]
          },
          "metadata": {
            "tags": []
          },
          "execution_count": 62
        }
      ]
    },
    {
      "cell_type": "code",
      "metadata": {
        "id": "_NRu0gv5xt1B",
        "colab_type": "code",
        "colab": {},
        "outputId": "7183a621-47ac-4153-e429-361cfa722725"
      },
      "source": [
        "df['CHURN_LABEL'] = y_pred\n",
        "df['CHURN_LABEL'] = df['CHURN_LABEL'].replace(1, 'LEAVE')\n",
        "df['CHURN_LABEL'] = df['CHURN_LABEL'].replace(0, 'STAY')\n",
        "\n",
        "proba = model.predict_proba(X_val)[:, 1]\n",
        "df['CHURN_PROBABILITY'] = proba\n",
        "df['CLIENT_TO_CONTACT'] = df['CLIENT_TO_CONTACT'].replace(1, 'YES')\n",
        "df['CLIENT_TO_CONTACT'] = df['CLIENT_TO_CONTACT'].replace(0, 'NO')\n",
        "df.head()"
      ],
      "execution_count": null,
      "outputs": [
        {
          "output_type": "execute_result",
          "data": {
            "text/html": [
              "<div>\n",
              "<style scoped>\n",
              "    .dataframe tbody tr th:only-of-type {\n",
              "        vertical-align: middle;\n",
              "    }\n",
              "\n",
              "    .dataframe tbody tr th {\n",
              "        vertical-align: top;\n",
              "    }\n",
              "\n",
              "    .dataframe thead th {\n",
              "        text-align: right;\n",
              "    }\n",
              "</style>\n",
              "<table border=\"1\" class=\"dataframe\">\n",
              "  <thead>\n",
              "    <tr style=\"text-align: right;\">\n",
              "      <th></th>\n",
              "      <th>CUSTOMER_ID</th>\n",
              "      <th>COLLEGE</th>\n",
              "      <th>DATA</th>\n",
              "      <th>INCOME</th>\n",
              "      <th>OVERCHARGE</th>\n",
              "      <th>LEFTOVER</th>\n",
              "      <th>HOUSE</th>\n",
              "      <th>LESSTHAN600k</th>\n",
              "      <th>CHILD</th>\n",
              "      <th>JOB_CLASS</th>\n",
              "      <th>...</th>\n",
              "      <th>OVER_15MINS_CALLS_PER_MONTH</th>\n",
              "      <th>TIME_CLIENT</th>\n",
              "      <th>AVERAGE_CALL_DURATION</th>\n",
              "      <th>REPORTED_SATISFACTION</th>\n",
              "      <th>REPORTED_USAGE_LEVEL</th>\n",
              "      <th>CONSIDERING_CHANGE_OF_PLAN</th>\n",
              "      <th>DISCOUNT</th>\n",
              "      <th>CLIENT_TO_CONTACT</th>\n",
              "      <th>CHURN_LABEL</th>\n",
              "      <th>CHURN_PROBABILITY</th>\n",
              "    </tr>\n",
              "  </thead>\n",
              "  <tbody>\n",
              "    <tr>\n",
              "      <th>0</th>\n",
              "      <td>C100002</td>\n",
              "      <td>1</td>\n",
              "      <td>80.000000</td>\n",
              "      <td>45452.5</td>\n",
              "      <td>75</td>\n",
              "      <td>65</td>\n",
              "      <td>342741.0</td>\n",
              "      <td>True</td>\n",
              "      <td>3</td>\n",
              "      <td>1</td>\n",
              "      <td>...</td>\n",
              "      <td>3</td>\n",
              "      <td>2.2</td>\n",
              "      <td>2</td>\n",
              "      <td>-1</td>\n",
              "      <td>-1</td>\n",
              "      <td>1</td>\n",
              "      <td>0.0</td>\n",
              "      <td>NO</td>\n",
              "      <td>LEAVE</td>\n",
              "      <td>0.767841</td>\n",
              "    </tr>\n",
              "    <tr>\n",
              "      <th>1</th>\n",
              "      <td>C100003</td>\n",
              "      <td>0</td>\n",
              "      <td>536.842105</td>\n",
              "      <td>40703.5</td>\n",
              "      <td>90</td>\n",
              "      <td>0</td>\n",
              "      <td>215904.0</td>\n",
              "      <td>True</td>\n",
              "      <td>1</td>\n",
              "      <td>1</td>\n",
              "      <td>...</td>\n",
              "      <td>4</td>\n",
              "      <td>2.4</td>\n",
              "      <td>13</td>\n",
              "      <td>-1</td>\n",
              "      <td>2</td>\n",
              "      <td>2</td>\n",
              "      <td>0.0</td>\n",
              "      <td>NO</td>\n",
              "      <td>LEAVE</td>\n",
              "      <td>0.557439</td>\n",
              "    </tr>\n",
              "    <tr>\n",
              "      <th>2</th>\n",
              "      <td>C100004</td>\n",
              "      <td>0</td>\n",
              "      <td>256.578947</td>\n",
              "      <td>35563.0</td>\n",
              "      <td>52</td>\n",
              "      <td>0</td>\n",
              "      <td>341828.0</td>\n",
              "      <td>True</td>\n",
              "      <td>2</td>\n",
              "      <td>3</td>\n",
              "      <td>...</td>\n",
              "      <td>5</td>\n",
              "      <td>2.3</td>\n",
              "      <td>12</td>\n",
              "      <td>2</td>\n",
              "      <td>0</td>\n",
              "      <td>1</td>\n",
              "      <td>0.0</td>\n",
              "      <td>NO</td>\n",
              "      <td>STAY</td>\n",
              "      <td>0.008556</td>\n",
              "    </tr>\n",
              "    <tr>\n",
              "      <th>3</th>\n",
              "      <td>C100005</td>\n",
              "      <td>0</td>\n",
              "      <td>466.666667</td>\n",
              "      <td>66072.5</td>\n",
              "      <td>0</td>\n",
              "      <td>8</td>\n",
              "      <td>257222.0</td>\n",
              "      <td>True</td>\n",
              "      <td>3</td>\n",
              "      <td>1</td>\n",
              "      <td>...</td>\n",
              "      <td>1</td>\n",
              "      <td>2.8</td>\n",
              "      <td>5</td>\n",
              "      <td>2</td>\n",
              "      <td>-2</td>\n",
              "      <td>2</td>\n",
              "      <td>0.0</td>\n",
              "      <td>NO</td>\n",
              "      <td>STAY</td>\n",
              "      <td>0.006468</td>\n",
              "    </tr>\n",
              "    <tr>\n",
              "      <th>4</th>\n",
              "      <td>C100007</td>\n",
              "      <td>0</td>\n",
              "      <td>150.000000</td>\n",
              "      <td>21901.5</td>\n",
              "      <td>0</td>\n",
              "      <td>0</td>\n",
              "      <td>800811.0</td>\n",
              "      <td>False</td>\n",
              "      <td>1</td>\n",
              "      <td>3</td>\n",
              "      <td>...</td>\n",
              "      <td>1</td>\n",
              "      <td>1.5</td>\n",
              "      <td>12</td>\n",
              "      <td>0</td>\n",
              "      <td>2</td>\n",
              "      <td>0</td>\n",
              "      <td>0.0</td>\n",
              "      <td>NO</td>\n",
              "      <td>STAY</td>\n",
              "      <td>0.000261</td>\n",
              "    </tr>\n",
              "  </tbody>\n",
              "</table>\n",
              "<p>5 rows × 22 columns</p>\n",
              "</div>"
            ],
            "text/plain": [
              "  CUSTOMER_ID  COLLEGE        DATA   INCOME  OVERCHARGE  LEFTOVER     HOUSE  \\\n",
              "0     C100002        1   80.000000  45452.5          75        65  342741.0   \n",
              "1     C100003        0  536.842105  40703.5          90         0  215904.0   \n",
              "2     C100004        0  256.578947  35563.0          52         0  341828.0   \n",
              "3     C100005        0  466.666667  66072.5           0         8  257222.0   \n",
              "4     C100007        0  150.000000  21901.5           0         0  800811.0   \n",
              "\n",
              "   LESSTHAN600k  CHILD  JOB_CLASS  ...  OVER_15MINS_CALLS_PER_MONTH  \\\n",
              "0          True      3          1  ...                            3   \n",
              "1          True      1          1  ...                            4   \n",
              "2          True      2          3  ...                            5   \n",
              "3          True      3          1  ...                            1   \n",
              "4         False      1          3  ...                            1   \n",
              "\n",
              "   TIME_CLIENT  AVERAGE_CALL_DURATION  REPORTED_SATISFACTION  \\\n",
              "0          2.2                      2                     -1   \n",
              "1          2.4                     13                     -1   \n",
              "2          2.3                     12                      2   \n",
              "3          2.8                      5                      2   \n",
              "4          1.5                     12                      0   \n",
              "\n",
              "   REPORTED_USAGE_LEVEL  CONSIDERING_CHANGE_OF_PLAN  DISCOUNT  \\\n",
              "0                    -1                           1       0.0   \n",
              "1                     2                           2       0.0   \n",
              "2                     0                           1       0.0   \n",
              "3                    -2                           2       0.0   \n",
              "4                     2                           0       0.0   \n",
              "\n",
              "   CLIENT_TO_CONTACT  CHURN_LABEL CHURN_PROBABILITY  \n",
              "0                 NO        LEAVE          0.767841  \n",
              "1                 NO        LEAVE          0.557439  \n",
              "2                 NO         STAY          0.008556  \n",
              "3                 NO         STAY          0.006468  \n",
              "4                 NO         STAY          0.000261  \n",
              "\n",
              "[5 rows x 22 columns]"
            ]
          },
          "metadata": {
            "tags": []
          },
          "execution_count": 63
        }
      ]
    },
    {
      "cell_type": "code",
      "metadata": {
        "id": "EFQow9yQxt1M",
        "colab_type": "code",
        "colab": {},
        "outputId": "125c3e3d-3744-489e-e8db-3de9fd30d414"
      },
      "source": [
        "save_df = df[['CUSTOMER_ID', 'CHURN_PROBABILITY', 'CHURN_LABEL', 'CLIENT_TO_CONTACT', 'DISCOUNT']]\n",
        "save_df = save_df.sort_values(by=['CHURN_PROBABILITY'], ascending=False)\n",
        "save_df.head()"
      ],
      "execution_count": null,
      "outputs": [
        {
          "output_type": "execute_result",
          "data": {
            "text/html": [
              "<div>\n",
              "<style scoped>\n",
              "    .dataframe tbody tr th:only-of-type {\n",
              "        vertical-align: middle;\n",
              "    }\n",
              "\n",
              "    .dataframe tbody tr th {\n",
              "        vertical-align: top;\n",
              "    }\n",
              "\n",
              "    .dataframe thead th {\n",
              "        text-align: right;\n",
              "    }\n",
              "</style>\n",
              "<table border=\"1\" class=\"dataframe\">\n",
              "  <thead>\n",
              "    <tr style=\"text-align: right;\">\n",
              "      <th></th>\n",
              "      <th>CUSTOMER_ID</th>\n",
              "      <th>CHURN_PROBABILITY</th>\n",
              "      <th>CHURN_LABEL</th>\n",
              "      <th>CLIENT_TO_CONTACT</th>\n",
              "      <th>DISCOUNT</th>\n",
              "    </tr>\n",
              "  </thead>\n",
              "  <tbody>\n",
              "    <tr>\n",
              "      <th>2203</th>\n",
              "      <td>C108850</td>\n",
              "      <td>0.999609</td>\n",
              "      <td>LEAVE</td>\n",
              "      <td>NO</td>\n",
              "      <td>0.0</td>\n",
              "    </tr>\n",
              "    <tr>\n",
              "      <th>3561</th>\n",
              "      <td>C114192</td>\n",
              "      <td>0.999350</td>\n",
              "      <td>LEAVE</td>\n",
              "      <td>NO</td>\n",
              "      <td>0.0</td>\n",
              "    </tr>\n",
              "    <tr>\n",
              "      <th>2604</th>\n",
              "      <td>C110467</td>\n",
              "      <td>0.999325</td>\n",
              "      <td>LEAVE</td>\n",
              "      <td>NO</td>\n",
              "      <td>0.0</td>\n",
              "    </tr>\n",
              "    <tr>\n",
              "      <th>190</th>\n",
              "      <td>C100748</td>\n",
              "      <td>0.999272</td>\n",
              "      <td>LEAVE</td>\n",
              "      <td>NO</td>\n",
              "      <td>0.0</td>\n",
              "    </tr>\n",
              "    <tr>\n",
              "      <th>1406</th>\n",
              "      <td>C105620</td>\n",
              "      <td>0.999261</td>\n",
              "      <td>LEAVE</td>\n",
              "      <td>NO</td>\n",
              "      <td>0.0</td>\n",
              "    </tr>\n",
              "  </tbody>\n",
              "</table>\n",
              "</div>"
            ],
            "text/plain": [
              "     CUSTOMER_ID  CHURN_PROBABILITY CHURN_LABEL CLIENT_TO_CONTACT  DISCOUNT\n",
              "2203     C108850           0.999609       LEAVE                NO       0.0\n",
              "3561     C114192           0.999350       LEAVE                NO       0.0\n",
              "2604     C110467           0.999325       LEAVE                NO       0.0\n",
              "190      C100748           0.999272       LEAVE                NO       0.0\n",
              "1406     C105620           0.999261       LEAVE                NO       0.0"
            ]
          },
          "metadata": {
            "tags": []
          },
          "execution_count": 70
        }
      ]
    },
    {
      "cell_type": "code",
      "metadata": {
        "id": "btJjwBnDxt1R",
        "colab_type": "code",
        "colab": {}
      },
      "source": [
        "save_df.to_csv('result.csv')"
      ],
      "execution_count": null,
      "outputs": []
    },
    {
      "cell_type": "code",
      "metadata": {
        "id": "JeDR0IH_xt1a",
        "colab_type": "code",
        "colab": {}
      },
      "source": [
        ""
      ],
      "execution_count": null,
      "outputs": []
    }
  ]
}